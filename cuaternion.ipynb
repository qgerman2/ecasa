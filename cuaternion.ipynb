{
 "cells": [
  {
   "cell_type": "code",
   "execution_count": 50,
   "metadata": {},
   "outputs": [],
   "source": [
    "import time\n",
    "import keyboard\n",
    "import k3d\n",
    "import pandas as pd"
   ]
  },
  {
   "cell_type": "code",
   "execution_count": 51,
   "metadata": {},
   "outputs": [
    {
     "data": {
      "text/latex": [
       "$\\displaystyle \\frac{d}{d t} v_{x}{\\left(t \\right)} = \\frac{\\left(2 q_{0}{\\left(t \\right)} q_{2}{\\left(t \\right)} + 2 q_{1}{\\left(t \\right)} q_{3}{\\left(t \\right)}\\right) T{\\left(t \\right)} \\sin{\\left(T_{\\phi}{\\left(t \\right)} \\right)} \\sin{\\left(T_{\\theta}{\\left(t \\right)} \\right)} + \\left(- 2 q_{0}{\\left(t \\right)} q_{3}{\\left(t \\right)} + 2 q_{1}{\\left(t \\right)} q_{2}{\\left(t \\right)}\\right) T{\\left(t \\right)} \\sin{\\left(T_{\\theta}{\\left(t \\right)} \\right)} \\cos{\\left(T_{\\phi}{\\left(t \\right)} \\right)} + \\left(2 q_{0}^{2}{\\left(t \\right)} + 2 q_{1}^{2}{\\left(t \\right)} - 1\\right) T{\\left(t \\right)} \\cos{\\left(T_{\\theta}{\\left(t \\right)} \\right)}}{m}$"
      ],
      "text/plain": [
       "Eq(Derivative(v_x(t), t), ((2*q0(t)*q2(t) + 2*q1(t)*q3(t))*T(t)*sin(T_phi(t))*sin(T_theta(t)) + (-2*q0(t)*q3(t) + 2*q1(t)*q2(t))*T(t)*sin(T_theta(t))*cos(T_phi(t)) + (2*q0(t)**2 + 2*q1(t)**2 - 1)*T(t)*cos(T_theta(t)))/m)"
      ]
     },
     "metadata": {},
     "output_type": "display_data"
    },
    {
     "data": {
      "text/latex": [
       "$\\displaystyle \\frac{d}{d t} v_{y}{\\left(t \\right)} = \\frac{\\left(- 2 q_{0}{\\left(t \\right)} q_{1}{\\left(t \\right)} + 2 q_{2}{\\left(t \\right)} q_{3}{\\left(t \\right)}\\right) T{\\left(t \\right)} \\sin{\\left(T_{\\phi}{\\left(t \\right)} \\right)} \\sin{\\left(T_{\\theta}{\\left(t \\right)} \\right)} + \\left(2 q_{0}{\\left(t \\right)} q_{3}{\\left(t \\right)} + 2 q_{1}{\\left(t \\right)} q_{2}{\\left(t \\right)}\\right) T{\\left(t \\right)} \\cos{\\left(T_{\\theta}{\\left(t \\right)} \\right)} + \\left(2 q_{0}^{2}{\\left(t \\right)} + q_{2}^{2}{\\left(t \\right)} - 1\\right) T{\\left(t \\right)} \\sin{\\left(T_{\\theta}{\\left(t \\right)} \\right)} \\cos{\\left(T_{\\phi}{\\left(t \\right)} \\right)}}{m}$"
      ],
      "text/plain": [
       "Eq(Derivative(v_y(t), t), ((-2*q0(t)*q1(t) + 2*q2(t)*q3(t))*T(t)*sin(T_phi(t))*sin(T_theta(t)) + (2*q0(t)*q3(t) + 2*q1(t)*q2(t))*T(t)*cos(T_theta(t)) + (2*q0(t)**2 + q2(t)**2 - 1)*T(t)*sin(T_theta(t))*cos(T_phi(t)))/m)"
      ]
     },
     "metadata": {},
     "output_type": "display_data"
    },
    {
     "data": {
      "text/latex": [
       "$\\displaystyle \\frac{d}{d t} v_{z}{\\left(t \\right)} = - g + \\frac{\\left(2 q_{0}{\\left(t \\right)} q_{1}{\\left(t \\right)} + 2 q_{2}{\\left(t \\right)} q_{3}{\\left(t \\right)}\\right) T{\\left(t \\right)} \\sin{\\left(T_{\\theta}{\\left(t \\right)} \\right)} \\cos{\\left(T_{\\phi}{\\left(t \\right)} \\right)} + \\left(- 2 q_{0}{\\left(t \\right)} q_{2}{\\left(t \\right)} + 2 q_{1}{\\left(t \\right)} q_{3}{\\left(t \\right)}\\right) T{\\left(t \\right)} \\cos{\\left(T_{\\theta}{\\left(t \\right)} \\right)} + \\left(2 q_{0}^{2}{\\left(t \\right)} + q_{3}^{2}{\\left(t \\right)} - 1\\right) T{\\left(t \\right)} \\sin{\\left(T_{\\phi}{\\left(t \\right)} \\right)} \\sin{\\left(T_{\\theta}{\\left(t \\right)} \\right)}}{m}$"
      ],
      "text/plain": [
       "Eq(Derivative(v_z(t), t), -g + ((2*q0(t)*q1(t) + 2*q2(t)*q3(t))*T(t)*sin(T_theta(t))*cos(T_phi(t)) + (-2*q0(t)*q2(t) + 2*q1(t)*q3(t))*T(t)*cos(T_theta(t)) + (2*q0(t)**2 + q3(t)**2 - 1)*T(t)*sin(T_phi(t))*sin(T_theta(t)))/m)"
      ]
     },
     "metadata": {},
     "output_type": "display_data"
    }
   ],
   "source": [
    "from sympy import *\n",
    "def mateq2list(lhs: Matrix, rhs: Matrix):\n",
    "    L = []\n",
    "    for i in range(lhs.rows):\n",
    "        L.append(Eq(lhs[i], rhs[i], evaluate=False))\n",
    "    return L\n",
    "## Variables\n",
    "t = symbols(\"t\")                                                # Tiempo\n",
    "g = symbols(\"g\")                                                # Constante gravitacional\n",
    "m = symbols(\"m\")                                                # Masa del cohete\n",
    "T = symbols(\"T\", cls=Function)                                  # Empuje de propulsor\n",
    "T_a1, T_a2 = symbols(\"T_theta, T_phi\", cls=Function)            # Orientación de propulsor\n",
    "q0, q1, q2, q3 = symbols(\"q0, q1, q2, q3\", cls=Function)                                # Orientación del cohete\n",
    "vx, vy, vz = symbols(\"v_x, v_y, v_z\", cls=Function)             # Velocidad\n",
    "\n",
    "## Ecuaciones del movimiento en traslación\n",
    "# Fuerzas Body frame\n",
    "F_B = Matrix([\n",
    "    T(t)*cos(T_a1(t)),\n",
    "    T(t)*sin(T_a1(t))*cos(T_a2(t)),\n",
    "    T(t)*sin(T_a1(t))*sin(T_a2(t))\n",
    "])\n",
    "\n",
    "# Matriz transformación de Body frame a Inertial frame\n",
    "Q_BI = Matrix([\n",
    "    [2*q0(t)**2+2*q1(t)**2-1, 2*(q1(t)*q2(t)-q0(t)*q3(t)), 2*(q1(t)*q3(t)+q0(t)*q2(t))],\n",
    "    [2*(q1(t)*q2(t)+q0(t)*q3(t)), 2*q0(t)**2+q2(t)**2-1, 2*(q2(t)*q3(t)-q0(t)*q1(t))],\n",
    "    [2*(q1(t)*q3(t)-q0(t)*q2(t)), 2*(q2(t)*q3(t)+q0(t)*q1(t)), 2*q0(t)**2+q3(t)**2-1]\n",
    "])\n",
    "\n",
    "# Segunda ley de newton\n",
    "G = Matrix([0, 0, -g])\n",
    "V = Matrix([vx(t), vy(t), vz(t)])\n",
    "eqs_1 = mateq2list(diff(V, t), G + Q_BI*F_B/m)\n",
    "for eq in eqs_1: display(eq)"
   ]
  },
  {
   "cell_type": "code",
   "execution_count": 52,
   "metadata": {},
   "outputs": [
    {
     "data": {
      "text/latex": [
       "$\\displaystyle \\frac{d}{d t} \\omega_{x}{\\left(t \\right)} = \\frac{I_{y} \\omega_{y}{\\left(t \\right)} \\omega_{z}{\\left(t \\right)} - I_{z} \\omega_{y}{\\left(t \\right)} \\omega_{z}{\\left(t \\right)}}{I_{x}}$"
      ],
      "text/plain": [
       "Eq(Derivative(omega_x(t), t), (I_y*omega_y(t)*omega_z(t) - I_z*omega_y(t)*omega_z(t))/I_x)"
      ]
     },
     "metadata": {},
     "output_type": "display_data"
    },
    {
     "data": {
      "text/latex": [
       "$\\displaystyle \\frac{d}{d t} \\omega_{y}{\\left(t \\right)} = \\frac{- I_{x} \\omega_{x}{\\left(t \\right)} \\omega_{z}{\\left(t \\right)} + I_{z} \\omega_{x}{\\left(t \\right)} \\omega_{z}{\\left(t \\right)} + \\frac{l T{\\left(t \\right)} \\sin{\\left(T_{\\phi}{\\left(t \\right)} \\right)} \\sin{\\left(T_{\\theta}{\\left(t \\right)} \\right)}}{2}}{I_{y}}$"
      ],
      "text/plain": [
       "Eq(Derivative(omega_y(t), t), (-I_x*omega_x(t)*omega_z(t) + I_z*omega_x(t)*omega_z(t) + l*T(t)*sin(T_phi(t))*sin(T_theta(t))/2)/I_y)"
      ]
     },
     "metadata": {},
     "output_type": "display_data"
    },
    {
     "data": {
      "text/latex": [
       "$\\displaystyle \\frac{d}{d t} \\omega_{z}{\\left(t \\right)} = \\frac{I_{x} \\omega_{x}{\\left(t \\right)} \\omega_{y}{\\left(t \\right)} - I_{y} \\omega_{x}{\\left(t \\right)} \\omega_{y}{\\left(t \\right)} - \\frac{l T{\\left(t \\right)} \\sin{\\left(T_{\\theta}{\\left(t \\right)} \\right)} \\cos{\\left(T_{\\phi}{\\left(t \\right)} \\right)}}{2}}{I_{z}}$"
      ],
      "text/plain": [
       "Eq(Derivative(omega_z(t), t), (I_x*omega_x(t)*omega_y(t) - I_y*omega_x(t)*omega_y(t) - l*T(t)*sin(T_theta(t))*cos(T_phi(t))/2)/I_z)"
      ]
     },
     "metadata": {},
     "output_type": "display_data"
    },
    {
     "data": {
      "text/latex": [
       "$\\displaystyle \\frac{d}{d t} q_{0}{\\left(t \\right)} = - 0.5 \\omega_{x}{\\left(t \\right)} q_{1}{\\left(t \\right)} - 0.5 \\omega_{y}{\\left(t \\right)} q_{2}{\\left(t \\right)} - 0.5 \\omega_{z}{\\left(t \\right)} q_{3}{\\left(t \\right)}$"
      ],
      "text/plain": [
       "Eq(Derivative(q0(t), t), -0.5*omega_x(t)*q1(t) - 0.5*omega_y(t)*q2(t) - 0.5*omega_z(t)*q3(t))"
      ]
     },
     "metadata": {},
     "output_type": "display_data"
    },
    {
     "data": {
      "text/latex": [
       "$\\displaystyle \\frac{d}{d t} q_{1}{\\left(t \\right)} = 0.5 \\omega_{x}{\\left(t \\right)} q_{0}{\\left(t \\right)} - 0.5 \\omega_{y}{\\left(t \\right)} q_{3}{\\left(t \\right)} + 0.5 \\omega_{z}{\\left(t \\right)} q_{2}{\\left(t \\right)}$"
      ],
      "text/plain": [
       "Eq(Derivative(q1(t), t), 0.5*omega_x(t)*q0(t) - 0.5*omega_y(t)*q3(t) + 0.5*omega_z(t)*q2(t))"
      ]
     },
     "metadata": {},
     "output_type": "display_data"
    },
    {
     "data": {
      "text/latex": [
       "$\\displaystyle \\frac{d}{d t} q_{2}{\\left(t \\right)} = 0.5 \\omega_{x}{\\left(t \\right)} q_{3}{\\left(t \\right)} + 0.5 \\omega_{y}{\\left(t \\right)} q_{0}{\\left(t \\right)} - 0.5 \\omega_{z}{\\left(t \\right)} q_{1}{\\left(t \\right)}$"
      ],
      "text/plain": [
       "Eq(Derivative(q2(t), t), 0.5*omega_x(t)*q3(t) + 0.5*omega_y(t)*q0(t) - 0.5*omega_z(t)*q1(t))"
      ]
     },
     "metadata": {},
     "output_type": "display_data"
    },
    {
     "data": {
      "text/latex": [
       "$\\displaystyle \\frac{d}{d t} q_{3}{\\left(t \\right)} = - 0.5 \\omega_{x}{\\left(t \\right)} q_{2}{\\left(t \\right)} + 0.5 \\omega_{y}{\\left(t \\right)} q_{1}{\\left(t \\right)} + 0.5 \\omega_{z}{\\left(t \\right)} q_{0}{\\left(t \\right)}$"
      ],
      "text/plain": [
       "Eq(Derivative(q3(t), t), -0.5*omega_x(t)*q2(t) + 0.5*omega_y(t)*q1(t) + 0.5*omega_z(t)*q0(t))"
      ]
     },
     "metadata": {},
     "output_type": "display_data"
    }
   ],
   "source": [
    "## Variables\n",
    "l = symbols(\"l\")                                                # Largo del cohete\n",
    "Ix, Iy, Iz = symbols(\"I_x, I_y, I_z\")                           # Momentos de inercia principales\n",
    "wx, wy, wz = symbols(\"omega_x, omega_y, omega_z\", cls=Function) # Velocidad angular Body frame\n",
    "\n",
    "## Ecuaciones del movimiento en rotación\n",
    "# Momentos Body frame\n",
    "T_R = Matrix([-l/2, 0, 0])  # Posición de propulsor respecto a centro de masa\n",
    "M_B = T_R.cross(F_B)\n",
    "\n",
    "# Ecuaciónes de euler para rotación Body frame\n",
    "I = diag(Ix, Iy, Iz)\n",
    "w = Matrix([wx(t), wy(t), wz(t)])\n",
    "eqs_2 = mateq2list(diff(w, t), I**-1*(M_B-w.cross(I*w)))\n",
    "for eq in eqs_2: display(eq)\n",
    "\n",
    "# Convertir velocidad angular Body frame a Inertial frame\n",
    "Q = Matrix([q0(t), q1(t), q2(t), q3(t)])\n",
    "S = 1/2*Matrix([\n",
    "    [-q1(t), -q2(t), -q3(t)],\n",
    "    [q0(t), -q3(t), q2(t)],\n",
    "    [q3(t), q0(t), -q1(t)],\n",
    "    [-q2(t), q1(t), q0(t)]\n",
    "])\n",
    "eqs_3 = mateq2list(diff(Q, t), S*w)\n",
    "for eq in eqs_3: display(eq)"
   ]
  },
  {
   "cell_type": "code",
   "execution_count": 53,
   "metadata": {},
   "outputs": [
    {
     "data": {
      "text/latex": [
       "$\\displaystyle \\frac{d}{d t} x{\\left(t \\right)} = v_{x}{\\left(t \\right)}$"
      ],
      "text/plain": [
       "Eq(Derivative(x(t), t), v_x(t))"
      ]
     },
     "metadata": {},
     "output_type": "display_data"
    },
    {
     "data": {
      "text/latex": [
       "$\\displaystyle \\frac{d}{d t} y{\\left(t \\right)} = v_{y}{\\left(t \\right)}$"
      ],
      "text/plain": [
       "Eq(Derivative(y(t), t), v_y(t))"
      ]
     },
     "metadata": {},
     "output_type": "display_data"
    },
    {
     "data": {
      "text/latex": [
       "$\\displaystyle \\frac{d}{d t} z{\\left(t \\right)} = v_{z}{\\left(t \\right)}$"
      ],
      "text/plain": [
       "Eq(Derivative(z(t), t), v_z(t))"
      ]
     },
     "metadata": {},
     "output_type": "display_data"
    },
    {
     "data": {
      "text/latex": [
       "$\\displaystyle \\frac{d}{d t} v_{x}{\\left(t \\right)} = \\frac{\\left(2 q_{0}{\\left(t \\right)} q_{2}{\\left(t \\right)} + 2 q_{1}{\\left(t \\right)} q_{3}{\\left(t \\right)}\\right) T{\\left(t \\right)} \\sin{\\left(T_{\\phi}{\\left(t \\right)} \\right)} \\sin{\\left(T_{\\theta}{\\left(t \\right)} \\right)} + \\left(- 2 q_{0}{\\left(t \\right)} q_{3}{\\left(t \\right)} + 2 q_{1}{\\left(t \\right)} q_{2}{\\left(t \\right)}\\right) T{\\left(t \\right)} \\sin{\\left(T_{\\theta}{\\left(t \\right)} \\right)} \\cos{\\left(T_{\\phi}{\\left(t \\right)} \\right)} + \\left(2 q_{0}^{2}{\\left(t \\right)} + 2 q_{1}^{2}{\\left(t \\right)} - 1\\right) T{\\left(t \\right)} \\cos{\\left(T_{\\theta}{\\left(t \\right)} \\right)}}{m}$"
      ],
      "text/plain": [
       "Eq(Derivative(v_x(t), t), ((2*q0(t)*q2(t) + 2*q1(t)*q3(t))*T(t)*sin(T_phi(t))*sin(T_theta(t)) + (-2*q0(t)*q3(t) + 2*q1(t)*q2(t))*T(t)*sin(T_theta(t))*cos(T_phi(t)) + (2*q0(t)**2 + 2*q1(t)**2 - 1)*T(t)*cos(T_theta(t)))/m)"
      ]
     },
     "metadata": {},
     "output_type": "display_data"
    },
    {
     "data": {
      "text/latex": [
       "$\\displaystyle \\frac{d}{d t} v_{y}{\\left(t \\right)} = \\frac{\\left(- 2 q_{0}{\\left(t \\right)} q_{1}{\\left(t \\right)} + 2 q_{2}{\\left(t \\right)} q_{3}{\\left(t \\right)}\\right) T{\\left(t \\right)} \\sin{\\left(T_{\\phi}{\\left(t \\right)} \\right)} \\sin{\\left(T_{\\theta}{\\left(t \\right)} \\right)} + \\left(2 q_{0}{\\left(t \\right)} q_{3}{\\left(t \\right)} + 2 q_{1}{\\left(t \\right)} q_{2}{\\left(t \\right)}\\right) T{\\left(t \\right)} \\cos{\\left(T_{\\theta}{\\left(t \\right)} \\right)} + \\left(2 q_{0}^{2}{\\left(t \\right)} + q_{2}^{2}{\\left(t \\right)} - 1\\right) T{\\left(t \\right)} \\sin{\\left(T_{\\theta}{\\left(t \\right)} \\right)} \\cos{\\left(T_{\\phi}{\\left(t \\right)} \\right)}}{m}$"
      ],
      "text/plain": [
       "Eq(Derivative(v_y(t), t), ((-2*q0(t)*q1(t) + 2*q2(t)*q3(t))*T(t)*sin(T_phi(t))*sin(T_theta(t)) + (2*q0(t)*q3(t) + 2*q1(t)*q2(t))*T(t)*cos(T_theta(t)) + (2*q0(t)**2 + q2(t)**2 - 1)*T(t)*sin(T_theta(t))*cos(T_phi(t)))/m)"
      ]
     },
     "metadata": {},
     "output_type": "display_data"
    },
    {
     "data": {
      "text/latex": [
       "$\\displaystyle \\frac{d}{d t} v_{z}{\\left(t \\right)} = - g + \\frac{\\left(2 q_{0}{\\left(t \\right)} q_{1}{\\left(t \\right)} + 2 q_{2}{\\left(t \\right)} q_{3}{\\left(t \\right)}\\right) T{\\left(t \\right)} \\sin{\\left(T_{\\theta}{\\left(t \\right)} \\right)} \\cos{\\left(T_{\\phi}{\\left(t \\right)} \\right)} + \\left(- 2 q_{0}{\\left(t \\right)} q_{2}{\\left(t \\right)} + 2 q_{1}{\\left(t \\right)} q_{3}{\\left(t \\right)}\\right) T{\\left(t \\right)} \\cos{\\left(T_{\\theta}{\\left(t \\right)} \\right)} + \\left(2 q_{0}^{2}{\\left(t \\right)} + q_{3}^{2}{\\left(t \\right)} - 1\\right) T{\\left(t \\right)} \\sin{\\left(T_{\\phi}{\\left(t \\right)} \\right)} \\sin{\\left(T_{\\theta}{\\left(t \\right)} \\right)}}{m}$"
      ],
      "text/plain": [
       "Eq(Derivative(v_z(t), t), -g + ((2*q0(t)*q1(t) + 2*q2(t)*q3(t))*T(t)*sin(T_theta(t))*cos(T_phi(t)) + (-2*q0(t)*q2(t) + 2*q1(t)*q3(t))*T(t)*cos(T_theta(t)) + (2*q0(t)**2 + q3(t)**2 - 1)*T(t)*sin(T_phi(t))*sin(T_theta(t)))/m)"
      ]
     },
     "metadata": {},
     "output_type": "display_data"
    },
    {
     "data": {
      "text/latex": [
       "$\\displaystyle \\frac{d}{d t} \\omega_{x}{\\left(t \\right)} = \\frac{I_{y} \\omega_{y}{\\left(t \\right)} \\omega_{z}{\\left(t \\right)} - I_{z} \\omega_{y}{\\left(t \\right)} \\omega_{z}{\\left(t \\right)}}{I_{x}}$"
      ],
      "text/plain": [
       "Eq(Derivative(omega_x(t), t), (I_y*omega_y(t)*omega_z(t) - I_z*omega_y(t)*omega_z(t))/I_x)"
      ]
     },
     "metadata": {},
     "output_type": "display_data"
    },
    {
     "data": {
      "text/latex": [
       "$\\displaystyle \\frac{d}{d t} \\omega_{y}{\\left(t \\right)} = \\frac{- I_{x} \\omega_{x}{\\left(t \\right)} \\omega_{z}{\\left(t \\right)} + I_{z} \\omega_{x}{\\left(t \\right)} \\omega_{z}{\\left(t \\right)} + \\frac{l T{\\left(t \\right)} \\sin{\\left(T_{\\phi}{\\left(t \\right)} \\right)} \\sin{\\left(T_{\\theta}{\\left(t \\right)} \\right)}}{2}}{I_{y}}$"
      ],
      "text/plain": [
       "Eq(Derivative(omega_y(t), t), (-I_x*omega_x(t)*omega_z(t) + I_z*omega_x(t)*omega_z(t) + l*T(t)*sin(T_phi(t))*sin(T_theta(t))/2)/I_y)"
      ]
     },
     "metadata": {},
     "output_type": "display_data"
    },
    {
     "data": {
      "text/latex": [
       "$\\displaystyle \\frac{d}{d t} \\omega_{z}{\\left(t \\right)} = \\frac{I_{x} \\omega_{x}{\\left(t \\right)} \\omega_{y}{\\left(t \\right)} - I_{y} \\omega_{x}{\\left(t \\right)} \\omega_{y}{\\left(t \\right)} - \\frac{l T{\\left(t \\right)} \\sin{\\left(T_{\\theta}{\\left(t \\right)} \\right)} \\cos{\\left(T_{\\phi}{\\left(t \\right)} \\right)}}{2}}{I_{z}}$"
      ],
      "text/plain": [
       "Eq(Derivative(omega_z(t), t), (I_x*omega_x(t)*omega_y(t) - I_y*omega_x(t)*omega_y(t) - l*T(t)*sin(T_theta(t))*cos(T_phi(t))/2)/I_z)"
      ]
     },
     "metadata": {},
     "output_type": "display_data"
    },
    {
     "data": {
      "text/latex": [
       "$\\displaystyle \\frac{d}{d t} q_{0}{\\left(t \\right)} = - 0.5 \\omega_{x}{\\left(t \\right)} q_{1}{\\left(t \\right)} - 0.5 \\omega_{y}{\\left(t \\right)} q_{2}{\\left(t \\right)} - 0.5 \\omega_{z}{\\left(t \\right)} q_{3}{\\left(t \\right)}$"
      ],
      "text/plain": [
       "Eq(Derivative(q0(t), t), -0.5*omega_x(t)*q1(t) - 0.5*omega_y(t)*q2(t) - 0.5*omega_z(t)*q3(t))"
      ]
     },
     "metadata": {},
     "output_type": "display_data"
    },
    {
     "data": {
      "text/latex": [
       "$\\displaystyle \\frac{d}{d t} q_{1}{\\left(t \\right)} = 0.5 \\omega_{x}{\\left(t \\right)} q_{0}{\\left(t \\right)} - 0.5 \\omega_{y}{\\left(t \\right)} q_{3}{\\left(t \\right)} + 0.5 \\omega_{z}{\\left(t \\right)} q_{2}{\\left(t \\right)}$"
      ],
      "text/plain": [
       "Eq(Derivative(q1(t), t), 0.5*omega_x(t)*q0(t) - 0.5*omega_y(t)*q3(t) + 0.5*omega_z(t)*q2(t))"
      ]
     },
     "metadata": {},
     "output_type": "display_data"
    },
    {
     "data": {
      "text/latex": [
       "$\\displaystyle \\frac{d}{d t} q_{2}{\\left(t \\right)} = 0.5 \\omega_{x}{\\left(t \\right)} q_{3}{\\left(t \\right)} + 0.5 \\omega_{y}{\\left(t \\right)} q_{0}{\\left(t \\right)} - 0.5 \\omega_{z}{\\left(t \\right)} q_{1}{\\left(t \\right)}$"
      ],
      "text/plain": [
       "Eq(Derivative(q2(t), t), 0.5*omega_x(t)*q3(t) + 0.5*omega_y(t)*q0(t) - 0.5*omega_z(t)*q1(t))"
      ]
     },
     "metadata": {},
     "output_type": "display_data"
    },
    {
     "data": {
      "text/latex": [
       "$\\displaystyle \\frac{d}{d t} q_{3}{\\left(t \\right)} = - 0.5 \\omega_{x}{\\left(t \\right)} q_{2}{\\left(t \\right)} + 0.5 \\omega_{y}{\\left(t \\right)} q_{1}{\\left(t \\right)} + 0.5 \\omega_{z}{\\left(t \\right)} q_{0}{\\left(t \\right)}$"
      ],
      "text/plain": [
       "Eq(Derivative(q3(t), t), -0.5*omega_x(t)*q2(t) + 0.5*omega_y(t)*q1(t) + 0.5*omega_z(t)*q0(t))"
      ]
     },
     "metadata": {},
     "output_type": "display_data"
    }
   ],
   "source": [
    "## Variables\n",
    "x, y, z = symbols(\"x, y, z\", cls=Function)  # Posición\n",
    "\n",
    "## Sistema de ecuaciones completo\n",
    "R = Matrix([x(t), y(t), z(t)])\n",
    "eqs_4 = mateq2list(diff(R, t), V)\n",
    "eqs = eqs_4 + eqs_1 + eqs_2 + eqs_3\n",
    "eqs_rhs = []\n",
    "for eq in eqs:\n",
    "    display(eq)\n",
    "    eqs_rhs.append(eq.rhs)"
   ]
  },
  {
   "cell_type": "code",
   "execution_count": 54,
   "metadata": {},
   "outputs": [
    {
     "name": "stdout",
     "output_type": "stream",
     "text": [
      "x, y, z, v_x, v_y, v_z, omega_x, omega_y, omega_z, q0, q1, q2, q3, T, T_theta, T_phi, m, g, l, I_x, I_y, I_z\n",
      "[v_x,\n",
      "v_y,\n",
      "v_z,\n",
      "((2*q0*q2 + 2*q1*q3)*T*math.sin(T_phi)*math.sin(T_theta) + (-2*q0*q3 + 2*q1*q2)*T*math.sin(T_theta)*math.cos(T_phi) + (2*q0**2 + 2*q1**2 - 1)*T*math.cos(T_theta))/m,\n",
      "((-2*q0*q1 + 2*q2*q3)*T*math.sin(T_phi)*math.sin(T_theta) + (2*q0*q3 + 2*q1*q2)*T*math.cos(T_theta) + (2*q0**2 + q2**2 - 1)*T*math.sin(T_theta)*math.cos(T_phi))/m,\n",
      "-g + ((2*q0*q1 + 2*q2*q3)*T*math.sin(T_theta)*math.cos(T_phi) + (-2*q0*q2 + 2*q1*q3)*T*math.cos(T_theta) + (2*q0**2 + q3**2 - 1)*T*math.sin(T_phi)*math.sin(T_theta))/m,\n",
      "(I_y*omega_y*omega_z - I_z*omega_y*omega_z)/I_x,\n",
      "(-I_x*omega_x*omega_z + I_z*omega_x*omega_z + l*T*math.sin(T_phi)*math.sin(T_theta)/2)/I_y,\n",
      "(I_x*omega_x*omega_y - I_y*omega_x*omega_y - l*T*math.sin(T_theta)*math.cos(T_phi)/2)/I_z,\n",
      "-0.5*omega_x*q1 - 0.5*omega_y*q2 - 0.5*omega_z*q3,\n",
      "0.5*omega_x*q0 - 0.5*omega_y*q3 + 0.5*omega_z*q2,\n",
      "0.5*omega_x*q3 + 0.5*omega_y*q0 - 0.5*omega_z*q1,\n",
      "-0.5*omega_x*q2 + 0.5*omega_y*q1 + 0.5*omega_z*q0]\n"
     ]
    }
   ],
   "source": [
    "## Sistema de ecuaciones evaluable numéricamente\n",
    "sym_ss = [x(t), y(t), z(t),\n",
    "          vx(t), vy(t), vz(t),\n",
    "          wx(t), wy(t), wz(t),\n",
    "          q0(t), q1(t), q2(t), q3(t)]\n",
    "sym_t = [T(t), T_a1(t), T_a2(t)]\n",
    "sym_pam = [m, g, l, Ix, Iy, Iz]\n",
    "sys = lambdify((sym_ss, sym_t, sym_pam), eqs_rhs)\n",
    "\n",
    "## Convertir ecuaciones a código Javascript\n",
    "symlist2args = lambda sym: str(sym).replace(\"(t)\", \"\").replace(\"[\",\"\").replace(\"]\",\"\")\n",
    "def streq2js(s):\n",
    "    subs = [\n",
    "        [\"(t)\", \"\"],\n",
    "        [\"Abs\", \"math.abs\"],\n",
    "        [\"sqrt\", \"math.sqrt\"],\n",
    "        [\"cos\", \"math.cos\"],\n",
    "        [\"sin\", \"math.sin\"]\n",
    "    ]\n",
    "    for r in subs:\n",
    "        s = s.replace(r[0], r[1])\n",
    "    return s\n",
    "s = \"[\"\n",
    "for eq in eqs:\n",
    "    s += streq2js(str(eq.rhs)) + \",\\n\"\n",
    "s = s[0:-2] + \"]\"\n",
    "print(symlist2args(sym_ss) + \", \" + symlist2args(sym_t) + \", \" + symlist2args(sym_pam))\n",
    "print(s)\n",
    "\n",
    "from numpy import *\n",
    "import quaternion\n",
    "#https://en.wikipedia.org/wiki/Conversion_between_quaternions_and_Euler_angles\n",
    "def euler2quat(yaw, pitch, roll):\n",
    "    cr = cos(roll * 0.5)\n",
    "    sr = sin(roll * 0.5)\n",
    "    cp = cos(pitch * 0.5)\n",
    "    sp = sin(pitch * 0.5)\n",
    "    cy = cos(yaw * 0.5)\n",
    "    sy = sin(yaw * 0.5)\n",
    "\n",
    "    q0 = cr * cp * cy + sr * sp * sy\n",
    "    q1 = sr * cp * cy - cr * sp * sy\n",
    "    q2 = cr * sp * cy + sr * cp * sy\n",
    "    q3 = cr * cp * sy - sr * sp * cy\n",
    "\n",
    "    return q0, q1, q2, q3"
   ]
  },
  {
   "cell_type": "code",
   "execution_count": 55,
   "metadata": {},
   "outputs": [
    {
     "data": {
      "text/html": [
       "<div>\n",
       "<style scoped>\n",
       "    .dataframe tbody tr th:only-of-type {\n",
       "        vertical-align: middle;\n",
       "    }\n",
       "\n",
       "    .dataframe tbody tr th {\n",
       "        vertical-align: top;\n",
       "    }\n",
       "\n",
       "    .dataframe thead th {\n",
       "        text-align: right;\n",
       "    }\n",
       "</style>\n",
       "<table border=\"1\" class=\"dataframe\">\n",
       "  <thead>\n",
       "    <tr style=\"text-align: right;\">\n",
       "      <th></th>\n",
       "      <th>t</th>\n",
       "      <th>x(t)</th>\n",
       "      <th>y(t)</th>\n",
       "      <th>z(t)</th>\n",
       "      <th>v_x(t)</th>\n",
       "      <th>v_y(t)</th>\n",
       "      <th>v_z(t)</th>\n",
       "      <th>omega_x(t)</th>\n",
       "      <th>omega_y(t)</th>\n",
       "      <th>omega_z(t)</th>\n",
       "      <th>q0(t)</th>\n",
       "      <th>q1(t)</th>\n",
       "      <th>q2(t)</th>\n",
       "      <th>q3(t)</th>\n",
       "    </tr>\n",
       "  </thead>\n",
       "  <tbody>\n",
       "    <tr>\n",
       "      <th>0</th>\n",
       "      <td>0.000000</td>\n",
       "      <td>0.000000</td>\n",
       "      <td>0.0</td>\n",
       "      <td>3.500000</td>\n",
       "      <td>-275.0</td>\n",
       "      <td>0.0</td>\n",
       "      <td>275.000000</td>\n",
       "      <td>0.0</td>\n",
       "      <td>-0.04</td>\n",
       "      <td>0.0</td>\n",
       "      <td>0.382683</td>\n",
       "      <td>0.0</td>\n",
       "      <td>-0.923880</td>\n",
       "      <td>0.0</td>\n",
       "    </tr>\n",
       "    <tr>\n",
       "      <th>1</th>\n",
       "      <td>0.016672</td>\n",
       "      <td>-4.584698</td>\n",
       "      <td>0.0</td>\n",
       "      <td>8.083335</td>\n",
       "      <td>-275.0</td>\n",
       "      <td>0.0</td>\n",
       "      <td>274.836451</td>\n",
       "      <td>0.0</td>\n",
       "      <td>-0.04</td>\n",
       "      <td>0.0</td>\n",
       "      <td>0.382375</td>\n",
       "      <td>0.0</td>\n",
       "      <td>-0.924007</td>\n",
       "      <td>0.0</td>\n",
       "    </tr>\n",
       "    <tr>\n",
       "      <th>2</th>\n",
       "      <td>0.033343</td>\n",
       "      <td>-9.169396</td>\n",
       "      <td>0.0</td>\n",
       "      <td>12.663942</td>\n",
       "      <td>-275.0</td>\n",
       "      <td>0.0</td>\n",
       "      <td>274.672903</td>\n",
       "      <td>0.0</td>\n",
       "      <td>-0.04</td>\n",
       "      <td>0.0</td>\n",
       "      <td>0.382067</td>\n",
       "      <td>0.0</td>\n",
       "      <td>-0.924135</td>\n",
       "      <td>0.0</td>\n",
       "    </tr>\n",
       "    <tr>\n",
       "      <th>3</th>\n",
       "      <td>0.050015</td>\n",
       "      <td>-13.754093</td>\n",
       "      <td>0.0</td>\n",
       "      <td>17.241824</td>\n",
       "      <td>-275.0</td>\n",
       "      <td>0.0</td>\n",
       "      <td>274.509354</td>\n",
       "      <td>0.0</td>\n",
       "      <td>-0.04</td>\n",
       "      <td>0.0</td>\n",
       "      <td>0.381759</td>\n",
       "      <td>0.0</td>\n",
       "      <td>-0.924262</td>\n",
       "      <td>0.0</td>\n",
       "    </tr>\n",
       "    <tr>\n",
       "      <th>4</th>\n",
       "      <td>0.066687</td>\n",
       "      <td>-18.338791</td>\n",
       "      <td>0.0</td>\n",
       "      <td>21.816978</td>\n",
       "      <td>-275.0</td>\n",
       "      <td>0.0</td>\n",
       "      <td>274.345805</td>\n",
       "      <td>0.0</td>\n",
       "      <td>-0.04</td>\n",
       "      <td>0.0</td>\n",
       "      <td>0.381451</td>\n",
       "      <td>0.0</td>\n",
       "      <td>-0.924389</td>\n",
       "      <td>0.0</td>\n",
       "    </tr>\n",
       "    <tr>\n",
       "      <th>...</th>\n",
       "      <td>...</td>\n",
       "      <td>...</td>\n",
       "      <td>...</td>\n",
       "      <td>...</td>\n",
       "      <td>...</td>\n",
       "      <td>...</td>\n",
       "      <td>...</td>\n",
       "      <td>...</td>\n",
       "      <td>...</td>\n",
       "      <td>...</td>\n",
       "      <td>...</td>\n",
       "      <td>...</td>\n",
       "      <td>...</td>\n",
       "      <td>...</td>\n",
       "    </tr>\n",
       "    <tr>\n",
       "      <th>3355</th>\n",
       "      <td>55.933313</td>\n",
       "      <td>-15381.661209</td>\n",
       "      <td>0.0</td>\n",
       "      <td>39.694299</td>\n",
       "      <td>-275.0</td>\n",
       "      <td>0.0</td>\n",
       "      <td>-273.705805</td>\n",
       "      <td>0.0</td>\n",
       "      <td>-0.04</td>\n",
       "      <td>0.0</td>\n",
       "      <td>-0.663859</td>\n",
       "      <td>0.0</td>\n",
       "      <td>-0.747858</td>\n",
       "      <td>0.0</td>\n",
       "    </tr>\n",
       "    <tr>\n",
       "      <th>3356</th>\n",
       "      <td>55.949985</td>\n",
       "      <td>-15386.245907</td>\n",
       "      <td>0.0</td>\n",
       "      <td>35.129814</td>\n",
       "      <td>-275.0</td>\n",
       "      <td>0.0</td>\n",
       "      <td>-273.869354</td>\n",
       "      <td>0.0</td>\n",
       "      <td>-0.04</td>\n",
       "      <td>0.0</td>\n",
       "      <td>-0.664108</td>\n",
       "      <td>0.0</td>\n",
       "      <td>-0.747636</td>\n",
       "      <td>0.0</td>\n",
       "    </tr>\n",
       "    <tr>\n",
       "      <th>3357</th>\n",
       "      <td>55.966657</td>\n",
       "      <td>-15390.830604</td>\n",
       "      <td>0.0</td>\n",
       "      <td>30.562603</td>\n",
       "      <td>-275.0</td>\n",
       "      <td>0.0</td>\n",
       "      <td>-274.032903</td>\n",
       "      <td>0.0</td>\n",
       "      <td>-0.04</td>\n",
       "      <td>0.0</td>\n",
       "      <td>-0.664358</td>\n",
       "      <td>0.0</td>\n",
       "      <td>-0.747415</td>\n",
       "      <td>0.0</td>\n",
       "    </tr>\n",
       "    <tr>\n",
       "      <th>3358</th>\n",
       "      <td>55.983328</td>\n",
       "      <td>-15395.415302</td>\n",
       "      <td>0.0</td>\n",
       "      <td>25.992665</td>\n",
       "      <td>-275.0</td>\n",
       "      <td>0.0</td>\n",
       "      <td>-274.196451</td>\n",
       "      <td>0.0</td>\n",
       "      <td>-0.04</td>\n",
       "      <td>0.0</td>\n",
       "      <td>-0.664607</td>\n",
       "      <td>0.0</td>\n",
       "      <td>-0.747193</td>\n",
       "      <td>0.0</td>\n",
       "    </tr>\n",
       "    <tr>\n",
       "      <th>3359</th>\n",
       "      <td>56.000000</td>\n",
       "      <td>-15400.000000</td>\n",
       "      <td>0.0</td>\n",
       "      <td>21.420000</td>\n",
       "      <td>-275.0</td>\n",
       "      <td>0.0</td>\n",
       "      <td>-274.360000</td>\n",
       "      <td>0.0</td>\n",
       "      <td>-0.04</td>\n",
       "      <td>0.0</td>\n",
       "      <td>-0.664856</td>\n",
       "      <td>0.0</td>\n",
       "      <td>-0.746972</td>\n",
       "      <td>0.0</td>\n",
       "    </tr>\n",
       "  </tbody>\n",
       "</table>\n",
       "<p>3360 rows × 14 columns</p>\n",
       "</div>"
      ],
      "text/plain": [
       "              t          x(t)  y(t)       z(t)  v_x(t)  v_y(t)      v_z(t)   \n",
       "0      0.000000      0.000000   0.0   3.500000  -275.0     0.0  275.000000  \\\n",
       "1      0.016672     -4.584698   0.0   8.083335  -275.0     0.0  274.836451   \n",
       "2      0.033343     -9.169396   0.0  12.663942  -275.0     0.0  274.672903   \n",
       "3      0.050015    -13.754093   0.0  17.241824  -275.0     0.0  274.509354   \n",
       "4      0.066687    -18.338791   0.0  21.816978  -275.0     0.0  274.345805   \n",
       "...         ...           ...   ...        ...     ...     ...         ...   \n",
       "3355  55.933313 -15381.661209   0.0  39.694299  -275.0     0.0 -273.705805   \n",
       "3356  55.949985 -15386.245907   0.0  35.129814  -275.0     0.0 -273.869354   \n",
       "3357  55.966657 -15390.830604   0.0  30.562603  -275.0     0.0 -274.032903   \n",
       "3358  55.983328 -15395.415302   0.0  25.992665  -275.0     0.0 -274.196451   \n",
       "3359  56.000000 -15400.000000   0.0  21.420000  -275.0     0.0 -274.360000   \n",
       "\n",
       "      omega_x(t)  omega_y(t)  omega_z(t)     q0(t)  q1(t)     q2(t)  q3(t)  \n",
       "0            0.0       -0.04         0.0  0.382683    0.0 -0.923880    0.0  \n",
       "1            0.0       -0.04         0.0  0.382375    0.0 -0.924007    0.0  \n",
       "2            0.0       -0.04         0.0  0.382067    0.0 -0.924135    0.0  \n",
       "3            0.0       -0.04         0.0  0.381759    0.0 -0.924262    0.0  \n",
       "4            0.0       -0.04         0.0  0.381451    0.0 -0.924389    0.0  \n",
       "...          ...         ...         ...       ...    ...       ...    ...  \n",
       "3355         0.0       -0.04         0.0 -0.663859    0.0 -0.747858    0.0  \n",
       "3356         0.0       -0.04         0.0 -0.664108    0.0 -0.747636    0.0  \n",
       "3357         0.0       -0.04         0.0 -0.664358    0.0 -0.747415    0.0  \n",
       "3358         0.0       -0.04         0.0 -0.664607    0.0 -0.747193    0.0  \n",
       "3359         0.0       -0.04         0.0 -0.664856    0.0 -0.746972    0.0  \n",
       "\n",
       "[3360 rows x 14 columns]"
      ]
     },
     "metadata": {},
     "output_type": "display_data"
    }
   ],
   "source": [
    "## Integración Runge-Kutta\n",
    "# https://perso.crans.org/besson/publis/notebooks/Runge-Kutta_methods_for_ODE_integration_in_Python.html\n",
    "def rungekutta4(f, y0, t, args=()):\n",
    "    n = len(t)\n",
    "    y = zeros((n, len(y0)))\n",
    "    y[0] = y0   \n",
    "    for i in range(n - 1):\n",
    "        h = t[i+1] - t[i]\n",
    "        k1 = f(y[i], t[i], *args)\n",
    "        k2 = f(y[i] + k1 * h / 2., t[i] + h / 2., *args)\n",
    "        k3 = f(y[i] + k2 * h / 2., t[i] + h / 2., *args)\n",
    "        k4 = f(y[i] + k3 * h, t[i] + h, *args)\n",
    "        y[i+1] = y[i] + (h / 6.) * (k1 + 2*k2 + 2*k3 + k4)\n",
    "    return y\n",
    "\n",
    "\n",
    "def sys_wrap(y, t):\n",
    "    tt = array([0, 0, 0])\n",
    "    pam = array([100, 9.81, 3.5, 3.6, 103, 103])\n",
    "    return array(sys(y, tt, pam))\n",
    "\n",
    "# Vector estado\n",
    "yaw = 0\n",
    "pitch = -pi/4*3\n",
    "roll = 0\n",
    "qw, qx, qy, qz = euler2quat(yaw, pitch, roll)\n",
    "ss = array([0, 0, 3.5,\n",
    "            -275, 0, 275,\n",
    "            0, -0.04, 0,\n",
    "            qw, qx, qy, qz])\n",
    "\n",
    "seconds = 56\n",
    "frequency = 1/60\n",
    "steps = int(seconds * 1/frequency)\n",
    "timee = linspace(0, seconds, steps)\n",
    "resultado = rungekutta4(sys_wrap, ss, timee)\n",
    "tdf = pd.DataFrame(timee, columns=[\"t\"])\n",
    "rdf = pd.DataFrame(resultado, columns = sym_ss)\n",
    "df = tdf.join(rdf)\n",
    "display(df)\n",
    "df.to_csv(\"resultado.csv\", index=False)"
   ]
  },
  {
   "cell_type": "code",
   "execution_count": 56,
   "metadata": {},
   "outputs": [
    {
     "data": {
      "application/vnd.jupyter.widget-view+json": {
       "model_id": "cf71bba4a57741c589e0bf1b03d8f2ab",
       "version_major": 2,
       "version_minor": 0
      },
      "text/plain": [
       "Output()"
      ]
     },
     "metadata": {},
     "output_type": "display_data"
    },
    {
     "name": "stderr",
     "output_type": "stream",
     "text": [
      "c:\\Users\\asd\\miniconda3\\lib\\site-packages\\traittypes\\traittypes.py:97: UserWarning: Given trait value dtype \"float64\" does not match required type \"float32\". A coerced copy has been created.\n",
      "  warnings.warn(\n"
     ]
    }
   ],
   "source": [
    "## Simulación con Euler\n",
    "## Vector estado\n",
    "yaw = 0\n",
    "pitch = 0\n",
    "roll = 0\n",
    "qw, qx, qy, qz = euler2quat(yaw, pitch, roll)\n",
    "#           x  y  z vx vy vz wx wy wz\n",
    "ss = array([0, 0, 0, 0, 0, 0, 0, 0, 0, qw, qx, qy, qz])\n",
    "\n",
    "# Vector control de propulsor\n",
    "#           T a1 a2\n",
    "tt = array([1, 0, 0])\n",
    "\n",
    "# Vector parametros\n",
    "#             m  g  l   Ix   Iy   Iz\n",
    "pam = array([10, 0, 1, 0.3, 0.3, 0.3])\n",
    "\n",
    "## Dibujar\n",
    "plot = k3d.plot()\n",
    "Vheading = k3d.vectors([0, 0, 0], [1, 0, 0])\n",
    "plot += Vheading\n",
    "frog = k3d.stl(\n",
    "    open(\"Missile Toad.stl\", \"rb\").read(),\n",
    "    color=0x00ff00,\n",
    "    transform=k3d.transform(\n",
    "        scaling=[0.01,0.01,0.01],\n",
    "    )\n",
    ")\n",
    "plot += frog\n",
    "plot.display()\n",
    "\n",
    "def update_plot():    \n",
    "    ## Actualizar rana\n",
    "    # La libreria requiere el cuaternion en forma Angle-Axis o sino no lo rota bien\n",
    "    q = quaternion.quaternion(*ss[9:13])\n",
    "    ax = quaternion.as_rotation_vector(q)\n",
    "    n = linalg.norm(ax)\n",
    "    frog.transform.rotation = concatenate(([n], ax))\n",
    "    frog.transform.translation = ss[0:3]\n",
    "    ## Actualizar vector\n",
    "    Vheading.vectors = quaternion.rotate_vectors(q, [1, 0, 0])\n",
    "    Vheading.origins = ss[0:3]\n",
    "    Vheading.send_state()\n",
    "\n",
    "## Metodo de euler\n",
    "h = 1/30\n",
    "while True:\n",
    "    if keyboard.is_pressed(\"esc\"): break\n",
    "    ss = ss + [Y*h for Y in sys(ss, tt, pam)]\n",
    "    update_plot()\n",
    "    time.sleep(h)"
   ]
  }
 ],
 "metadata": {
  "kernelspec": {
   "display_name": "base",
   "language": "python",
   "name": "python3"
  },
  "language_info": {
   "codemirror_mode": {
    "name": "ipython",
    "version": 3
   },
   "file_extension": ".py",
   "mimetype": "text/x-python",
   "name": "python",
   "nbconvert_exporter": "python",
   "pygments_lexer": "ipython3",
   "version": "3.9.16"
  },
  "orig_nbformat": 4
 },
 "nbformat": 4,
 "nbformat_minor": 2
}
