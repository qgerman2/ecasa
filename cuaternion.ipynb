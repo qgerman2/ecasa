{
 "cells": [
  {
   "cell_type": "code",
   "execution_count": 13,
   "metadata": {},
   "outputs": [],
   "source": [
    "import time\n",
    "import keyboard\n",
    "import k3d"
   ]
  },
  {
   "cell_type": "code",
   "execution_count": 14,
   "metadata": {},
   "outputs": [
    {
     "data": {
      "text/latex": [
       "$\\displaystyle \\frac{d}{d t} v_{x}{\\left(t \\right)} = \\frac{\\left(2 q_{0}{\\left(t \\right)} q_{2}{\\left(t \\right)} + 2 q_{1}{\\left(t \\right)} q_{3}{\\left(t \\right)}\\right) T{\\left(t \\right)} \\sin{\\left(T_{\\phi}{\\left(t \\right)} \\right)} \\sin{\\left(T_{\\theta}{\\left(t \\right)} \\right)} + \\left(- 2 q_{0}{\\left(t \\right)} q_{3}{\\left(t \\right)} + 2 q_{1}{\\left(t \\right)} q_{2}{\\left(t \\right)}\\right) T{\\left(t \\right)} \\sin{\\left(T_{\\theta}{\\left(t \\right)} \\right)} \\cos{\\left(T_{\\phi}{\\left(t \\right)} \\right)} + \\left(2 q_{0}^{2}{\\left(t \\right)} + 2 q_{1}^{2}{\\left(t \\right)} - 1\\right) T{\\left(t \\right)} \\cos{\\left(T_{\\theta}{\\left(t \\right)} \\right)}}{m}$"
      ],
      "text/plain": [
       "Eq(Derivative(v_x(t), t), ((2*q0(t)*q2(t) + 2*q1(t)*q3(t))*T(t)*sin(T_phi(t))*sin(T_theta(t)) + (-2*q0(t)*q3(t) + 2*q1(t)*q2(t))*T(t)*sin(T_theta(t))*cos(T_phi(t)) + (2*q0(t)**2 + 2*q1(t)**2 - 1)*T(t)*cos(T_theta(t)))/m)"
      ]
     },
     "metadata": {},
     "output_type": "display_data"
    },
    {
     "data": {
      "text/latex": [
       "$\\displaystyle \\frac{d}{d t} v_{y}{\\left(t \\right)} = \\frac{\\left(- 2 q_{0}{\\left(t \\right)} q_{1}{\\left(t \\right)} + 2 q_{2}{\\left(t \\right)} q_{3}{\\left(t \\right)}\\right) T{\\left(t \\right)} \\sin{\\left(T_{\\phi}{\\left(t \\right)} \\right)} \\sin{\\left(T_{\\theta}{\\left(t \\right)} \\right)} + \\left(2 q_{0}{\\left(t \\right)} q_{3}{\\left(t \\right)} + 2 q_{1}{\\left(t \\right)} q_{2}{\\left(t \\right)}\\right) T{\\left(t \\right)} \\cos{\\left(T_{\\theta}{\\left(t \\right)} \\right)} + \\left(2 q_{0}^{2}{\\left(t \\right)} + q_{2}^{2}{\\left(t \\right)} - 1\\right) T{\\left(t \\right)} \\sin{\\left(T_{\\theta}{\\left(t \\right)} \\right)} \\cos{\\left(T_{\\phi}{\\left(t \\right)} \\right)}}{m}$"
      ],
      "text/plain": [
       "Eq(Derivative(v_y(t), t), ((-2*q0(t)*q1(t) + 2*q2(t)*q3(t))*T(t)*sin(T_phi(t))*sin(T_theta(t)) + (2*q0(t)*q3(t) + 2*q1(t)*q2(t))*T(t)*cos(T_theta(t)) + (2*q0(t)**2 + q2(t)**2 - 1)*T(t)*sin(T_theta(t))*cos(T_phi(t)))/m)"
      ]
     },
     "metadata": {},
     "output_type": "display_data"
    },
    {
     "data": {
      "text/latex": [
       "$\\displaystyle \\frac{d}{d t} v_{z}{\\left(t \\right)} = - g + \\frac{\\left(2 q_{0}{\\left(t \\right)} q_{1}{\\left(t \\right)} + 2 q_{2}{\\left(t \\right)} q_{3}{\\left(t \\right)}\\right) T{\\left(t \\right)} \\sin{\\left(T_{\\theta}{\\left(t \\right)} \\right)} \\cos{\\left(T_{\\phi}{\\left(t \\right)} \\right)} + \\left(- 2 q_{0}{\\left(t \\right)} q_{2}{\\left(t \\right)} + 2 q_{1}{\\left(t \\right)} q_{3}{\\left(t \\right)}\\right) T{\\left(t \\right)} \\cos{\\left(T_{\\theta}{\\left(t \\right)} \\right)} + \\left(2 q_{0}^{2}{\\left(t \\right)} + q_{3}^{2}{\\left(t \\right)} - 1\\right) T{\\left(t \\right)} \\sin{\\left(T_{\\phi}{\\left(t \\right)} \\right)} \\sin{\\left(T_{\\theta}{\\left(t \\right)} \\right)}}{m}$"
      ],
      "text/plain": [
       "Eq(Derivative(v_z(t), t), -g + ((2*q0(t)*q1(t) + 2*q2(t)*q3(t))*T(t)*sin(T_theta(t))*cos(T_phi(t)) + (-2*q0(t)*q2(t) + 2*q1(t)*q3(t))*T(t)*cos(T_theta(t)) + (2*q0(t)**2 + q3(t)**2 - 1)*T(t)*sin(T_phi(t))*sin(T_theta(t)))/m)"
      ]
     },
     "metadata": {},
     "output_type": "display_data"
    }
   ],
   "source": [
    "from sympy import *\n",
    "def mateq2list(lhs: Matrix, rhs: Matrix):\n",
    "    L = []\n",
    "    for i in range(lhs.rows):\n",
    "        L.append(Eq(lhs[i], rhs[i], evaluate=False))\n",
    "    return L\n",
    "## Variables\n",
    "t = symbols(\"t\")                                                # Tiempo\n",
    "g = symbols(\"g\")                                                # Constante gravitacional\n",
    "m = symbols(\"m\")                                                # Masa del cohete\n",
    "T = symbols(\"T\", cls=Function)                                  # Empuje de propulsor\n",
    "T_a1, T_a2 = symbols(\"T_theta, T_phi\", cls=Function)            # Orientación de propulsor\n",
    "q0, q1, q2, q3 = symbols(\"q0, q1, q2, q3\", cls=Function)                                # Orientación del cohete\n",
    "vx, vy, vz = symbols(\"v_x, v_y, v_z\", cls=Function)             # Velocidad\n",
    "\n",
    "## Ecuaciones del movimiento en traslación\n",
    "# Fuerzas Body frame\n",
    "F_B = Matrix([\n",
    "    T(t)*cos(T_a1(t)),\n",
    "    T(t)*sin(T_a1(t))*cos(T_a2(t)),\n",
    "    T(t)*sin(T_a1(t))*sin(T_a2(t))\n",
    "])\n",
    "\n",
    "# Matriz transformación de Body frame a Inertial frame\n",
    "Q_BI = Matrix([\n",
    "    [2*q0(t)**2+2*q1(t)**2-1, 2*(q1(t)*q2(t)-q0(t)*q3(t)), 2*(q1(t)*q3(t)+q0(t)*q2(t))],\n",
    "    [2*(q1(t)*q2(t)+q0(t)*q3(t)), 2*q0(t)**2+q2(t)**2-1, 2*(q2(t)*q3(t)-q0(t)*q1(t))],\n",
    "    [2*(q1(t)*q3(t)-q0(t)*q2(t)), 2*(q2(t)*q3(t)+q0(t)*q1(t)), 2*q0(t)**2+q3(t)**2-1]\n",
    "])\n",
    "\n",
    "# Segunda ley de newton\n",
    "G = Matrix([0, 0, -g])\n",
    "V = Matrix([vx(t), vy(t), vz(t)])\n",
    "eqs_1 = mateq2list(diff(V, t), G + Q_BI*F_B/m)\n",
    "for eq in eqs_1: display(eq)"
   ]
  },
  {
   "cell_type": "code",
   "execution_count": 15,
   "metadata": {},
   "outputs": [
    {
     "data": {
      "text/latex": [
       "$\\displaystyle \\frac{d}{d t} \\omega_{x}{\\left(t \\right)} = \\frac{I_{y} \\omega_{y}{\\left(t \\right)} \\omega_{z}{\\left(t \\right)} - I_{z} \\omega_{y}{\\left(t \\right)} \\omega_{z}{\\left(t \\right)}}{I_{x}}$"
      ],
      "text/plain": [
       "Eq(Derivative(omega_x(t), t), (I_y*omega_y(t)*omega_z(t) - I_z*omega_y(t)*omega_z(t))/I_x)"
      ]
     },
     "metadata": {},
     "output_type": "display_data"
    },
    {
     "data": {
      "text/latex": [
       "$\\displaystyle \\frac{d}{d t} \\omega_{y}{\\left(t \\right)} = \\frac{- I_{x} \\omega_{x}{\\left(t \\right)} \\omega_{z}{\\left(t \\right)} + I_{z} \\omega_{x}{\\left(t \\right)} \\omega_{z}{\\left(t \\right)} + \\frac{l T{\\left(t \\right)} \\sin{\\left(T_{\\phi}{\\left(t \\right)} \\right)} \\sin{\\left(T_{\\theta}{\\left(t \\right)} \\right)}}{2}}{I_{y}}$"
      ],
      "text/plain": [
       "Eq(Derivative(omega_y(t), t), (-I_x*omega_x(t)*omega_z(t) + I_z*omega_x(t)*omega_z(t) + l*T(t)*sin(T_phi(t))*sin(T_theta(t))/2)/I_y)"
      ]
     },
     "metadata": {},
     "output_type": "display_data"
    },
    {
     "data": {
      "text/latex": [
       "$\\displaystyle \\frac{d}{d t} \\omega_{z}{\\left(t \\right)} = \\frac{I_{x} \\omega_{x}{\\left(t \\right)} \\omega_{y}{\\left(t \\right)} - I_{y} \\omega_{x}{\\left(t \\right)} \\omega_{y}{\\left(t \\right)} - \\frac{l T{\\left(t \\right)} \\sin{\\left(T_{\\theta}{\\left(t \\right)} \\right)} \\cos{\\left(T_{\\phi}{\\left(t \\right)} \\right)}}{2}}{I_{z}}$"
      ],
      "text/plain": [
       "Eq(Derivative(omega_z(t), t), (I_x*omega_x(t)*omega_y(t) - I_y*omega_x(t)*omega_y(t) - l*T(t)*sin(T_theta(t))*cos(T_phi(t))/2)/I_z)"
      ]
     },
     "metadata": {},
     "output_type": "display_data"
    },
    {
     "data": {
      "text/latex": [
       "$\\displaystyle \\frac{d}{d t} q_{0}{\\left(t \\right)} = - 0.5 \\omega_{x}{\\left(t \\right)} q_{1}{\\left(t \\right)} - 0.5 \\omega_{y}{\\left(t \\right)} q_{2}{\\left(t \\right)} - 0.5 \\omega_{z}{\\left(t \\right)} q_{3}{\\left(t \\right)}$"
      ],
      "text/plain": [
       "Eq(Derivative(q0(t), t), -0.5*omega_x(t)*q1(t) - 0.5*omega_y(t)*q2(t) - 0.5*omega_z(t)*q3(t))"
      ]
     },
     "metadata": {},
     "output_type": "display_data"
    },
    {
     "data": {
      "text/latex": [
       "$\\displaystyle \\frac{d}{d t} q_{1}{\\left(t \\right)} = 0.5 \\omega_{x}{\\left(t \\right)} q_{0}{\\left(t \\right)} - 0.5 \\omega_{y}{\\left(t \\right)} q_{3}{\\left(t \\right)} + 0.5 \\omega_{z}{\\left(t \\right)} q_{2}{\\left(t \\right)}$"
      ],
      "text/plain": [
       "Eq(Derivative(q1(t), t), 0.5*omega_x(t)*q0(t) - 0.5*omega_y(t)*q3(t) + 0.5*omega_z(t)*q2(t))"
      ]
     },
     "metadata": {},
     "output_type": "display_data"
    },
    {
     "data": {
      "text/latex": [
       "$\\displaystyle \\frac{d}{d t} q_{2}{\\left(t \\right)} = 0.5 \\omega_{x}{\\left(t \\right)} q_{3}{\\left(t \\right)} + 0.5 \\omega_{y}{\\left(t \\right)} q_{0}{\\left(t \\right)} - 0.5 \\omega_{z}{\\left(t \\right)} q_{1}{\\left(t \\right)}$"
      ],
      "text/plain": [
       "Eq(Derivative(q2(t), t), 0.5*omega_x(t)*q3(t) + 0.5*omega_y(t)*q0(t) - 0.5*omega_z(t)*q1(t))"
      ]
     },
     "metadata": {},
     "output_type": "display_data"
    },
    {
     "data": {
      "text/latex": [
       "$\\displaystyle \\frac{d}{d t} q_{3}{\\left(t \\right)} = - 0.5 \\omega_{x}{\\left(t \\right)} q_{2}{\\left(t \\right)} + 0.5 \\omega_{y}{\\left(t \\right)} q_{1}{\\left(t \\right)} + 0.5 \\omega_{z}{\\left(t \\right)} q_{0}{\\left(t \\right)}$"
      ],
      "text/plain": [
       "Eq(Derivative(q3(t), t), -0.5*omega_x(t)*q2(t) + 0.5*omega_y(t)*q1(t) + 0.5*omega_z(t)*q0(t))"
      ]
     },
     "metadata": {},
     "output_type": "display_data"
    }
   ],
   "source": [
    "## Variables\n",
    "l = symbols(\"l\")                                                # Largo del cohete\n",
    "Ix, Iy, Iz = symbols(\"I_x, I_y, I_z\")                           # Momentos de inercia principales\n",
    "wx, wy, wz = symbols(\"omega_x, omega_y, omega_z\", cls=Function) # Velocidad angular Body frame\n",
    "\n",
    "## Ecuaciones del movimiento en rotación\n",
    "# Momentos Body frame\n",
    "T_R = Matrix([-l/2, 0, 0])  # Posición de propulsor respecto a centro de masa\n",
    "M_B = T_R.cross(F_B)\n",
    "\n",
    "# Ecuaciónes de euler para rotación Body frame\n",
    "I = diag(Ix, Iy, Iz)\n",
    "w = Matrix([wx(t), wy(t), wz(t)])\n",
    "eqs_2 = mateq2list(diff(w, t), I**-1*(M_B-w.cross(I*w)))\n",
    "for eq in eqs_2: display(eq)\n",
    "\n",
    "# Convertir velocidad angular Body frame a Inertial frame\n",
    "Q = Matrix([q0(t), q1(t), q2(t), q3(t)])\n",
    "S = 1/2*Matrix([\n",
    "    [-q1(t), -q2(t), -q3(t)],\n",
    "    [q0(t), -q3(t), q2(t)],\n",
    "    [q3(t), q0(t), -q1(t)],\n",
    "    [-q2(t), q1(t), q0(t)]\n",
    "])\n",
    "eqs_3 = mateq2list(diff(Q, t), S*w)\n",
    "for eq in eqs_3: display(eq)"
   ]
  },
  {
   "cell_type": "code",
   "execution_count": 16,
   "metadata": {},
   "outputs": [
    {
     "data": {
      "text/latex": [
       "$\\displaystyle \\frac{d}{d t} x{\\left(t \\right)} = v_{x}{\\left(t \\right)}$"
      ],
      "text/plain": [
       "Eq(Derivative(x(t), t), v_x(t))"
      ]
     },
     "metadata": {},
     "output_type": "display_data"
    },
    {
     "data": {
      "text/latex": [
       "$\\displaystyle \\frac{d}{d t} y{\\left(t \\right)} = v_{y}{\\left(t \\right)}$"
      ],
      "text/plain": [
       "Eq(Derivative(y(t), t), v_y(t))"
      ]
     },
     "metadata": {},
     "output_type": "display_data"
    },
    {
     "data": {
      "text/latex": [
       "$\\displaystyle \\frac{d}{d t} z{\\left(t \\right)} = v_{z}{\\left(t \\right)}$"
      ],
      "text/plain": [
       "Eq(Derivative(z(t), t), v_z(t))"
      ]
     },
     "metadata": {},
     "output_type": "display_data"
    },
    {
     "data": {
      "text/latex": [
       "$\\displaystyle \\frac{d}{d t} v_{x}{\\left(t \\right)} = \\frac{\\left(2 q_{0}{\\left(t \\right)} q_{2}{\\left(t \\right)} + 2 q_{1}{\\left(t \\right)} q_{3}{\\left(t \\right)}\\right) T{\\left(t \\right)} \\sin{\\left(T_{\\phi}{\\left(t \\right)} \\right)} \\sin{\\left(T_{\\theta}{\\left(t \\right)} \\right)} + \\left(- 2 q_{0}{\\left(t \\right)} q_{3}{\\left(t \\right)} + 2 q_{1}{\\left(t \\right)} q_{2}{\\left(t \\right)}\\right) T{\\left(t \\right)} \\sin{\\left(T_{\\theta}{\\left(t \\right)} \\right)} \\cos{\\left(T_{\\phi}{\\left(t \\right)} \\right)} + \\left(2 q_{0}^{2}{\\left(t \\right)} + 2 q_{1}^{2}{\\left(t \\right)} - 1\\right) T{\\left(t \\right)} \\cos{\\left(T_{\\theta}{\\left(t \\right)} \\right)}}{m}$"
      ],
      "text/plain": [
       "Eq(Derivative(v_x(t), t), ((2*q0(t)*q2(t) + 2*q1(t)*q3(t))*T(t)*sin(T_phi(t))*sin(T_theta(t)) + (-2*q0(t)*q3(t) + 2*q1(t)*q2(t))*T(t)*sin(T_theta(t))*cos(T_phi(t)) + (2*q0(t)**2 + 2*q1(t)**2 - 1)*T(t)*cos(T_theta(t)))/m)"
      ]
     },
     "metadata": {},
     "output_type": "display_data"
    },
    {
     "data": {
      "text/latex": [
       "$\\displaystyle \\frac{d}{d t} v_{y}{\\left(t \\right)} = \\frac{\\left(- 2 q_{0}{\\left(t \\right)} q_{1}{\\left(t \\right)} + 2 q_{2}{\\left(t \\right)} q_{3}{\\left(t \\right)}\\right) T{\\left(t \\right)} \\sin{\\left(T_{\\phi}{\\left(t \\right)} \\right)} \\sin{\\left(T_{\\theta}{\\left(t \\right)} \\right)} + \\left(2 q_{0}{\\left(t \\right)} q_{3}{\\left(t \\right)} + 2 q_{1}{\\left(t \\right)} q_{2}{\\left(t \\right)}\\right) T{\\left(t \\right)} \\cos{\\left(T_{\\theta}{\\left(t \\right)} \\right)} + \\left(2 q_{0}^{2}{\\left(t \\right)} + q_{2}^{2}{\\left(t \\right)} - 1\\right) T{\\left(t \\right)} \\sin{\\left(T_{\\theta}{\\left(t \\right)} \\right)} \\cos{\\left(T_{\\phi}{\\left(t \\right)} \\right)}}{m}$"
      ],
      "text/plain": [
       "Eq(Derivative(v_y(t), t), ((-2*q0(t)*q1(t) + 2*q2(t)*q3(t))*T(t)*sin(T_phi(t))*sin(T_theta(t)) + (2*q0(t)*q3(t) + 2*q1(t)*q2(t))*T(t)*cos(T_theta(t)) + (2*q0(t)**2 + q2(t)**2 - 1)*T(t)*sin(T_theta(t))*cos(T_phi(t)))/m)"
      ]
     },
     "metadata": {},
     "output_type": "display_data"
    },
    {
     "data": {
      "text/latex": [
       "$\\displaystyle \\frac{d}{d t} v_{z}{\\left(t \\right)} = - g + \\frac{\\left(2 q_{0}{\\left(t \\right)} q_{1}{\\left(t \\right)} + 2 q_{2}{\\left(t \\right)} q_{3}{\\left(t \\right)}\\right) T{\\left(t \\right)} \\sin{\\left(T_{\\theta}{\\left(t \\right)} \\right)} \\cos{\\left(T_{\\phi}{\\left(t \\right)} \\right)} + \\left(- 2 q_{0}{\\left(t \\right)} q_{2}{\\left(t \\right)} + 2 q_{1}{\\left(t \\right)} q_{3}{\\left(t \\right)}\\right) T{\\left(t \\right)} \\cos{\\left(T_{\\theta}{\\left(t \\right)} \\right)} + \\left(2 q_{0}^{2}{\\left(t \\right)} + q_{3}^{2}{\\left(t \\right)} - 1\\right) T{\\left(t \\right)} \\sin{\\left(T_{\\phi}{\\left(t \\right)} \\right)} \\sin{\\left(T_{\\theta}{\\left(t \\right)} \\right)}}{m}$"
      ],
      "text/plain": [
       "Eq(Derivative(v_z(t), t), -g + ((2*q0(t)*q1(t) + 2*q2(t)*q3(t))*T(t)*sin(T_theta(t))*cos(T_phi(t)) + (-2*q0(t)*q2(t) + 2*q1(t)*q3(t))*T(t)*cos(T_theta(t)) + (2*q0(t)**2 + q3(t)**2 - 1)*T(t)*sin(T_phi(t))*sin(T_theta(t)))/m)"
      ]
     },
     "metadata": {},
     "output_type": "display_data"
    },
    {
     "data": {
      "text/latex": [
       "$\\displaystyle \\frac{d}{d t} \\omega_{x}{\\left(t \\right)} = \\frac{I_{y} \\omega_{y}{\\left(t \\right)} \\omega_{z}{\\left(t \\right)} - I_{z} \\omega_{y}{\\left(t \\right)} \\omega_{z}{\\left(t \\right)}}{I_{x}}$"
      ],
      "text/plain": [
       "Eq(Derivative(omega_x(t), t), (I_y*omega_y(t)*omega_z(t) - I_z*omega_y(t)*omega_z(t))/I_x)"
      ]
     },
     "metadata": {},
     "output_type": "display_data"
    },
    {
     "data": {
      "text/latex": [
       "$\\displaystyle \\frac{d}{d t} \\omega_{y}{\\left(t \\right)} = \\frac{- I_{x} \\omega_{x}{\\left(t \\right)} \\omega_{z}{\\left(t \\right)} + I_{z} \\omega_{x}{\\left(t \\right)} \\omega_{z}{\\left(t \\right)} + \\frac{l T{\\left(t \\right)} \\sin{\\left(T_{\\phi}{\\left(t \\right)} \\right)} \\sin{\\left(T_{\\theta}{\\left(t \\right)} \\right)}}{2}}{I_{y}}$"
      ],
      "text/plain": [
       "Eq(Derivative(omega_y(t), t), (-I_x*omega_x(t)*omega_z(t) + I_z*omega_x(t)*omega_z(t) + l*T(t)*sin(T_phi(t))*sin(T_theta(t))/2)/I_y)"
      ]
     },
     "metadata": {},
     "output_type": "display_data"
    },
    {
     "data": {
      "text/latex": [
       "$\\displaystyle \\frac{d}{d t} \\omega_{z}{\\left(t \\right)} = \\frac{I_{x} \\omega_{x}{\\left(t \\right)} \\omega_{y}{\\left(t \\right)} - I_{y} \\omega_{x}{\\left(t \\right)} \\omega_{y}{\\left(t \\right)} - \\frac{l T{\\left(t \\right)} \\sin{\\left(T_{\\theta}{\\left(t \\right)} \\right)} \\cos{\\left(T_{\\phi}{\\left(t \\right)} \\right)}}{2}}{I_{z}}$"
      ],
      "text/plain": [
       "Eq(Derivative(omega_z(t), t), (I_x*omega_x(t)*omega_y(t) - I_y*omega_x(t)*omega_y(t) - l*T(t)*sin(T_theta(t))*cos(T_phi(t))/2)/I_z)"
      ]
     },
     "metadata": {},
     "output_type": "display_data"
    },
    {
     "data": {
      "text/latex": [
       "$\\displaystyle \\frac{d}{d t} q_{0}{\\left(t \\right)} = - 0.5 \\omega_{x}{\\left(t \\right)} q_{1}{\\left(t \\right)} - 0.5 \\omega_{y}{\\left(t \\right)} q_{2}{\\left(t \\right)} - 0.5 \\omega_{z}{\\left(t \\right)} q_{3}{\\left(t \\right)}$"
      ],
      "text/plain": [
       "Eq(Derivative(q0(t), t), -0.5*omega_x(t)*q1(t) - 0.5*omega_y(t)*q2(t) - 0.5*omega_z(t)*q3(t))"
      ]
     },
     "metadata": {},
     "output_type": "display_data"
    },
    {
     "data": {
      "text/latex": [
       "$\\displaystyle \\frac{d}{d t} q_{1}{\\left(t \\right)} = 0.5 \\omega_{x}{\\left(t \\right)} q_{0}{\\left(t \\right)} - 0.5 \\omega_{y}{\\left(t \\right)} q_{3}{\\left(t \\right)} + 0.5 \\omega_{z}{\\left(t \\right)} q_{2}{\\left(t \\right)}$"
      ],
      "text/plain": [
       "Eq(Derivative(q1(t), t), 0.5*omega_x(t)*q0(t) - 0.5*omega_y(t)*q3(t) + 0.5*omega_z(t)*q2(t))"
      ]
     },
     "metadata": {},
     "output_type": "display_data"
    },
    {
     "data": {
      "text/latex": [
       "$\\displaystyle \\frac{d}{d t} q_{2}{\\left(t \\right)} = 0.5 \\omega_{x}{\\left(t \\right)} q_{3}{\\left(t \\right)} + 0.5 \\omega_{y}{\\left(t \\right)} q_{0}{\\left(t \\right)} - 0.5 \\omega_{z}{\\left(t \\right)} q_{1}{\\left(t \\right)}$"
      ],
      "text/plain": [
       "Eq(Derivative(q2(t), t), 0.5*omega_x(t)*q3(t) + 0.5*omega_y(t)*q0(t) - 0.5*omega_z(t)*q1(t))"
      ]
     },
     "metadata": {},
     "output_type": "display_data"
    },
    {
     "data": {
      "text/latex": [
       "$\\displaystyle \\frac{d}{d t} q_{3}{\\left(t \\right)} = - 0.5 \\omega_{x}{\\left(t \\right)} q_{2}{\\left(t \\right)} + 0.5 \\omega_{y}{\\left(t \\right)} q_{1}{\\left(t \\right)} + 0.5 \\omega_{z}{\\left(t \\right)} q_{0}{\\left(t \\right)}$"
      ],
      "text/plain": [
       "Eq(Derivative(q3(t), t), -0.5*omega_x(t)*q2(t) + 0.5*omega_y(t)*q1(t) + 0.5*omega_z(t)*q0(t))"
      ]
     },
     "metadata": {},
     "output_type": "display_data"
    }
   ],
   "source": [
    "## Variables\n",
    "x, y, z = symbols(\"x, y, z\", cls=Function)  # Posición\n",
    "\n",
    "## Sistema de ecuaciones completo\n",
    "R = Matrix([x(t), y(t), z(t)])\n",
    "eqs_4 = mateq2list(diff(R, t), V)\n",
    "eqs = eqs_4 + eqs_1 + eqs_2 + eqs_3\n",
    "eqs_rhs = []\n",
    "for eq in eqs:\n",
    "    display(eq)\n",
    "    eqs_rhs.append(eq.rhs)"
   ]
  },
  {
   "cell_type": "code",
   "execution_count": 17,
   "metadata": {},
   "outputs": [
    {
     "name": "stdout",
     "output_type": "stream",
     "text": [
      "x, y, z, v_x, v_y, v_z, omega_x, omega_y, omega_z, q0, q1, q2, q3, T, T_theta, T_phi, m, g, l, I_x, I_y, I_z\n",
      "[v_x,\n",
      "v_y,\n",
      "v_z,\n",
      "((2*q0*q2 + 2*q1*q3)*T*math.sin(T_phi)*math.sin(T_theta) + (-2*q0*q3 + 2*q1*q2)*T*math.sin(T_theta)*math.cos(T_phi) + (2*q0**2 + 2*q1**2 - 1)*T*math.cos(T_theta))/m,\n",
      "((-2*q0*q1 + 2*q2*q3)*T*math.sin(T_phi)*math.sin(T_theta) + (2*q0*q3 + 2*q1*q2)*T*math.cos(T_theta) + (2*q0**2 + q2**2 - 1)*T*math.sin(T_theta)*math.cos(T_phi))/m,\n",
      "-g + ((2*q0*q1 + 2*q2*q3)*T*math.sin(T_theta)*math.cos(T_phi) + (-2*q0*q2 + 2*q1*q3)*T*math.cos(T_theta) + (2*q0**2 + q3**2 - 1)*T*math.sin(T_phi)*math.sin(T_theta))/m,\n",
      "(I_y*omega_y*omega_z - I_z*omega_y*omega_z)/I_x,\n",
      "(-I_x*omega_x*omega_z + I_z*omega_x*omega_z + l*T*math.sin(T_phi)*math.sin(T_theta)/2)/I_y,\n",
      "(I_x*omega_x*omega_y - I_y*omega_x*omega_y - l*T*math.sin(T_theta)*math.cos(T_phi)/2)/I_z,\n",
      "-0.5*omega_x*q1 - 0.5*omega_y*q2 - 0.5*omega_z*q3,\n",
      "0.5*omega_x*q0 - 0.5*omega_y*q3 + 0.5*omega_z*q2,\n",
      "0.5*omega_x*q3 + 0.5*omega_y*q0 - 0.5*omega_z*q1,\n",
      "-0.5*omega_x*q2 + 0.5*omega_y*q1 + 0.5*omega_z*q0]\n"
     ]
    }
   ],
   "source": [
    "## Sistema de ecuaciones evaluable numéricamente\n",
    "sym_ss = [x(t), y(t), z(t),\n",
    "          vx(t), vy(t), vz(t),\n",
    "          wx(t), wy(t), wz(t),\n",
    "          q0(t), q1(t), q2(t), q3(t)]\n",
    "sym_t = [T(t), T_a1(t), T_a2(t)]\n",
    "sym_pam = [m, g, l, Ix, Iy, Iz]\n",
    "sys = lambdify((sym_ss, sym_t, sym_pam), eqs_rhs)\n",
    "\n",
    "## Convertir ecuaciones a código Javascript\n",
    "symlist2args = lambda sym: str(sym).replace(\"(t)\", \"\").replace(\"[\",\"\").replace(\"]\",\"\")\n",
    "def streq2js(s):\n",
    "    subs = [\n",
    "        [\"(t)\", \"\"],\n",
    "        [\"Abs\", \"math.abs\"],\n",
    "        [\"sqrt\", \"math.sqrt\"],\n",
    "        [\"cos\", \"math.cos\"],\n",
    "        [\"sin\", \"math.sin\"]\n",
    "    ]\n",
    "    for r in subs:\n",
    "        s = s.replace(r[0], r[1])\n",
    "    return s\n",
    "s = \"[\"\n",
    "for eq in eqs:\n",
    "    s += streq2js(str(eq.rhs)) + \",\\n\"\n",
    "s = s[0:-2] + \"]\"\n",
    "print(symlist2args(sym_ss) + \", \" + symlist2args(sym_t) + \", \" + symlist2args(sym_pam))\n",
    "print(s)\n",
    "\n",
    "from numpy import *\n",
    "import quaternion\n",
    "#https://en.wikipedia.org/wiki/Conversion_between_quaternions_and_Euler_angles\n",
    "def euler2quat(yaw, pitch, roll):\n",
    "    cr = cos(roll * 0.5)\n",
    "    sr = sin(roll * 0.5)\n",
    "    cp = cos(pitch * 0.5)\n",
    "    sp = sin(pitch * 0.5)\n",
    "    cy = cos(yaw * 0.5)\n",
    "    sy = sin(yaw * 0.5)\n",
    "\n",
    "    q0 = cr * cp * cy + sr * sp * sy\n",
    "    q1 = sr * cp * cy - cr * sp * sy\n",
    "    q2 = cr * sp * cy + sr * cp * sy\n",
    "    q3 = cr * cp * sy - sr * sp * cy\n",
    "\n",
    "    return q0, q1, q2, q3"
   ]
  },
  {
   "cell_type": "code",
   "execution_count": 136,
   "metadata": {},
   "outputs": [
    {
     "data": {
      "text/plain": [
       "array([-1.03234411e+04,  0.00000000e+00,  1.15923975e+00, -2.25000000e+02,\n",
       "        0.00000000e+00, -2.25102034e+02,  0.00000000e+00, -4.00000000e-02,\n",
       "        0.00000000e+00, -1.31855955e-01,  0.00000000e+00, -9.91268887e-01,\n",
       "        0.00000000e+00])"
      ]
     },
     "metadata": {},
     "output_type": "display_data"
    }
   ],
   "source": [
    "## Integración Runge-Kutta\n",
    "# https://perso.crans.org/besson/publis/notebooks/Runge-Kutta_methods_for_ODE_integration_in_Python.html\n",
    "def rungekutta4(f, y0, t, args=()):\n",
    "    n = len(t)\n",
    "    y = zeros((n, len(y0)))\n",
    "    y[0] = y0\n",
    "    for i in range(n - 1):\n",
    "        h = t[i+1] - t[i]\n",
    "        k1 = f(y[i], t[i], *args)\n",
    "        k2 = f(y[i] + k1 * h / 2., t[i] + h / 2., *args)\n",
    "        k3 = f(y[i] + k2 * h / 2., t[i] + h / 2., *args)\n",
    "        k4 = f(y[i] + k3 * h, t[i] + h, *args)\n",
    "        y[i+1] = y[i] + (h / 6.) * (k1 + 2*k2 + 2*k3 + k4)\n",
    "    return y\n",
    "\n",
    "\n",
    "def sys_wrap(y, t):\n",
    "    tt = array([0, 0, 0])\n",
    "    pam = array([100, 9.81, 3.5, 3.6, 103, 103])\n",
    "    return array(sys(y, tt, pam))\n",
    "\n",
    "# Vector estado\n",
    "yaw = 0\n",
    "pitch = -pi/2\n",
    "roll = 0\n",
    "qw, qx, qy, qz = euler2quat(yaw, pitch, roll)\n",
    "ss = array([0, 0, 3.5,\n",
    "            -225, 0, 225,\n",
    "            0, -0.04, 0,\n",
    "            qw, qx, qy, qz])\n",
    "\n",
    "seconds = 50\n",
    "frequency = 1/60\n",
    "steps = int(seconds * 1/frequency)\n",
    "time = linspace(0, seconds, steps)\n",
    "resultado = rungekutta4(sys_wrap, ss, time)"
   ]
  },
  {
   "cell_type": "code",
   "execution_count": 146,
   "metadata": {},
   "outputs": [],
   "source": [
    "import pandas as pd\n",
    "df = pd.DataFrame(resultado, columns = sym_ss)\n",
    "#df.to_csv(\"resultado.csv\", index=False)"
   ]
  },
  {
   "cell_type": "code",
   "execution_count": 138,
   "metadata": {},
   "outputs": [
    {
     "data": {
      "application/vnd.jupyter.widget-view+json": {
       "model_id": "29bce6a080e348d28fab4f51eec0c5da",
       "version_major": 2,
       "version_minor": 0
      },
      "text/plain": [
       "Output()"
      ]
     },
     "metadata": {},
     "output_type": "display_data"
    },
    {
     "ename": "KeyboardInterrupt",
     "evalue": "",
     "output_type": "error",
     "traceback": [
      "\u001b[1;31m---------------------------------------------------------------------------\u001b[0m",
      "\u001b[1;31mKeyboardInterrupt\u001b[0m                         Traceback (most recent call last)",
      "Cell \u001b[1;32mIn[138], line 51\u001b[0m\n\u001b[0;32m     49\u001b[0m ss \u001b[39m=\u001b[39m ss \u001b[39m+\u001b[39m [Y\u001b[39m*\u001b[39mh \u001b[39mfor\u001b[39;00m Y \u001b[39min\u001b[39;00m sys(ss, tt, pam)]\n\u001b[0;32m     50\u001b[0m update_plot()\n\u001b[1;32m---> 51\u001b[0m time\u001b[39m.\u001b[39;49msleep(h)\n",
      "\u001b[1;31mKeyboardInterrupt\u001b[0m: "
     ]
    }
   ],
   "source": [
    "## Simulación con Euler\n",
    "## Vector estado\n",
    "yaw = 0\n",
    "pitch = 0\n",
    "roll = 0\n",
    "qw, qx, qy, qz = euler2quat(yaw, pitch, roll)\n",
    "#           x  y  z vx vy vz wx wy wz\n",
    "ss = array([0, 0, 0, 0, 0, 0, 0, 0, 0, qw, qx, qy, qz])\n",
    "\n",
    "# Vector control de propulsor\n",
    "#           T a1 a2\n",
    "tt = array([1, 0, 0])\n",
    "\n",
    "# Vector parametros\n",
    "#             m  g  l   Ix   Iy   Iz\n",
    "pam = array([10, 0, 1, 0.3, 0.3, 0.3])\n",
    "\n",
    "## Dibujar\n",
    "plot = k3d.plot()\n",
    "Vheading = k3d.vectors([0, 0, 0], [1, 0, 0])\n",
    "plot += Vheading\n",
    "frog = k3d.stl(\n",
    "    open(\"Missile Toad.stl\", \"rb\").read(),\n",
    "    color=0x00ff00,\n",
    "    transform=k3d.transform(\n",
    "        scaling=[0.01,0.01,0.01],\n",
    "    )\n",
    ")\n",
    "plot += frog\n",
    "plot.display()\n",
    "\n",
    "def update_plot():    \n",
    "    ## Actualizar rana\n",
    "    # La libreria requiere el cuaternion en forma Angle-Axis o sino no lo rota bien\n",
    "    q = quaternion.quaternion(*ss[9:13])\n",
    "    ax = quaternion.as_rotation_vector(q)\n",
    "    n = linalg.norm(ax)\n",
    "    frog.transform.rotation = concatenate(([n], ax))\n",
    "    frog.transform.translation = ss[0:3]\n",
    "    ## Actualizar vector\n",
    "    Vheading.vectors = quaternion.rotate_vectors(q, [1, 0, 0])\n",
    "    Vheading.origins = ss[0:3]\n",
    "    Vheading.send_state()\n",
    "\n",
    "## Metodo de euler\n",
    "h = 1/30\n",
    "while True:\n",
    "    if keyboard.is_pressed(\"esc\"): break\n",
    "    ss = ss + [Y*h for Y in sys(ss, tt, pam)]\n",
    "    update_plot()\n",
    "    time.sleep(h)"
   ]
  }
 ],
 "metadata": {
  "kernelspec": {
   "display_name": "base",
   "language": "python",
   "name": "python3"
  },
  "language_info": {
   "codemirror_mode": {
    "name": "ipython",
    "version": 3
   },
   "file_extension": ".py",
   "mimetype": "text/x-python",
   "name": "python",
   "nbconvert_exporter": "python",
   "pygments_lexer": "ipython3",
   "version": "3.9.16"
  },
  "orig_nbformat": 4
 },
 "nbformat": 4,
 "nbformat_minor": 2
}
