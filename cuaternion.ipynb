{
 "cells": [
  {
   "cell_type": "code",
   "execution_count": 1,
   "metadata": {},
   "outputs": [],
   "source": [
    "import time\n",
    "import keyboard\n",
    "import k3d"
   ]
  },
  {
   "cell_type": "code",
   "execution_count": 2,
   "metadata": {},
   "outputs": [
    {
     "data": {
      "text/latex": [
       "$\\displaystyle \\frac{d}{d t} v_{x}{\\left(t \\right)} = \\frac{\\left(2 q_{0}{\\left(t \\right)} q_{2}{\\left(t \\right)} + 2 q_{1}{\\left(t \\right)} q_{3}{\\left(t \\right)}\\right) T{\\left(t \\right)} \\sin{\\left(T_{\\phi}{\\left(t \\right)} \\right)} \\sin{\\left(T_{\\theta}{\\left(t \\right)} \\right)} + \\left(- 2 q_{0}{\\left(t \\right)} q_{3}{\\left(t \\right)} + 2 q_{1}{\\left(t \\right)} q_{2}{\\left(t \\right)}\\right) T{\\left(t \\right)} \\sin{\\left(T_{\\theta}{\\left(t \\right)} \\right)} \\cos{\\left(T_{\\phi}{\\left(t \\right)} \\right)} + \\left(2 q_{0}^{2}{\\left(t \\right)} + 2 q_{1}^{2}{\\left(t \\right)} - 1\\right) T{\\left(t \\right)} \\cos{\\left(T_{\\theta}{\\left(t \\right)} \\right)}}{m}$"
      ],
      "text/plain": [
       "Eq(Derivative(v_x(t), t), ((2*q0(t)*q2(t) + 2*q1(t)*q3(t))*T(t)*sin(T_phi(t))*sin(T_theta(t)) + (-2*q0(t)*q3(t) + 2*q1(t)*q2(t))*T(t)*sin(T_theta(t))*cos(T_phi(t)) + (2*q0(t)**2 + 2*q1(t)**2 - 1)*T(t)*cos(T_theta(t)))/m)"
      ]
     },
     "metadata": {},
     "output_type": "display_data"
    },
    {
     "data": {
      "text/latex": [
       "$\\displaystyle \\frac{d}{d t} v_{y}{\\left(t \\right)} = \\frac{\\left(- 2 q_{0}{\\left(t \\right)} q_{1}{\\left(t \\right)} + 2 q_{2}{\\left(t \\right)} q_{3}{\\left(t \\right)}\\right) T{\\left(t \\right)} \\sin{\\left(T_{\\phi}{\\left(t \\right)} \\right)} \\sin{\\left(T_{\\theta}{\\left(t \\right)} \\right)} + \\left(2 q_{0}{\\left(t \\right)} q_{3}{\\left(t \\right)} + 2 q_{1}{\\left(t \\right)} q_{2}{\\left(t \\right)}\\right) T{\\left(t \\right)} \\cos{\\left(T_{\\theta}{\\left(t \\right)} \\right)} + \\left(2 q_{0}^{2}{\\left(t \\right)} + q_{2}^{2}{\\left(t \\right)} - 1\\right) T{\\left(t \\right)} \\sin{\\left(T_{\\theta}{\\left(t \\right)} \\right)} \\cos{\\left(T_{\\phi}{\\left(t \\right)} \\right)}}{m}$"
      ],
      "text/plain": [
       "Eq(Derivative(v_y(t), t), ((-2*q0(t)*q1(t) + 2*q2(t)*q3(t))*T(t)*sin(T_phi(t))*sin(T_theta(t)) + (2*q0(t)*q3(t) + 2*q1(t)*q2(t))*T(t)*cos(T_theta(t)) + (2*q0(t)**2 + q2(t)**2 - 1)*T(t)*sin(T_theta(t))*cos(T_phi(t)))/m)"
      ]
     },
     "metadata": {},
     "output_type": "display_data"
    },
    {
     "data": {
      "text/latex": [
       "$\\displaystyle \\frac{d}{d t} v_{z}{\\left(t \\right)} = - g + \\frac{\\left(2 q_{0}{\\left(t \\right)} q_{1}{\\left(t \\right)} + 2 q_{2}{\\left(t \\right)} q_{3}{\\left(t \\right)}\\right) T{\\left(t \\right)} \\sin{\\left(T_{\\theta}{\\left(t \\right)} \\right)} \\cos{\\left(T_{\\phi}{\\left(t \\right)} \\right)} + \\left(- 2 q_{0}{\\left(t \\right)} q_{2}{\\left(t \\right)} + 2 q_{1}{\\left(t \\right)} q_{3}{\\left(t \\right)}\\right) T{\\left(t \\right)} \\cos{\\left(T_{\\theta}{\\left(t \\right)} \\right)} + \\left(2 q_{0}^{2}{\\left(t \\right)} + q_{3}^{2}{\\left(t \\right)} - 1\\right) T{\\left(t \\right)} \\sin{\\left(T_{\\phi}{\\left(t \\right)} \\right)} \\sin{\\left(T_{\\theta}{\\left(t \\right)} \\right)}}{m}$"
      ],
      "text/plain": [
       "Eq(Derivative(v_z(t), t), -g + ((2*q0(t)*q1(t) + 2*q2(t)*q3(t))*T(t)*sin(T_theta(t))*cos(T_phi(t)) + (-2*q0(t)*q2(t) + 2*q1(t)*q3(t))*T(t)*cos(T_theta(t)) + (2*q0(t)**2 + q3(t)**2 - 1)*T(t)*sin(T_phi(t))*sin(T_theta(t)))/m)"
      ]
     },
     "metadata": {},
     "output_type": "display_data"
    }
   ],
   "source": [
    "from sympy import *\n",
    "def mateq2list(lhs: Matrix, rhs: Matrix):\n",
    "    L = []\n",
    "    for i in range(lhs.rows):\n",
    "        L.append(Eq(lhs[i], rhs[i], evaluate=False))\n",
    "    return L\n",
    "## Variables\n",
    "t = symbols(\"t\")                                                # Tiempo\n",
    "g = symbols(\"g\")                                                # Constante gravitacional\n",
    "m = symbols(\"m\")                                                # Masa del cohete\n",
    "T = symbols(\"T\", cls=Function)                                  # Empuje de propulsor\n",
    "T_a1, T_a2 = symbols(\"T_theta, T_phi\", cls=Function)            # Orientación de propulsor\n",
    "q0, q1, q2, q3 = symbols(\"q0, q1, q2, q3\", cls=Function)                                # Orientación del cohete\n",
    "vx, vy, vz = symbols(\"v_x, v_y, v_z\", cls=Function)             # Velocidad\n",
    "\n",
    "## Ecuaciones del movimiento en traslación\n",
    "# Fuerzas Body frame\n",
    "F_B = Matrix([\n",
    "    T(t)*cos(T_a1(t)),\n",
    "    T(t)*sin(T_a1(t))*cos(T_a2(t)),\n",
    "    T(t)*sin(T_a1(t))*sin(T_a2(t))\n",
    "])\n",
    "\n",
    "# Matriz transformación de Body frame a Inertial frame\n",
    "Q_BI = Matrix([\n",
    "    [2*q0(t)**2+2*q1(t)**2-1, 2*(q1(t)*q2(t)-q0(t)*q3(t)), 2*(q1(t)*q3(t)+q0(t)*q2(t))],\n",
    "    [2*(q1(t)*q2(t)+q0(t)*q3(t)), 2*q0(t)**2+q2(t)**2-1, 2*(q2(t)*q3(t)-q0(t)*q1(t))],\n",
    "    [2*(q1(t)*q3(t)-q0(t)*q2(t)), 2*(q2(t)*q3(t)+q0(t)*q1(t)), 2*q0(t)**2+q3(t)**2-1]\n",
    "])\n",
    "\n",
    "# Segunda ley de newton\n",
    "G = Matrix([0, 0, -g])\n",
    "V = Matrix([vx(t), vy(t), vz(t)])\n",
    "eqs_1 = mateq2list(diff(V, t), G + Q_BI*F_B/m)\n",
    "for eq in eqs_1: display(eq)"
   ]
  },
  {
   "cell_type": "code",
   "execution_count": 3,
   "metadata": {},
   "outputs": [
    {
     "data": {
      "text/latex": [
       "$\\displaystyle \\frac{d}{d t} \\omega_{x}{\\left(t \\right)} = \\frac{I_{y} \\omega_{y}{\\left(t \\right)} \\omega_{z}{\\left(t \\right)} - I_{z} \\omega_{y}{\\left(t \\right)} \\omega_{z}{\\left(t \\right)}}{I_{x}}$"
      ],
      "text/plain": [
       "Eq(Derivative(omega_x(t), t), (I_y*omega_y(t)*omega_z(t) - I_z*omega_y(t)*omega_z(t))/I_x)"
      ]
     },
     "metadata": {},
     "output_type": "display_data"
    },
    {
     "data": {
      "text/latex": [
       "$\\displaystyle \\frac{d}{d t} \\omega_{y}{\\left(t \\right)} = \\frac{- I_{x} \\omega_{x}{\\left(t \\right)} \\omega_{z}{\\left(t \\right)} + I_{z} \\omega_{x}{\\left(t \\right)} \\omega_{z}{\\left(t \\right)} + \\frac{l T{\\left(t \\right)} \\sin{\\left(T_{\\phi}{\\left(t \\right)} \\right)} \\sin{\\left(T_{\\theta}{\\left(t \\right)} \\right)}}{2}}{I_{y}}$"
      ],
      "text/plain": [
       "Eq(Derivative(omega_y(t), t), (-I_x*omega_x(t)*omega_z(t) + I_z*omega_x(t)*omega_z(t) + l*T(t)*sin(T_phi(t))*sin(T_theta(t))/2)/I_y)"
      ]
     },
     "metadata": {},
     "output_type": "display_data"
    },
    {
     "data": {
      "text/latex": [
       "$\\displaystyle \\frac{d}{d t} \\omega_{z}{\\left(t \\right)} = \\frac{I_{x} \\omega_{x}{\\left(t \\right)} \\omega_{y}{\\left(t \\right)} - I_{y} \\omega_{x}{\\left(t \\right)} \\omega_{y}{\\left(t \\right)} - \\frac{l T{\\left(t \\right)} \\sin{\\left(T_{\\theta}{\\left(t \\right)} \\right)} \\cos{\\left(T_{\\phi}{\\left(t \\right)} \\right)}}{2}}{I_{z}}$"
      ],
      "text/plain": [
       "Eq(Derivative(omega_z(t), t), (I_x*omega_x(t)*omega_y(t) - I_y*omega_x(t)*omega_y(t) - l*T(t)*sin(T_theta(t))*cos(T_phi(t))/2)/I_z)"
      ]
     },
     "metadata": {},
     "output_type": "display_data"
    },
    {
     "data": {
      "text/latex": [
       "$\\displaystyle \\frac{d}{d t} q_{0}{\\left(t \\right)} = - 0.5 \\omega_{x}{\\left(t \\right)} q_{1}{\\left(t \\right)} - 0.5 \\omega_{y}{\\left(t \\right)} q_{2}{\\left(t \\right)} - 0.5 \\omega_{z}{\\left(t \\right)} q_{3}{\\left(t \\right)}$"
      ],
      "text/plain": [
       "Eq(Derivative(q0(t), t), -0.5*omega_x(t)*q1(t) - 0.5*omega_y(t)*q2(t) - 0.5*omega_z(t)*q3(t))"
      ]
     },
     "metadata": {},
     "output_type": "display_data"
    },
    {
     "data": {
      "text/latex": [
       "$\\displaystyle \\frac{d}{d t} q_{1}{\\left(t \\right)} = 0.5 \\omega_{x}{\\left(t \\right)} q_{0}{\\left(t \\right)} - 0.5 \\omega_{y}{\\left(t \\right)} q_{3}{\\left(t \\right)} + 0.5 \\omega_{z}{\\left(t \\right)} q_{2}{\\left(t \\right)}$"
      ],
      "text/plain": [
       "Eq(Derivative(q1(t), t), 0.5*omega_x(t)*q0(t) - 0.5*omega_y(t)*q3(t) + 0.5*omega_z(t)*q2(t))"
      ]
     },
     "metadata": {},
     "output_type": "display_data"
    },
    {
     "data": {
      "text/latex": [
       "$\\displaystyle \\frac{d}{d t} q_{2}{\\left(t \\right)} = 0.5 \\omega_{x}{\\left(t \\right)} q_{3}{\\left(t \\right)} + 0.5 \\omega_{y}{\\left(t \\right)} q_{0}{\\left(t \\right)} - 0.5 \\omega_{z}{\\left(t \\right)} q_{1}{\\left(t \\right)}$"
      ],
      "text/plain": [
       "Eq(Derivative(q2(t), t), 0.5*omega_x(t)*q3(t) + 0.5*omega_y(t)*q0(t) - 0.5*omega_z(t)*q1(t))"
      ]
     },
     "metadata": {},
     "output_type": "display_data"
    },
    {
     "data": {
      "text/latex": [
       "$\\displaystyle \\frac{d}{d t} q_{3}{\\left(t \\right)} = - 0.5 \\omega_{x}{\\left(t \\right)} q_{2}{\\left(t \\right)} + 0.5 \\omega_{y}{\\left(t \\right)} q_{1}{\\left(t \\right)} + 0.5 \\omega_{z}{\\left(t \\right)} q_{0}{\\left(t \\right)}$"
      ],
      "text/plain": [
       "Eq(Derivative(q3(t), t), -0.5*omega_x(t)*q2(t) + 0.5*omega_y(t)*q1(t) + 0.5*omega_z(t)*q0(t))"
      ]
     },
     "metadata": {},
     "output_type": "display_data"
    }
   ],
   "source": [
    "## Variables\n",
    "l = symbols(\"l\")                                                # Largo del cohete\n",
    "Ix, Iy, Iz = symbols(\"I_x, I_y, I_z\")                           # Momentos de inercia principales\n",
    "wx, wy, wz = symbols(\"omega_x, omega_y, omega_z\", cls=Function) # Velocidad angular Body frame\n",
    "\n",
    "## Ecuaciones del movimiento en rotación\n",
    "# Momentos Body frame\n",
    "T_R = Matrix([-l/2, 0, 0])  # Posición de propulsor respecto a centro de masa\n",
    "M_B = T_R.cross(F_B)\n",
    "\n",
    "# Ecuaciónes de euler para rotación Body frame\n",
    "I = diag(Ix, Iy, Iz)\n",
    "w = Matrix([wx(t), wy(t), wz(t)])\n",
    "eqs_2 = mateq2list(diff(w, t), I**-1*(M_B-w.cross(I*w)))\n",
    "for eq in eqs_2: display(eq)\n",
    "\n",
    "# Convertir velocidad angular Body frame a Inertial frame\n",
    "Q = Matrix([q0(t), q1(t), q2(t), q3(t)])\n",
    "S = 1/2*Matrix([\n",
    "    [-q1(t), -q2(t), -q3(t)],\n",
    "    [q0(t), -q3(t), q2(t)],\n",
    "    [q3(t), q0(t), -q1(t)],\n",
    "    [-q2(t), q1(t), q0(t)]\n",
    "])\n",
    "eqs_3 = mateq2list(diff(Q, t), S*w)\n",
    "for eq in eqs_3: display(eq)"
   ]
  },
  {
   "cell_type": "code",
   "execution_count": 4,
   "metadata": {},
   "outputs": [
    {
     "data": {
      "text/latex": [
       "$\\displaystyle \\frac{d}{d t} x{\\left(t \\right)} = v_{x}{\\left(t \\right)}$"
      ],
      "text/plain": [
       "Eq(Derivative(x(t), t), v_x(t))"
      ]
     },
     "metadata": {},
     "output_type": "display_data"
    },
    {
     "data": {
      "text/latex": [
       "$\\displaystyle \\frac{d}{d t} y{\\left(t \\right)} = v_{y}{\\left(t \\right)}$"
      ],
      "text/plain": [
       "Eq(Derivative(y(t), t), v_y(t))"
      ]
     },
     "metadata": {},
     "output_type": "display_data"
    },
    {
     "data": {
      "text/latex": [
       "$\\displaystyle \\frac{d}{d t} z{\\left(t \\right)} = v_{z}{\\left(t \\right)}$"
      ],
      "text/plain": [
       "Eq(Derivative(z(t), t), v_z(t))"
      ]
     },
     "metadata": {},
     "output_type": "display_data"
    },
    {
     "data": {
      "text/latex": [
       "$\\displaystyle \\frac{d}{d t} v_{x}{\\left(t \\right)} = \\frac{\\left(2 q_{0}{\\left(t \\right)} q_{2}{\\left(t \\right)} + 2 q_{1}{\\left(t \\right)} q_{3}{\\left(t \\right)}\\right) T{\\left(t \\right)} \\sin{\\left(T_{\\phi}{\\left(t \\right)} \\right)} \\sin{\\left(T_{\\theta}{\\left(t \\right)} \\right)} + \\left(- 2 q_{0}{\\left(t \\right)} q_{3}{\\left(t \\right)} + 2 q_{1}{\\left(t \\right)} q_{2}{\\left(t \\right)}\\right) T{\\left(t \\right)} \\sin{\\left(T_{\\theta}{\\left(t \\right)} \\right)} \\cos{\\left(T_{\\phi}{\\left(t \\right)} \\right)} + \\left(2 q_{0}^{2}{\\left(t \\right)} + 2 q_{1}^{2}{\\left(t \\right)} - 1\\right) T{\\left(t \\right)} \\cos{\\left(T_{\\theta}{\\left(t \\right)} \\right)}}{m}$"
      ],
      "text/plain": [
       "Eq(Derivative(v_x(t), t), ((2*q0(t)*q2(t) + 2*q1(t)*q3(t))*T(t)*sin(T_phi(t))*sin(T_theta(t)) + (-2*q0(t)*q3(t) + 2*q1(t)*q2(t))*T(t)*sin(T_theta(t))*cos(T_phi(t)) + (2*q0(t)**2 + 2*q1(t)**2 - 1)*T(t)*cos(T_theta(t)))/m)"
      ]
     },
     "metadata": {},
     "output_type": "display_data"
    },
    {
     "data": {
      "text/latex": [
       "$\\displaystyle \\frac{d}{d t} v_{y}{\\left(t \\right)} = \\frac{\\left(- 2 q_{0}{\\left(t \\right)} q_{1}{\\left(t \\right)} + 2 q_{2}{\\left(t \\right)} q_{3}{\\left(t \\right)}\\right) T{\\left(t \\right)} \\sin{\\left(T_{\\phi}{\\left(t \\right)} \\right)} \\sin{\\left(T_{\\theta}{\\left(t \\right)} \\right)} + \\left(2 q_{0}{\\left(t \\right)} q_{3}{\\left(t \\right)} + 2 q_{1}{\\left(t \\right)} q_{2}{\\left(t \\right)}\\right) T{\\left(t \\right)} \\cos{\\left(T_{\\theta}{\\left(t \\right)} \\right)} + \\left(2 q_{0}^{2}{\\left(t \\right)} + q_{2}^{2}{\\left(t \\right)} - 1\\right) T{\\left(t \\right)} \\sin{\\left(T_{\\theta}{\\left(t \\right)} \\right)} \\cos{\\left(T_{\\phi}{\\left(t \\right)} \\right)}}{m}$"
      ],
      "text/plain": [
       "Eq(Derivative(v_y(t), t), ((-2*q0(t)*q1(t) + 2*q2(t)*q3(t))*T(t)*sin(T_phi(t))*sin(T_theta(t)) + (2*q0(t)*q3(t) + 2*q1(t)*q2(t))*T(t)*cos(T_theta(t)) + (2*q0(t)**2 + q2(t)**2 - 1)*T(t)*sin(T_theta(t))*cos(T_phi(t)))/m)"
      ]
     },
     "metadata": {},
     "output_type": "display_data"
    },
    {
     "data": {
      "text/latex": [
       "$\\displaystyle \\frac{d}{d t} v_{z}{\\left(t \\right)} = - g + \\frac{\\left(2 q_{0}{\\left(t \\right)} q_{1}{\\left(t \\right)} + 2 q_{2}{\\left(t \\right)} q_{3}{\\left(t \\right)}\\right) T{\\left(t \\right)} \\sin{\\left(T_{\\theta}{\\left(t \\right)} \\right)} \\cos{\\left(T_{\\phi}{\\left(t \\right)} \\right)} + \\left(- 2 q_{0}{\\left(t \\right)} q_{2}{\\left(t \\right)} + 2 q_{1}{\\left(t \\right)} q_{3}{\\left(t \\right)}\\right) T{\\left(t \\right)} \\cos{\\left(T_{\\theta}{\\left(t \\right)} \\right)} + \\left(2 q_{0}^{2}{\\left(t \\right)} + q_{3}^{2}{\\left(t \\right)} - 1\\right) T{\\left(t \\right)} \\sin{\\left(T_{\\phi}{\\left(t \\right)} \\right)} \\sin{\\left(T_{\\theta}{\\left(t \\right)} \\right)}}{m}$"
      ],
      "text/plain": [
       "Eq(Derivative(v_z(t), t), -g + ((2*q0(t)*q1(t) + 2*q2(t)*q3(t))*T(t)*sin(T_theta(t))*cos(T_phi(t)) + (-2*q0(t)*q2(t) + 2*q1(t)*q3(t))*T(t)*cos(T_theta(t)) + (2*q0(t)**2 + q3(t)**2 - 1)*T(t)*sin(T_phi(t))*sin(T_theta(t)))/m)"
      ]
     },
     "metadata": {},
     "output_type": "display_data"
    },
    {
     "data": {
      "text/latex": [
       "$\\displaystyle \\frac{d}{d t} \\omega_{x}{\\left(t \\right)} = \\frac{I_{y} \\omega_{y}{\\left(t \\right)} \\omega_{z}{\\left(t \\right)} - I_{z} \\omega_{y}{\\left(t \\right)} \\omega_{z}{\\left(t \\right)}}{I_{x}}$"
      ],
      "text/plain": [
       "Eq(Derivative(omega_x(t), t), (I_y*omega_y(t)*omega_z(t) - I_z*omega_y(t)*omega_z(t))/I_x)"
      ]
     },
     "metadata": {},
     "output_type": "display_data"
    },
    {
     "data": {
      "text/latex": [
       "$\\displaystyle \\frac{d}{d t} \\omega_{y}{\\left(t \\right)} = \\frac{- I_{x} \\omega_{x}{\\left(t \\right)} \\omega_{z}{\\left(t \\right)} + I_{z} \\omega_{x}{\\left(t \\right)} \\omega_{z}{\\left(t \\right)} + \\frac{l T{\\left(t \\right)} \\sin{\\left(T_{\\phi}{\\left(t \\right)} \\right)} \\sin{\\left(T_{\\theta}{\\left(t \\right)} \\right)}}{2}}{I_{y}}$"
      ],
      "text/plain": [
       "Eq(Derivative(omega_y(t), t), (-I_x*omega_x(t)*omega_z(t) + I_z*omega_x(t)*omega_z(t) + l*T(t)*sin(T_phi(t))*sin(T_theta(t))/2)/I_y)"
      ]
     },
     "metadata": {},
     "output_type": "display_data"
    },
    {
     "data": {
      "text/latex": [
       "$\\displaystyle \\frac{d}{d t} \\omega_{z}{\\left(t \\right)} = \\frac{I_{x} \\omega_{x}{\\left(t \\right)} \\omega_{y}{\\left(t \\right)} - I_{y} \\omega_{x}{\\left(t \\right)} \\omega_{y}{\\left(t \\right)} - \\frac{l T{\\left(t \\right)} \\sin{\\left(T_{\\theta}{\\left(t \\right)} \\right)} \\cos{\\left(T_{\\phi}{\\left(t \\right)} \\right)}}{2}}{I_{z}}$"
      ],
      "text/plain": [
       "Eq(Derivative(omega_z(t), t), (I_x*omega_x(t)*omega_y(t) - I_y*omega_x(t)*omega_y(t) - l*T(t)*sin(T_theta(t))*cos(T_phi(t))/2)/I_z)"
      ]
     },
     "metadata": {},
     "output_type": "display_data"
    },
    {
     "data": {
      "text/latex": [
       "$\\displaystyle \\frac{d}{d t} q_{0}{\\left(t \\right)} = - 0.5 \\omega_{x}{\\left(t \\right)} q_{1}{\\left(t \\right)} - 0.5 \\omega_{y}{\\left(t \\right)} q_{2}{\\left(t \\right)} - 0.5 \\omega_{z}{\\left(t \\right)} q_{3}{\\left(t \\right)}$"
      ],
      "text/plain": [
       "Eq(Derivative(q0(t), t), -0.5*omega_x(t)*q1(t) - 0.5*omega_y(t)*q2(t) - 0.5*omega_z(t)*q3(t))"
      ]
     },
     "metadata": {},
     "output_type": "display_data"
    },
    {
     "data": {
      "text/latex": [
       "$\\displaystyle \\frac{d}{d t} q_{1}{\\left(t \\right)} = 0.5 \\omega_{x}{\\left(t \\right)} q_{0}{\\left(t \\right)} - 0.5 \\omega_{y}{\\left(t \\right)} q_{3}{\\left(t \\right)} + 0.5 \\omega_{z}{\\left(t \\right)} q_{2}{\\left(t \\right)}$"
      ],
      "text/plain": [
       "Eq(Derivative(q1(t), t), 0.5*omega_x(t)*q0(t) - 0.5*omega_y(t)*q3(t) + 0.5*omega_z(t)*q2(t))"
      ]
     },
     "metadata": {},
     "output_type": "display_data"
    },
    {
     "data": {
      "text/latex": [
       "$\\displaystyle \\frac{d}{d t} q_{2}{\\left(t \\right)} = 0.5 \\omega_{x}{\\left(t \\right)} q_{3}{\\left(t \\right)} + 0.5 \\omega_{y}{\\left(t \\right)} q_{0}{\\left(t \\right)} - 0.5 \\omega_{z}{\\left(t \\right)} q_{1}{\\left(t \\right)}$"
      ],
      "text/plain": [
       "Eq(Derivative(q2(t), t), 0.5*omega_x(t)*q3(t) + 0.5*omega_y(t)*q0(t) - 0.5*omega_z(t)*q1(t))"
      ]
     },
     "metadata": {},
     "output_type": "display_data"
    },
    {
     "data": {
      "text/latex": [
       "$\\displaystyle \\frac{d}{d t} q_{3}{\\left(t \\right)} = - 0.5 \\omega_{x}{\\left(t \\right)} q_{2}{\\left(t \\right)} + 0.5 \\omega_{y}{\\left(t \\right)} q_{1}{\\left(t \\right)} + 0.5 \\omega_{z}{\\left(t \\right)} q_{0}{\\left(t \\right)}$"
      ],
      "text/plain": [
       "Eq(Derivative(q3(t), t), -0.5*omega_x(t)*q2(t) + 0.5*omega_y(t)*q1(t) + 0.5*omega_z(t)*q0(t))"
      ]
     },
     "metadata": {},
     "output_type": "display_data"
    }
   ],
   "source": [
    "## Variables\n",
    "x, y, z = symbols(\"x, y, z\", cls=Function)  # Posición\n",
    "\n",
    "## Sistema de ecuaciones completo\n",
    "R = Matrix([x(t), y(t), z(t)])\n",
    "eqs_4 = mateq2list(diff(R, t), V)\n",
    "eqs = eqs_4 + eqs_1 + eqs_2 + eqs_3\n",
    "eqs_rhs = []\n",
    "for eq in eqs:\n",
    "    display(eq)\n",
    "    eqs_rhs.append(eq.rhs)"
   ]
  },
  {
   "cell_type": "code",
   "execution_count": 5,
   "metadata": {},
   "outputs": [],
   "source": [
    "## Sistema de ecuaciones evaluable numéricamente\n",
    "sys = lambdify(([x(t), y(t), z(t),\n",
    "                vx(t), vy(t), vz(t),\n",
    "                wx(t), wy(t), wz(t),\n",
    "                q0(t), q1(t), q2(t), q3(t)], # Vector estado\n",
    "                [T(t), T_a1(t), T_a2(t)],    # Vector propulsor\n",
    "                [m, g, l, Ix, Iy, Iz]),      # Vector parametros\n",
    "                eqs_rhs)\n",
    "from numpy import *\n",
    "import quaternion\n",
    "#https://en.wikipedia.org/wiki/Conversion_between_quaternions_and_Euler_angles\n",
    "def euler2quat(yaw, pitch, roll):\n",
    "    cr = cos(roll * 0.5)\n",
    "    sr = sin(roll * 0.5)\n",
    "    cp = cos(pitch * 0.5)\n",
    "    sp = sin(pitch * 0.5)\n",
    "    cy = cos(yaw * 0.5)\n",
    "    sy = sin(yaw * 0.5)\n",
    "\n",
    "    q0 = cr * cp * cy + sr * sp * sy\n",
    "    q1 = sr * cp * cy - cr * sp * sy\n",
    "    q2 = cr * sp * cy + sr * cp * sy\n",
    "    q3 = cr * cp * sy - sr * sp * cy\n",
    "\n",
    "    return q0, q1, q2, q3\n"
   ]
  },
  {
   "cell_type": "code",
   "execution_count": 6,
   "metadata": {},
   "outputs": [
    {
     "data": {
      "application/vnd.jupyter.widget-view+json": {
       "model_id": "95ba1f8cb9954612bf06e2f193fbb5c3",
       "version_major": 2,
       "version_minor": 0
      },
      "text/plain": [
       "Output()"
      ]
     },
     "metadata": {},
     "output_type": "display_data"
    },
    {
     "name": "stderr",
     "output_type": "stream",
     "text": [
      "c:\\Users\\asd\\miniconda3\\lib\\site-packages\\traittypes\\traittypes.py:97: UserWarning: Given trait value dtype \"float64\" does not match required type \"float32\". A coerced copy has been created.\n",
      "  warnings.warn(\n"
     ]
    }
   ],
   "source": [
    "# Vector estado\n",
    "yaw = pi/4\n",
    "pitch = pi/4\n",
    "roll = pi/4\n",
    "qw, qx, qy, qz = euler2quat(yaw, pitch, roll)\n",
    "#           x  y  z vx vy vz wx wy wz\n",
    "ss = array([0, 0, 0, 0, 0, 0, 0, 0, 0, qw, qx, qy, qz])\n",
    "\n",
    "# Vector control de propulsor\n",
    "#           T a1 a2\n",
    "tt = array([1, 0, 0])\n",
    "\n",
    "# Vector parametros\n",
    "#             m  g  l   Ix   Iy   Iz\n",
    "pam = array([10, 0, 1, 0.3, 0.3, 0.3])\n",
    "\n",
    "## Dibujar\n",
    "plot = k3d.plot()\n",
    "Vheading = k3d.vectors([0, 0, 0], [1, 0, 0])\n",
    "plot += Vheading\n",
    "frog = k3d.stl(\n",
    "    open(\"Missile Toad.stl\", \"rb\").read(),\n",
    "    color=0x00ff00,\n",
    "    transform=k3d.transform(\n",
    "        scaling=[0.01,0.01,0.01],\n",
    "    )\n",
    ")\n",
    "plot += frog\n",
    "plot.display()\n",
    "\n",
    "def update_plot():    \n",
    "    ## Actualizar rana\n",
    "    # La libreria requiere el cuaternion en forma Angle-Axis o sino no lo rota bien\n",
    "    q = quaternion.quaternion(*ss[9:13])\n",
    "    ax = quaternion.as_rotation_vector(q)\n",
    "    n = linalg.norm(ax)\n",
    "    frog.transform.rotation = concatenate(([n], ax))\n",
    "    frog.transform.translation = ss[0:3]\n",
    "    ## Actualizar vector\n",
    "    Vheading.vectors = quaternion.rotate_vectors(q, [1, 0, 0])\n",
    "    Vheading.origins = ss[0:3]\n",
    "    Vheading.send_state()\n",
    "\n",
    "## Metodo de euler\n",
    "h = 1/30\n",
    "while True:\n",
    "    if keyboard.is_pressed(\"esc\"): break\n",
    "    ss = ss + [Y*h for Y in sys(ss, tt, pam)]\n",
    "    update_plot()\n",
    "    time.sleep(h)"
   ]
  }
 ],
 "metadata": {
  "kernelspec": {
   "display_name": "base",
   "language": "python",
   "name": "python3"
  },
  "language_info": {
   "codemirror_mode": {
    "name": "ipython",
    "version": 3
   },
   "file_extension": ".py",
   "mimetype": "text/x-python",
   "name": "python",
   "nbconvert_exporter": "python",
   "pygments_lexer": "ipython3",
   "version": "3.9.16"
  },
  "orig_nbformat": 4
 },
 "nbformat": 4,
 "nbformat_minor": 2
}
