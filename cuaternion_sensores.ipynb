{
 "cells": [
  {
   "cell_type": "code",
   "execution_count": 1,
   "metadata": {},
   "outputs": [],
   "source": [
    "import time\n",
    "import keyboard\n",
    "import k3d\n",
    "import pandas as pd"
   ]
  },
  {
   "cell_type": "code",
   "execution_count": 2,
   "metadata": {},
   "outputs": [
    {
     "data": {
      "text/latex": [
       "$\\displaystyle \\frac{d}{d t} v_{x}{\\left(t \\right)} = \\frac{\\left(2 q_{0}{\\left(t \\right)} q_{2}{\\left(t \\right)} + 2 q_{1}{\\left(t \\right)} q_{3}{\\left(t \\right)}\\right) T{\\left(t \\right)} \\sin{\\left(T_{\\phi}{\\left(t \\right)} \\right)} \\sin{\\left(T_{\\theta}{\\left(t \\right)} \\right)} + \\left(- 2 q_{0}{\\left(t \\right)} q_{3}{\\left(t \\right)} + 2 q_{1}{\\left(t \\right)} q_{2}{\\left(t \\right)}\\right) T{\\left(t \\right)} \\sin{\\left(T_{\\theta}{\\left(t \\right)} \\right)} \\cos{\\left(T_{\\phi}{\\left(t \\right)} \\right)} + \\left(2 q_{0}^{2}{\\left(t \\right)} + 2 q_{1}^{2}{\\left(t \\right)} - 1\\right) T{\\left(t \\right)} \\cos{\\left(T_{\\theta}{\\left(t \\right)} \\right)}}{m}$"
      ],
      "text/plain": [
       "Eq(Derivative(v_x(t), t), ((2*q0(t)*q2(t) + 2*q1(t)*q3(t))*T(t)*sin(T_phi(t))*sin(T_theta(t)) + (-2*q0(t)*q3(t) + 2*q1(t)*q2(t))*T(t)*sin(T_theta(t))*cos(T_phi(t)) + (2*q0(t)**2 + 2*q1(t)**2 - 1)*T(t)*cos(T_theta(t)))/m)"
      ]
     },
     "metadata": {},
     "output_type": "display_data"
    },
    {
     "data": {
      "text/latex": [
       "$\\displaystyle \\frac{d}{d t} v_{y}{\\left(t \\right)} = \\frac{\\left(- 2 q_{0}{\\left(t \\right)} q_{1}{\\left(t \\right)} + 2 q_{2}{\\left(t \\right)} q_{3}{\\left(t \\right)}\\right) T{\\left(t \\right)} \\sin{\\left(T_{\\phi}{\\left(t \\right)} \\right)} \\sin{\\left(T_{\\theta}{\\left(t \\right)} \\right)} + \\left(2 q_{0}{\\left(t \\right)} q_{3}{\\left(t \\right)} + 2 q_{1}{\\left(t \\right)} q_{2}{\\left(t \\right)}\\right) T{\\left(t \\right)} \\cos{\\left(T_{\\theta}{\\left(t \\right)} \\right)} + \\left(2 q_{0}^{2}{\\left(t \\right)} + q_{2}^{2}{\\left(t \\right)} - 1\\right) T{\\left(t \\right)} \\sin{\\left(T_{\\theta}{\\left(t \\right)} \\right)} \\cos{\\left(T_{\\phi}{\\left(t \\right)} \\right)}}{m}$"
      ],
      "text/plain": [
       "Eq(Derivative(v_y(t), t), ((-2*q0(t)*q1(t) + 2*q2(t)*q3(t))*T(t)*sin(T_phi(t))*sin(T_theta(t)) + (2*q0(t)*q3(t) + 2*q1(t)*q2(t))*T(t)*cos(T_theta(t)) + (2*q0(t)**2 + q2(t)**2 - 1)*T(t)*sin(T_theta(t))*cos(T_phi(t)))/m)"
      ]
     },
     "metadata": {},
     "output_type": "display_data"
    },
    {
     "data": {
      "text/latex": [
       "$\\displaystyle \\frac{d}{d t} v_{z}{\\left(t \\right)} = - g + \\frac{\\left(2 q_{0}{\\left(t \\right)} q_{1}{\\left(t \\right)} + 2 q_{2}{\\left(t \\right)} q_{3}{\\left(t \\right)}\\right) T{\\left(t \\right)} \\sin{\\left(T_{\\theta}{\\left(t \\right)} \\right)} \\cos{\\left(T_{\\phi}{\\left(t \\right)} \\right)} + \\left(- 2 q_{0}{\\left(t \\right)} q_{2}{\\left(t \\right)} + 2 q_{1}{\\left(t \\right)} q_{3}{\\left(t \\right)}\\right) T{\\left(t \\right)} \\cos{\\left(T_{\\theta}{\\left(t \\right)} \\right)} + \\left(2 q_{0}^{2}{\\left(t \\right)} + q_{3}^{2}{\\left(t \\right)} - 1\\right) T{\\left(t \\right)} \\sin{\\left(T_{\\phi}{\\left(t \\right)} \\right)} \\sin{\\left(T_{\\theta}{\\left(t \\right)} \\right)}}{m}$"
      ],
      "text/plain": [
       "Eq(Derivative(v_z(t), t), -g + ((2*q0(t)*q1(t) + 2*q2(t)*q3(t))*T(t)*sin(T_theta(t))*cos(T_phi(t)) + (-2*q0(t)*q2(t) + 2*q1(t)*q3(t))*T(t)*cos(T_theta(t)) + (2*q0(t)**2 + q3(t)**2 - 1)*T(t)*sin(T_phi(t))*sin(T_theta(t)))/m)"
      ]
     },
     "metadata": {},
     "output_type": "display_data"
    }
   ],
   "source": [
    "from sympy import *\n",
    "def mateq2list(lhs: Matrix, rhs: Matrix):\n",
    "    L = []\n",
    "    for i in range(lhs.rows):\n",
    "        L.append(Eq(lhs[i], rhs[i], evaluate=False))\n",
    "    return L\n",
    "## Variables\n",
    "t = symbols(\"t\")                                                # Tiempo\n",
    "g = symbols(\"g\")                                                # Constante gravitacional\n",
    "m = symbols(\"m\")                                                # Masa del cohete\n",
    "T = symbols(\"T\", cls=Function)                                  # Empuje de propulsor\n",
    "T_a1, T_a2 = symbols(\"T_theta, T_phi\", cls=Function)            # Orientación de propulsor\n",
    "q0, q1, q2, q3 = symbols(\"q0, q1, q2, q3\", cls=Function)                                # Orientación del cohete\n",
    "vx, vy, vz = symbols(\"v_x, v_y, v_z\", cls=Function)             # Velocidad\n",
    "\n",
    "## Ecuaciones del movimiento en traslación\n",
    "# Fuerzas Body frame\n",
    "F_B = Matrix([\n",
    "    T(t)*cos(T_a1(t)),\n",
    "    T(t)*sin(T_a1(t))*cos(T_a2(t)),\n",
    "    T(t)*sin(T_a1(t))*sin(T_a2(t))\n",
    "])\n",
    "\n",
    "# Matriz transformación de Body frame a Inertial frame\n",
    "Q_BI = Matrix([\n",
    "    [2*q0(t)**2+2*q1(t)**2-1, 2*(q1(t)*q2(t)-q0(t)*q3(t)), 2*(q1(t)*q3(t)+q0(t)*q2(t))],\n",
    "    [2*(q1(t)*q2(t)+q0(t)*q3(t)), 2*q0(t)**2+q2(t)**2-1, 2*(q2(t)*q3(t)-q0(t)*q1(t))],\n",
    "    [2*(q1(t)*q3(t)-q0(t)*q2(t)), 2*(q2(t)*q3(t)+q0(t)*q1(t)), 2*q0(t)**2+q3(t)**2-1]\n",
    "])\n",
    "\n",
    "# Segunda ley de newton\n",
    "G = Matrix([0, 0, -g])\n",
    "V = Matrix([vx(t), vy(t), vz(t)])\n",
    "eqs_1 = mateq2list(diff(V, t), G + Q_BI*F_B/m)\n",
    "for eq in eqs_1: display(eq)"
   ]
  },
  {
   "cell_type": "code",
   "execution_count": 3,
   "metadata": {},
   "outputs": [
    {
     "data": {
      "text/latex": [
       "$\\displaystyle \\frac{d}{d t} \\omega_{x}{\\left(t \\right)} = \\frac{I_{y} \\omega_{y}{\\left(t \\right)} \\omega_{z}{\\left(t \\right)} - I_{z} \\omega_{y}{\\left(t \\right)} \\omega_{z}{\\left(t \\right)}}{I_{x}}$"
      ],
      "text/plain": [
       "Eq(Derivative(omega_x(t), t), (I_y*omega_y(t)*omega_z(t) - I_z*omega_y(t)*omega_z(t))/I_x)"
      ]
     },
     "metadata": {},
     "output_type": "display_data"
    },
    {
     "data": {
      "text/latex": [
       "$\\displaystyle \\frac{d}{d t} \\omega_{y}{\\left(t \\right)} = \\frac{- I_{x} \\omega_{x}{\\left(t \\right)} \\omega_{z}{\\left(t \\right)} + I_{z} \\omega_{x}{\\left(t \\right)} \\omega_{z}{\\left(t \\right)} + \\frac{l T{\\left(t \\right)} \\sin{\\left(T_{\\phi}{\\left(t \\right)} \\right)} \\sin{\\left(T_{\\theta}{\\left(t \\right)} \\right)}}{2}}{I_{y}}$"
      ],
      "text/plain": [
       "Eq(Derivative(omega_y(t), t), (-I_x*omega_x(t)*omega_z(t) + I_z*omega_x(t)*omega_z(t) + l*T(t)*sin(T_phi(t))*sin(T_theta(t))/2)/I_y)"
      ]
     },
     "metadata": {},
     "output_type": "display_data"
    },
    {
     "data": {
      "text/latex": [
       "$\\displaystyle \\frac{d}{d t} \\omega_{z}{\\left(t \\right)} = \\frac{I_{x} \\omega_{x}{\\left(t \\right)} \\omega_{y}{\\left(t \\right)} - I_{y} \\omega_{x}{\\left(t \\right)} \\omega_{y}{\\left(t \\right)} - \\frac{l T{\\left(t \\right)} \\sin{\\left(T_{\\theta}{\\left(t \\right)} \\right)} \\cos{\\left(T_{\\phi}{\\left(t \\right)} \\right)}}{2}}{I_{z}}$"
      ],
      "text/plain": [
       "Eq(Derivative(omega_z(t), t), (I_x*omega_x(t)*omega_y(t) - I_y*omega_x(t)*omega_y(t) - l*T(t)*sin(T_theta(t))*cos(T_phi(t))/2)/I_z)"
      ]
     },
     "metadata": {},
     "output_type": "display_data"
    },
    {
     "data": {
      "text/latex": [
       "$\\displaystyle \\frac{d}{d t} q_{0}{\\left(t \\right)} = - 0.5 \\omega_{x}{\\left(t \\right)} q_{1}{\\left(t \\right)} - 0.5 \\omega_{y}{\\left(t \\right)} q_{2}{\\left(t \\right)} - 0.5 \\omega_{z}{\\left(t \\right)} q_{3}{\\left(t \\right)}$"
      ],
      "text/plain": [
       "Eq(Derivative(q0(t), t), -0.5*omega_x(t)*q1(t) - 0.5*omega_y(t)*q2(t) - 0.5*omega_z(t)*q3(t))"
      ]
     },
     "metadata": {},
     "output_type": "display_data"
    },
    {
     "data": {
      "text/latex": [
       "$\\displaystyle \\frac{d}{d t} q_{1}{\\left(t \\right)} = 0.5 \\omega_{x}{\\left(t \\right)} q_{0}{\\left(t \\right)} - 0.5 \\omega_{y}{\\left(t \\right)} q_{3}{\\left(t \\right)} + 0.5 \\omega_{z}{\\left(t \\right)} q_{2}{\\left(t \\right)}$"
      ],
      "text/plain": [
       "Eq(Derivative(q1(t), t), 0.5*omega_x(t)*q0(t) - 0.5*omega_y(t)*q3(t) + 0.5*omega_z(t)*q2(t))"
      ]
     },
     "metadata": {},
     "output_type": "display_data"
    },
    {
     "data": {
      "text/latex": [
       "$\\displaystyle \\frac{d}{d t} q_{2}{\\left(t \\right)} = 0.5 \\omega_{x}{\\left(t \\right)} q_{3}{\\left(t \\right)} + 0.5 \\omega_{y}{\\left(t \\right)} q_{0}{\\left(t \\right)} - 0.5 \\omega_{z}{\\left(t \\right)} q_{1}{\\left(t \\right)}$"
      ],
      "text/plain": [
       "Eq(Derivative(q2(t), t), 0.5*omega_x(t)*q3(t) + 0.5*omega_y(t)*q0(t) - 0.5*omega_z(t)*q1(t))"
      ]
     },
     "metadata": {},
     "output_type": "display_data"
    },
    {
     "data": {
      "text/latex": [
       "$\\displaystyle \\frac{d}{d t} q_{3}{\\left(t \\right)} = - 0.5 \\omega_{x}{\\left(t \\right)} q_{2}{\\left(t \\right)} + 0.5 \\omega_{y}{\\left(t \\right)} q_{1}{\\left(t \\right)} + 0.5 \\omega_{z}{\\left(t \\right)} q_{0}{\\left(t \\right)}$"
      ],
      "text/plain": [
       "Eq(Derivative(q3(t), t), -0.5*omega_x(t)*q2(t) + 0.5*omega_y(t)*q1(t) + 0.5*omega_z(t)*q0(t))"
      ]
     },
     "metadata": {},
     "output_type": "display_data"
    }
   ],
   "source": [
    "## Variables\n",
    "l = symbols(\"l\")                                                # Largo del cohete\n",
    "Ix, Iy, Iz = symbols(\"I_x, I_y, I_z\")                           # Momentos de inercia principales\n",
    "wx, wy, wz = symbols(\"omega_x, omega_y, omega_z\", cls=Function) # Velocidad angular Body frame\n",
    "\n",
    "## Ecuaciones del movimiento en rotación\n",
    "# Momentos Body frame\n",
    "T_R = Matrix([-l/2, 0, 0])  # Posición de propulsor respecto a centro de masa\n",
    "M_B = T_R.cross(F_B)\n",
    "\n",
    "# Ecuaciónes de euler para rotación Body frame\n",
    "I = diag(Ix, Iy, Iz)\n",
    "w = Matrix([wx(t), wy(t), wz(t)])\n",
    "eqs_2 = mateq2list(diff(w, t), I**-1*(M_B-w.cross(I*w)))\n",
    "for eq in eqs_2: display(eq)\n",
    "\n",
    "# Convertir velocidad angular Body frame a Inertial frame\n",
    "Q = Matrix([q0(t), q1(t), q2(t), q3(t)])\n",
    "S = 1/2*Matrix([\n",
    "    [-q1(t), -q2(t), -q3(t)],\n",
    "    [q0(t), -q3(t), q2(t)],\n",
    "    [q3(t), q0(t), -q1(t)],\n",
    "    [-q2(t), q1(t), q0(t)]\n",
    "])\n",
    "eqs_3 = mateq2list(diff(Q, t), S*w)\n",
    "for eq in eqs_3: display(eq)"
   ]
  },
  {
   "cell_type": "code",
   "execution_count": 4,
   "metadata": {},
   "outputs": [
    {
     "data": {
      "text/latex": [
       "$\\displaystyle \\frac{d}{d t} x{\\left(t \\right)} = v_{x}{\\left(t \\right)}$"
      ],
      "text/plain": [
       "Eq(Derivative(x(t), t), v_x(t))"
      ]
     },
     "metadata": {},
     "output_type": "display_data"
    },
    {
     "data": {
      "text/latex": [
       "$\\displaystyle \\frac{d}{d t} y{\\left(t \\right)} = v_{y}{\\left(t \\right)}$"
      ],
      "text/plain": [
       "Eq(Derivative(y(t), t), v_y(t))"
      ]
     },
     "metadata": {},
     "output_type": "display_data"
    },
    {
     "data": {
      "text/latex": [
       "$\\displaystyle \\frac{d}{d t} z{\\left(t \\right)} = v_{z}{\\left(t \\right)}$"
      ],
      "text/plain": [
       "Eq(Derivative(z(t), t), v_z(t))"
      ]
     },
     "metadata": {},
     "output_type": "display_data"
    },
    {
     "data": {
      "text/latex": [
       "$\\displaystyle \\frac{d}{d t} v_{x}{\\left(t \\right)} = \\frac{\\left(2 q_{0}{\\left(t \\right)} q_{2}{\\left(t \\right)} + 2 q_{1}{\\left(t \\right)} q_{3}{\\left(t \\right)}\\right) T{\\left(t \\right)} \\sin{\\left(T_{\\phi}{\\left(t \\right)} \\right)} \\sin{\\left(T_{\\theta}{\\left(t \\right)} \\right)} + \\left(- 2 q_{0}{\\left(t \\right)} q_{3}{\\left(t \\right)} + 2 q_{1}{\\left(t \\right)} q_{2}{\\left(t \\right)}\\right) T{\\left(t \\right)} \\sin{\\left(T_{\\theta}{\\left(t \\right)} \\right)} \\cos{\\left(T_{\\phi}{\\left(t \\right)} \\right)} + \\left(2 q_{0}^{2}{\\left(t \\right)} + 2 q_{1}^{2}{\\left(t \\right)} - 1\\right) T{\\left(t \\right)} \\cos{\\left(T_{\\theta}{\\left(t \\right)} \\right)}}{m}$"
      ],
      "text/plain": [
       "Eq(Derivative(v_x(t), t), ((2*q0(t)*q2(t) + 2*q1(t)*q3(t))*T(t)*sin(T_phi(t))*sin(T_theta(t)) + (-2*q0(t)*q3(t) + 2*q1(t)*q2(t))*T(t)*sin(T_theta(t))*cos(T_phi(t)) + (2*q0(t)**2 + 2*q1(t)**2 - 1)*T(t)*cos(T_theta(t)))/m)"
      ]
     },
     "metadata": {},
     "output_type": "display_data"
    },
    {
     "data": {
      "text/latex": [
       "$\\displaystyle \\frac{d}{d t} v_{y}{\\left(t \\right)} = \\frac{\\left(- 2 q_{0}{\\left(t \\right)} q_{1}{\\left(t \\right)} + 2 q_{2}{\\left(t \\right)} q_{3}{\\left(t \\right)}\\right) T{\\left(t \\right)} \\sin{\\left(T_{\\phi}{\\left(t \\right)} \\right)} \\sin{\\left(T_{\\theta}{\\left(t \\right)} \\right)} + \\left(2 q_{0}{\\left(t \\right)} q_{3}{\\left(t \\right)} + 2 q_{1}{\\left(t \\right)} q_{2}{\\left(t \\right)}\\right) T{\\left(t \\right)} \\cos{\\left(T_{\\theta}{\\left(t \\right)} \\right)} + \\left(2 q_{0}^{2}{\\left(t \\right)} + q_{2}^{2}{\\left(t \\right)} - 1\\right) T{\\left(t \\right)} \\sin{\\left(T_{\\theta}{\\left(t \\right)} \\right)} \\cos{\\left(T_{\\phi}{\\left(t \\right)} \\right)}}{m}$"
      ],
      "text/plain": [
       "Eq(Derivative(v_y(t), t), ((-2*q0(t)*q1(t) + 2*q2(t)*q3(t))*T(t)*sin(T_phi(t))*sin(T_theta(t)) + (2*q0(t)*q3(t) + 2*q1(t)*q2(t))*T(t)*cos(T_theta(t)) + (2*q0(t)**2 + q2(t)**2 - 1)*T(t)*sin(T_theta(t))*cos(T_phi(t)))/m)"
      ]
     },
     "metadata": {},
     "output_type": "display_data"
    },
    {
     "data": {
      "text/latex": [
       "$\\displaystyle \\frac{d}{d t} v_{z}{\\left(t \\right)} = - g + \\frac{\\left(2 q_{0}{\\left(t \\right)} q_{1}{\\left(t \\right)} + 2 q_{2}{\\left(t \\right)} q_{3}{\\left(t \\right)}\\right) T{\\left(t \\right)} \\sin{\\left(T_{\\theta}{\\left(t \\right)} \\right)} \\cos{\\left(T_{\\phi}{\\left(t \\right)} \\right)} + \\left(- 2 q_{0}{\\left(t \\right)} q_{2}{\\left(t \\right)} + 2 q_{1}{\\left(t \\right)} q_{3}{\\left(t \\right)}\\right) T{\\left(t \\right)} \\cos{\\left(T_{\\theta}{\\left(t \\right)} \\right)} + \\left(2 q_{0}^{2}{\\left(t \\right)} + q_{3}^{2}{\\left(t \\right)} - 1\\right) T{\\left(t \\right)} \\sin{\\left(T_{\\phi}{\\left(t \\right)} \\right)} \\sin{\\left(T_{\\theta}{\\left(t \\right)} \\right)}}{m}$"
      ],
      "text/plain": [
       "Eq(Derivative(v_z(t), t), -g + ((2*q0(t)*q1(t) + 2*q2(t)*q3(t))*T(t)*sin(T_theta(t))*cos(T_phi(t)) + (-2*q0(t)*q2(t) + 2*q1(t)*q3(t))*T(t)*cos(T_theta(t)) + (2*q0(t)**2 + q3(t)**2 - 1)*T(t)*sin(T_phi(t))*sin(T_theta(t)))/m)"
      ]
     },
     "metadata": {},
     "output_type": "display_data"
    },
    {
     "data": {
      "text/latex": [
       "$\\displaystyle \\frac{d}{d t} \\omega_{x}{\\left(t \\right)} = \\frac{I_{y} \\omega_{y}{\\left(t \\right)} \\omega_{z}{\\left(t \\right)} - I_{z} \\omega_{y}{\\left(t \\right)} \\omega_{z}{\\left(t \\right)}}{I_{x}}$"
      ],
      "text/plain": [
       "Eq(Derivative(omega_x(t), t), (I_y*omega_y(t)*omega_z(t) - I_z*omega_y(t)*omega_z(t))/I_x)"
      ]
     },
     "metadata": {},
     "output_type": "display_data"
    },
    {
     "data": {
      "text/latex": [
       "$\\displaystyle \\frac{d}{d t} \\omega_{y}{\\left(t \\right)} = \\frac{- I_{x} \\omega_{x}{\\left(t \\right)} \\omega_{z}{\\left(t \\right)} + I_{z} \\omega_{x}{\\left(t \\right)} \\omega_{z}{\\left(t \\right)} + \\frac{l T{\\left(t \\right)} \\sin{\\left(T_{\\phi}{\\left(t \\right)} \\right)} \\sin{\\left(T_{\\theta}{\\left(t \\right)} \\right)}}{2}}{I_{y}}$"
      ],
      "text/plain": [
       "Eq(Derivative(omega_y(t), t), (-I_x*omega_x(t)*omega_z(t) + I_z*omega_x(t)*omega_z(t) + l*T(t)*sin(T_phi(t))*sin(T_theta(t))/2)/I_y)"
      ]
     },
     "metadata": {},
     "output_type": "display_data"
    },
    {
     "data": {
      "text/latex": [
       "$\\displaystyle \\frac{d}{d t} \\omega_{z}{\\left(t \\right)} = \\frac{I_{x} \\omega_{x}{\\left(t \\right)} \\omega_{y}{\\left(t \\right)} - I_{y} \\omega_{x}{\\left(t \\right)} \\omega_{y}{\\left(t \\right)} - \\frac{l T{\\left(t \\right)} \\sin{\\left(T_{\\theta}{\\left(t \\right)} \\right)} \\cos{\\left(T_{\\phi}{\\left(t \\right)} \\right)}}{2}}{I_{z}}$"
      ],
      "text/plain": [
       "Eq(Derivative(omega_z(t), t), (I_x*omega_x(t)*omega_y(t) - I_y*omega_x(t)*omega_y(t) - l*T(t)*sin(T_theta(t))*cos(T_phi(t))/2)/I_z)"
      ]
     },
     "metadata": {},
     "output_type": "display_data"
    },
    {
     "data": {
      "text/latex": [
       "$\\displaystyle \\frac{d}{d t} q_{0}{\\left(t \\right)} = - 0.5 \\omega_{x}{\\left(t \\right)} q_{1}{\\left(t \\right)} - 0.5 \\omega_{y}{\\left(t \\right)} q_{2}{\\left(t \\right)} - 0.5 \\omega_{z}{\\left(t \\right)} q_{3}{\\left(t \\right)}$"
      ],
      "text/plain": [
       "Eq(Derivative(q0(t), t), -0.5*omega_x(t)*q1(t) - 0.5*omega_y(t)*q2(t) - 0.5*omega_z(t)*q3(t))"
      ]
     },
     "metadata": {},
     "output_type": "display_data"
    },
    {
     "data": {
      "text/latex": [
       "$\\displaystyle \\frac{d}{d t} q_{1}{\\left(t \\right)} = 0.5 \\omega_{x}{\\left(t \\right)} q_{0}{\\left(t \\right)} - 0.5 \\omega_{y}{\\left(t \\right)} q_{3}{\\left(t \\right)} + 0.5 \\omega_{z}{\\left(t \\right)} q_{2}{\\left(t \\right)}$"
      ],
      "text/plain": [
       "Eq(Derivative(q1(t), t), 0.5*omega_x(t)*q0(t) - 0.5*omega_y(t)*q3(t) + 0.5*omega_z(t)*q2(t))"
      ]
     },
     "metadata": {},
     "output_type": "display_data"
    },
    {
     "data": {
      "text/latex": [
       "$\\displaystyle \\frac{d}{d t} q_{2}{\\left(t \\right)} = 0.5 \\omega_{x}{\\left(t \\right)} q_{3}{\\left(t \\right)} + 0.5 \\omega_{y}{\\left(t \\right)} q_{0}{\\left(t \\right)} - 0.5 \\omega_{z}{\\left(t \\right)} q_{1}{\\left(t \\right)}$"
      ],
      "text/plain": [
       "Eq(Derivative(q2(t), t), 0.5*omega_x(t)*q3(t) + 0.5*omega_y(t)*q0(t) - 0.5*omega_z(t)*q1(t))"
      ]
     },
     "metadata": {},
     "output_type": "display_data"
    },
    {
     "data": {
      "text/latex": [
       "$\\displaystyle \\frac{d}{d t} q_{3}{\\left(t \\right)} = - 0.5 \\omega_{x}{\\left(t \\right)} q_{2}{\\left(t \\right)} + 0.5 \\omega_{y}{\\left(t \\right)} q_{1}{\\left(t \\right)} + 0.5 \\omega_{z}{\\left(t \\right)} q_{0}{\\left(t \\right)}$"
      ],
      "text/plain": [
       "Eq(Derivative(q3(t), t), -0.5*omega_x(t)*q2(t) + 0.5*omega_y(t)*q1(t) + 0.5*omega_z(t)*q0(t))"
      ]
     },
     "metadata": {},
     "output_type": "display_data"
    }
   ],
   "source": [
    "## Variables\n",
    "x, y, z = symbols(\"x, y, z\", cls=Function)  # Posición\n",
    "\n",
    "## Sistema de ecuaciones completo\n",
    "R = Matrix([x(t), y(t), z(t)])\n",
    "eqs_4 = mateq2list(diff(R, t), V)\n",
    "eqs = eqs_4 + eqs_1 + eqs_2 + eqs_3\n",
    "eqs_rhs = []\n",
    "for eq in eqs:\n",
    "    display(eq)\n",
    "    eqs_rhs.append(eq.rhs)"
   ]
  },
  {
   "cell_type": "code",
   "execution_count": 19,
   "metadata": {},
   "outputs": [
    {
     "data": {
      "text/latex": [
       "$\\displaystyle a^{b}_{x}{\\left(t \\right)} = \\left(- 2 q_{0}{\\left(t \\right)} q_{2}{\\left(t \\right)} + 2 q_{1}{\\left(t \\right)} q_{3}{\\left(t \\right)}\\right) a_{z}{\\left(t \\right)} + \\left(2 q_{0}{\\left(t \\right)} q_{3}{\\left(t \\right)} + 2 q_{1}{\\left(t \\right)} q_{2}{\\left(t \\right)}\\right) a_{y}{\\left(t \\right)} + \\left(2 q_{0}^{2}{\\left(t \\right)} + 2 q_{1}^{2}{\\left(t \\right)} - 1\\right) a_{x}{\\left(t \\right)}$"
      ],
      "text/plain": [
       "Eq(a_x^b(t), (-2*q0(t)*q2(t) + 2*q1(t)*q3(t))*a_z(t) + (2*q0(t)*q3(t) + 2*q1(t)*q2(t))*a_y(t) + (2*q0(t)**2 + 2*q1(t)**2 - 1)*a_x(t))"
      ]
     },
     "metadata": {},
     "output_type": "display_data"
    },
    {
     "data": {
      "text/latex": [
       "$\\displaystyle a^{b}_{y}{\\left(t \\right)} = \\left(2 q_{0}{\\left(t \\right)} q_{1}{\\left(t \\right)} + 2 q_{2}{\\left(t \\right)} q_{3}{\\left(t \\right)}\\right) a_{z}{\\left(t \\right)} + \\left(- 2 q_{0}{\\left(t \\right)} q_{3}{\\left(t \\right)} + 2 q_{1}{\\left(t \\right)} q_{2}{\\left(t \\right)}\\right) a_{x}{\\left(t \\right)} + \\left(2 q_{0}^{2}{\\left(t \\right)} + q_{2}^{2}{\\left(t \\right)} - 1\\right) a_{y}{\\left(t \\right)}$"
      ],
      "text/plain": [
       "Eq(a_y^b(t), (2*q0(t)*q1(t) + 2*q2(t)*q3(t))*a_z(t) + (-2*q0(t)*q3(t) + 2*q1(t)*q2(t))*a_x(t) + (2*q0(t)**2 + q2(t)**2 - 1)*a_y(t))"
      ]
     },
     "metadata": {},
     "output_type": "display_data"
    },
    {
     "data": {
      "text/latex": [
       "$\\displaystyle a^{b}_{z}{\\left(t \\right)} = \\left(- 2 q_{0}{\\left(t \\right)} q_{1}{\\left(t \\right)} + 2 q_{2}{\\left(t \\right)} q_{3}{\\left(t \\right)}\\right) a_{y}{\\left(t \\right)} + \\left(2 q_{0}{\\left(t \\right)} q_{2}{\\left(t \\right)} + 2 q_{1}{\\left(t \\right)} q_{3}{\\left(t \\right)}\\right) a_{x}{\\left(t \\right)} + \\left(2 q_{0}^{2}{\\left(t \\right)} + q_{3}^{2}{\\left(t \\right)} - 1\\right) a_{z}{\\left(t \\right)}$"
      ],
      "text/plain": [
       "Eq(a_z^b(t), (-2*q0(t)*q1(t) + 2*q2(t)*q3(t))*a_y(t) + (2*q0(t)*q2(t) + 2*q1(t)*q3(t))*a_x(t) + (2*q0(t)**2 + q3(t)**2 - 1)*a_z(t))"
      ]
     },
     "metadata": {},
     "output_type": "display_data"
    }
   ],
   "source": [
    "Q_IB = Transpose(Q_BI)\n",
    "abx, aby, abz = symbols(\"a_x^b, a_y^b, a_z^b\", cls=Function)\n",
    "ax, ay, az = symbols(\"a_x, a_y, a_z\", cls=Function)\n",
    "\n",
    "ab = Matrix([abx(t), aby(t), abz(t)])\n",
    "a = Matrix([ax(t), ay(t), az(t)])\n",
    "\n",
    "a2abeqs = []\n",
    "\n",
    "for eq in mateq2list(ab, Q_IB * a):\n",
    "    a2abeqs.append(eq.rhs)\n",
    "    display(eq)\n",
    "    \n",
    "a2ab = lambdify((\n",
    "    [ax(t), ay(t), az(t)],\n",
    "    [q0(t), q1(t), q2(t), q3(t)]\n",
    "    ), a2abeqs)"
   ]
  },
  {
   "cell_type": "code",
   "execution_count": 20,
   "metadata": {},
   "outputs": [],
   "source": [
    "## Sistema de ecuaciones evaluable numéricamente\n",
    "sym_ss = [x(t), y(t), z(t),\n",
    "          vx(t), vy(t), vz(t),\n",
    "          wx(t), wy(t), wz(t),\n",
    "          q0(t), q1(t), q2(t), q3(t)]\n",
    "sym_t = [T(t), T_a1(t), T_a2(t)]\n",
    "sym_pam = [m, g, l, Ix, Iy, Iz]\n",
    "sys = lambdify((sym_ss, sym_t, sym_pam), eqs_rhs)\n",
    "\n",
    "from numpy import *\n",
    "import quaternion\n",
    "#https://en.wikipedia.org/wiki/Conversion_between_quaternions_and_Euler_angles\n",
    "def euler2quat(yaw, pitch, roll):\n",
    "    cr = cos(roll * 0.5)\n",
    "    sr = sin(roll * 0.5)\n",
    "    cp = cos(pitch * 0.5)\n",
    "    sp = sin(pitch * 0.5)\n",
    "    cy = cos(yaw * 0.5)\n",
    "    sy = sin(yaw * 0.5)\n",
    "\n",
    "    q0 = cr * cp * cy + sr * sp * sy\n",
    "    q1 = sr * cp * cy - cr * sp * sy\n",
    "    q2 = cr * sp * cy + sr * cp * sy\n",
    "    q3 = cr * cp * sy - sr * sp * cy\n",
    "\n",
    "    return q0, q1, q2, q3"
   ]
  },
  {
   "cell_type": "code",
   "execution_count": 50,
   "metadata": {},
   "outputs": [
    {
     "data": {
      "text/html": [
       "<div>\n",
       "<style scoped>\n",
       "    .dataframe tbody tr th:only-of-type {\n",
       "        vertical-align: middle;\n",
       "    }\n",
       "\n",
       "    .dataframe tbody tr th {\n",
       "        vertical-align: top;\n",
       "    }\n",
       "\n",
       "    .dataframe thead th {\n",
       "        text-align: right;\n",
       "    }\n",
       "</style>\n",
       "<table border=\"1\" class=\"dataframe\">\n",
       "  <thead>\n",
       "    <tr style=\"text-align: right;\">\n",
       "      <th></th>\n",
       "      <th>t</th>\n",
       "      <th>x(t)</th>\n",
       "      <th>y(t)</th>\n",
       "      <th>z(t)</th>\n",
       "      <th>v_x(t)</th>\n",
       "      <th>v_y(t)</th>\n",
       "      <th>v_z(t)</th>\n",
       "      <th>omega_x(t)</th>\n",
       "      <th>omega_y(t)</th>\n",
       "      <th>omega_z(t)</th>\n",
       "      <th>q0(t)</th>\n",
       "      <th>q1(t)</th>\n",
       "      <th>q2(t)</th>\n",
       "      <th>q3(t)</th>\n",
       "      <th>ab_x(t)</th>\n",
       "      <th>ab_y(t)</th>\n",
       "      <th>ab_z(t)</th>\n",
       "    </tr>\n",
       "  </thead>\n",
       "  <tbody>\n",
       "    <tr>\n",
       "      <th>0</th>\n",
       "      <td>0.000000</td>\n",
       "      <td>0.000000</td>\n",
       "      <td>0.0</td>\n",
       "      <td>3.500000</td>\n",
       "      <td>-275.0</td>\n",
       "      <td>0.0</td>\n",
       "      <td>275.000000</td>\n",
       "      <td>0.0</td>\n",
       "      <td>-0.04</td>\n",
       "      <td>0.0</td>\n",
       "      <td>0.382683</td>\n",
       "      <td>0.0</td>\n",
       "      <td>-0.923880</td>\n",
       "      <td>0.0</td>\n",
       "      <td>-6.936718</td>\n",
       "      <td>0.0</td>\n",
       "      <td>6.936718</td>\n",
       "    </tr>\n",
       "    <tr>\n",
       "      <th>1</th>\n",
       "      <td>0.016672</td>\n",
       "      <td>-4.584698</td>\n",
       "      <td>0.0</td>\n",
       "      <td>8.083335</td>\n",
       "      <td>-275.0</td>\n",
       "      <td>0.0</td>\n",
       "      <td>274.836451</td>\n",
       "      <td>0.0</td>\n",
       "      <td>-0.04</td>\n",
       "      <td>0.0</td>\n",
       "      <td>0.382375</td>\n",
       "      <td>0.0</td>\n",
       "      <td>-0.924007</td>\n",
       "      <td>0.0</td>\n",
       "      <td>-6.932090</td>\n",
       "      <td>0.0</td>\n",
       "      <td>6.941342</td>\n",
       "    </tr>\n",
       "    <tr>\n",
       "      <th>2</th>\n",
       "      <td>0.033343</td>\n",
       "      <td>-9.169396</td>\n",
       "      <td>0.0</td>\n",
       "      <td>12.663942</td>\n",
       "      <td>-275.0</td>\n",
       "      <td>0.0</td>\n",
       "      <td>274.672903</td>\n",
       "      <td>0.0</td>\n",
       "      <td>-0.04</td>\n",
       "      <td>0.0</td>\n",
       "      <td>0.382067</td>\n",
       "      <td>0.0</td>\n",
       "      <td>-0.924135</td>\n",
       "      <td>0.0</td>\n",
       "      <td>-6.927460</td>\n",
       "      <td>0.0</td>\n",
       "      <td>6.945963</td>\n",
       "    </tr>\n",
       "    <tr>\n",
       "      <th>3</th>\n",
       "      <td>0.050015</td>\n",
       "      <td>-13.754093</td>\n",
       "      <td>0.0</td>\n",
       "      <td>17.241824</td>\n",
       "      <td>-275.0</td>\n",
       "      <td>0.0</td>\n",
       "      <td>274.509354</td>\n",
       "      <td>0.0</td>\n",
       "      <td>-0.04</td>\n",
       "      <td>0.0</td>\n",
       "      <td>0.381759</td>\n",
       "      <td>0.0</td>\n",
       "      <td>-0.924262</td>\n",
       "      <td>0.0</td>\n",
       "      <td>-6.922826</td>\n",
       "      <td>0.0</td>\n",
       "      <td>6.950581</td>\n",
       "    </tr>\n",
       "    <tr>\n",
       "      <th>4</th>\n",
       "      <td>0.066687</td>\n",
       "      <td>-18.338791</td>\n",
       "      <td>0.0</td>\n",
       "      <td>21.816978</td>\n",
       "      <td>-275.0</td>\n",
       "      <td>0.0</td>\n",
       "      <td>274.345805</td>\n",
       "      <td>0.0</td>\n",
       "      <td>-0.04</td>\n",
       "      <td>0.0</td>\n",
       "      <td>0.381451</td>\n",
       "      <td>0.0</td>\n",
       "      <td>-0.924389</td>\n",
       "      <td>0.0</td>\n",
       "      <td>-6.918189</td>\n",
       "      <td>0.0</td>\n",
       "      <td>6.955196</td>\n",
       "    </tr>\n",
       "    <tr>\n",
       "      <th>...</th>\n",
       "      <td>...</td>\n",
       "      <td>...</td>\n",
       "      <td>...</td>\n",
       "      <td>...</td>\n",
       "      <td>...</td>\n",
       "      <td>...</td>\n",
       "      <td>...</td>\n",
       "      <td>...</td>\n",
       "      <td>...</td>\n",
       "      <td>...</td>\n",
       "      <td>...</td>\n",
       "      <td>...</td>\n",
       "      <td>...</td>\n",
       "      <td>...</td>\n",
       "      <td>...</td>\n",
       "      <td>...</td>\n",
       "      <td>...</td>\n",
       "    </tr>\n",
       "    <tr>\n",
       "      <th>3355</th>\n",
       "      <td>55.933313</td>\n",
       "      <td>-15381.661209</td>\n",
       "      <td>0.0</td>\n",
       "      <td>39.694299</td>\n",
       "      <td>-275.0</td>\n",
       "      <td>0.0</td>\n",
       "      <td>-273.705805</td>\n",
       "      <td>0.0</td>\n",
       "      <td>-0.04</td>\n",
       "      <td>0.0</td>\n",
       "      <td>-0.663859</td>\n",
       "      <td>0.0</td>\n",
       "      <td>-0.747858</td>\n",
       "      <td>0.0</td>\n",
       "      <td>9.740783</td>\n",
       "      <td>0.0</td>\n",
       "      <td>1.163292</td>\n",
       "    </tr>\n",
       "    <tr>\n",
       "      <th>3356</th>\n",
       "      <td>55.949985</td>\n",
       "      <td>-15386.245907</td>\n",
       "      <td>0.0</td>\n",
       "      <td>35.129814</td>\n",
       "      <td>-275.0</td>\n",
       "      <td>0.0</td>\n",
       "      <td>-273.869354</td>\n",
       "      <td>0.0</td>\n",
       "      <td>-0.04</td>\n",
       "      <td>0.0</td>\n",
       "      <td>-0.664108</td>\n",
       "      <td>0.0</td>\n",
       "      <td>-0.747636</td>\n",
       "      <td>0.0</td>\n",
       "      <td>9.741557</td>\n",
       "      <td>0.0</td>\n",
       "      <td>1.156796</td>\n",
       "    </tr>\n",
       "    <tr>\n",
       "      <th>3357</th>\n",
       "      <td>55.966657</td>\n",
       "      <td>-15390.830604</td>\n",
       "      <td>0.0</td>\n",
       "      <td>30.562603</td>\n",
       "      <td>-275.0</td>\n",
       "      <td>0.0</td>\n",
       "      <td>-274.032903</td>\n",
       "      <td>0.0</td>\n",
       "      <td>-0.04</td>\n",
       "      <td>0.0</td>\n",
       "      <td>-0.664358</td>\n",
       "      <td>0.0</td>\n",
       "      <td>-0.747415</td>\n",
       "      <td>0.0</td>\n",
       "      <td>9.742326</td>\n",
       "      <td>0.0</td>\n",
       "      <td>1.150299</td>\n",
       "    </tr>\n",
       "    <tr>\n",
       "      <th>3358</th>\n",
       "      <td>55.983328</td>\n",
       "      <td>-15395.415302</td>\n",
       "      <td>0.0</td>\n",
       "      <td>25.992665</td>\n",
       "      <td>-275.0</td>\n",
       "      <td>0.0</td>\n",
       "      <td>-274.196451</td>\n",
       "      <td>0.0</td>\n",
       "      <td>-0.04</td>\n",
       "      <td>0.0</td>\n",
       "      <td>-0.664607</td>\n",
       "      <td>0.0</td>\n",
       "      <td>-0.747193</td>\n",
       "      <td>0.0</td>\n",
       "      <td>9.743091</td>\n",
       "      <td>0.0</td>\n",
       "      <td>1.143802</td>\n",
       "    </tr>\n",
       "    <tr>\n",
       "      <th>3359</th>\n",
       "      <td>56.000000</td>\n",
       "      <td>-15400.000000</td>\n",
       "      <td>0.0</td>\n",
       "      <td>21.420000</td>\n",
       "      <td>-275.0</td>\n",
       "      <td>0.0</td>\n",
       "      <td>-274.360000</td>\n",
       "      <td>0.0</td>\n",
       "      <td>-0.04</td>\n",
       "      <td>0.0</td>\n",
       "      <td>-0.664856</td>\n",
       "      <td>0.0</td>\n",
       "      <td>-0.746972</td>\n",
       "      <td>0.0</td>\n",
       "      <td>9.743851</td>\n",
       "      <td>0.0</td>\n",
       "      <td>1.137305</td>\n",
       "    </tr>\n",
       "  </tbody>\n",
       "</table>\n",
       "<p>3360 rows × 17 columns</p>\n",
       "</div>"
      ],
      "text/plain": [
       "              t          x(t)  y(t)       z(t)  v_x(t)  v_y(t)      v_z(t)   \n",
       "0      0.000000      0.000000   0.0   3.500000  -275.0     0.0  275.000000  \\\n",
       "1      0.016672     -4.584698   0.0   8.083335  -275.0     0.0  274.836451   \n",
       "2      0.033343     -9.169396   0.0  12.663942  -275.0     0.0  274.672903   \n",
       "3      0.050015    -13.754093   0.0  17.241824  -275.0     0.0  274.509354   \n",
       "4      0.066687    -18.338791   0.0  21.816978  -275.0     0.0  274.345805   \n",
       "...         ...           ...   ...        ...     ...     ...         ...   \n",
       "3355  55.933313 -15381.661209   0.0  39.694299  -275.0     0.0 -273.705805   \n",
       "3356  55.949985 -15386.245907   0.0  35.129814  -275.0     0.0 -273.869354   \n",
       "3357  55.966657 -15390.830604   0.0  30.562603  -275.0     0.0 -274.032903   \n",
       "3358  55.983328 -15395.415302   0.0  25.992665  -275.0     0.0 -274.196451   \n",
       "3359  56.000000 -15400.000000   0.0  21.420000  -275.0     0.0 -274.360000   \n",
       "\n",
       "      omega_x(t)  omega_y(t)  omega_z(t)     q0(t)  q1(t)     q2(t)  q3(t)   \n",
       "0            0.0       -0.04         0.0  0.382683    0.0 -0.923880    0.0  \\\n",
       "1            0.0       -0.04         0.0  0.382375    0.0 -0.924007    0.0   \n",
       "2            0.0       -0.04         0.0  0.382067    0.0 -0.924135    0.0   \n",
       "3            0.0       -0.04         0.0  0.381759    0.0 -0.924262    0.0   \n",
       "4            0.0       -0.04         0.0  0.381451    0.0 -0.924389    0.0   \n",
       "...          ...         ...         ...       ...    ...       ...    ...   \n",
       "3355         0.0       -0.04         0.0 -0.663859    0.0 -0.747858    0.0   \n",
       "3356         0.0       -0.04         0.0 -0.664108    0.0 -0.747636    0.0   \n",
       "3357         0.0       -0.04         0.0 -0.664358    0.0 -0.747415    0.0   \n",
       "3358         0.0       -0.04         0.0 -0.664607    0.0 -0.747193    0.0   \n",
       "3359         0.0       -0.04         0.0 -0.664856    0.0 -0.746972    0.0   \n",
       "\n",
       "       ab_x(t)  ab_y(t)   ab_z(t)  \n",
       "0    -6.936718      0.0  6.936718  \n",
       "1    -6.932090      0.0  6.941342  \n",
       "2    -6.927460      0.0  6.945963  \n",
       "3    -6.922826      0.0  6.950581  \n",
       "4    -6.918189      0.0  6.955196  \n",
       "...        ...      ...       ...  \n",
       "3355  9.740783      0.0  1.163292  \n",
       "3356  9.741557      0.0  1.156796  \n",
       "3357  9.742326      0.0  1.150299  \n",
       "3358  9.743091      0.0  1.143802  \n",
       "3359  9.743851      0.0  1.137305  \n",
       "\n",
       "[3360 rows x 17 columns]"
      ]
     },
     "metadata": {},
     "output_type": "display_data"
    }
   ],
   "source": [
    "## Integración Runge-Kutta\n",
    "# https://perso.crans.org/besson/publis/notebooks/Runge-Kutta_methods_for_ODE_integration_in_Python.html\n",
    "def rungekutta4(f, y0, t, args=()):\n",
    "    n = len(t)\n",
    "    y = zeros((n, len(y0)))\n",
    "    y[0] = y0   \n",
    "    for i in range(n - 1):\n",
    "        h = t[i+1] - t[i]\n",
    "        k1 = f(y[i], t[i], *args)\n",
    "        k2 = f(y[i] + k1 * h / 2., t[i] + h / 2., *args)\n",
    "        k3 = f(y[i] + k2 * h / 2., t[i] + h / 2., *args)\n",
    "        k4 = f(y[i] + k3 * h, t[i] + h, *args)\n",
    "        y[i+1] = y[i] + (h / 6.) * (k1 + 2*k2 + 2*k3 + k4)\n",
    "    return y\n",
    "\n",
    "\n",
    "def sys_wrap(y, t):\n",
    "    tt = array([0, 0, 0])\n",
    "    pam = array([100, 9.81, 3.5, 3.6, 103, 103])\n",
    "    return array(sys(y, tt, pam))\n",
    "\n",
    "# Vector estado\n",
    "yaw = 0\n",
    "pitch = -pi/4*3\n",
    "roll = 0\n",
    "qw, qx, qy, qz = euler2quat(yaw, pitch, roll)\n",
    "ss = array([0, 0, 3.5,\n",
    "            -275, 0, 275,\n",
    "            0, -0.04, 0,\n",
    "            qw, qx, qy, qz])\n",
    "\n",
    "seconds = 56\n",
    "frequency = 1/60\n",
    "steps = int(seconds * 1/frequency)\n",
    "timee = linspace(0, seconds, steps)\n",
    "resultado = rungekutta4(sys_wrap, ss, timee)\n",
    "tdf = pd.DataFrame(timee, columns=[\"t\"])\n",
    "rdf = pd.DataFrame(resultado, columns = sym_ss)\n",
    "\n",
    "ab2res = []\n",
    "for i in range(size(resultado,0)):\n",
    "\tab2res.append(a2ab(sys_wrap(resultado[i], timee[i])[3:6], resultado[i][9:13]))\n",
    "adf = pd.DataFrame(ab2res, columns=[\"ab_x(t)\", \"ab_y(t)\", \"ab_z(t)\"])\n",
    "\n",
    "df = tdf.join(rdf).join(adf)\n",
    "display(df)\n",
    "df.to_csv(\"resultado.csv\", index=False)"
   ]
  }
 ],
 "metadata": {
  "kernelspec": {
   "display_name": "base",
   "language": "python",
   "name": "python3"
  },
  "language_info": {
   "codemirror_mode": {
    "name": "ipython",
    "version": 3
   },
   "file_extension": ".py",
   "mimetype": "text/x-python",
   "name": "python",
   "nbconvert_exporter": "python",
   "pygments_lexer": "ipython3",
   "version": "3.9.16"
  },
  "orig_nbformat": 4
 },
 "nbformat": 4,
 "nbformat_minor": 2
}
