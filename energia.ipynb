{
 "cells": [
  {
   "cell_type": "code",
   "execution_count": 1,
   "metadata": {},
   "outputs": [],
   "source": [
    "from sympy import *"
   ]
  },
  {
   "cell_type": "code",
   "execution_count": null,
   "metadata": {},
   "outputs": [],
   "source": [
    "m = symbols(\"m\")\n",
    "g = symbols(\"g\")\n",
    "wx, wy, wz = symbols(\"omega_x, omega_y, omega_z\")\n",
    "vx, vy, vz = symbols(\"v_x, v_y, v_z\")\n",
    "Ix, Iy, Iz = symbols(\"I_x, I_y, I_z\")\n",
    "\n",
    "v = Matrix([vx, vy, vz])\n",
    "w = Matrix([wx, wy, wz])\n",
    "\n"
   ]
  }
 ],
 "metadata": {
  "kernelspec": {
   "display_name": "base",
   "language": "python",
   "name": "python3"
  },
  "language_info": {
   "codemirror_mode": {
    "name": "ipython",
    "version": 3
   },
   "file_extension": ".py",
   "mimetype": "text/x-python",
   "name": "python",
   "nbconvert_exporter": "python",
   "pygments_lexer": "ipython3",
   "version": "3.9.16"
  },
  "orig_nbformat": 4
 },
 "nbformat": 4,
 "nbformat_minor": 2
}
