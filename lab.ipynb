{
 "cells": [
  {
   "cell_type": "code",
   "execution_count": 1,
   "metadata": {},
   "outputs": [],
   "source": [
    "from sympy import *\n",
    "import numpy as np\n",
    "import k3d\n",
    "from k3d import transform\n",
    "import time\n",
    "import keyboard\n",
    "import ipywidgets as widgets\n",
    "from IPython.display import clear_output\n",
    "def mateq2list(lhs: Matrix, rhs: Matrix):\n",
    "    L = []\n",
    "    for i in range(lhs.rows):\n",
    "        L.append(Eq(lhs[i], rhs[i], evaluate=False))\n",
    "    return L"
   ]
  },
  {
   "cell_type": "code",
   "execution_count": 2,
   "metadata": {},
   "outputs": [
    {
     "data": {
      "text/latex": [
       "$\\displaystyle \\frac{d}{d t} v_{x}{\\left(t \\right)} = \\frac{\\left(- \\sin{\\left(\\phi{\\left(t \\right)} \\right)} \\sin{\\left(\\psi{\\left(t \\right)} \\right)} + \\sin{\\left(\\psi{\\left(t \\right)} \\right)} \\sin{\\left(\\theta{\\left(t \\right)} \\right)} \\cos{\\left(\\phi{\\left(t \\right)} \\right)}\\right) T{\\left(t \\right)} \\sin{\\left(T_{\\theta}{\\left(t \\right)} \\right)} \\cos{\\left(T_{\\phi}{\\left(t \\right)} \\right)} + \\left(\\sin{\\left(\\phi{\\left(t \\right)} \\right)} \\sin{\\left(\\psi{\\left(t \\right)} \\right)} + \\sin{\\left(\\theta{\\left(t \\right)} \\right)} \\cos{\\left(\\phi{\\left(t \\right)} \\right)} \\cos{\\left(\\psi{\\left(t \\right)} \\right)}\\right) T{\\left(t \\right)} \\sin{\\left(T_{\\phi}{\\left(t \\right)} \\right)} \\sin{\\left(T_{\\theta}{\\left(t \\right)} \\right)} + T{\\left(t \\right)} \\cos{\\left(T_{\\theta}{\\left(t \\right)} \\right)} \\cos{\\left(\\phi{\\left(t \\right)} \\right)} \\cos{\\left(\\theta{\\left(t \\right)} \\right)}}{m}$"
      ],
      "text/plain": [
       "Eq(Derivative(v_x(t), t), ((-sin(phi(t))*sin(psi(t)) + sin(psi(t))*sin(theta(t))*cos(phi(t)))*T(t)*sin(T_theta(t))*cos(T_phi(t)) + (sin(phi(t))*sin(psi(t)) + sin(theta(t))*cos(phi(t))*cos(psi(t)))*T(t)*sin(T_phi(t))*sin(T_theta(t)) + T(t)*cos(T_theta(t))*cos(phi(t))*cos(theta(t)))/m)"
      ]
     },
     "metadata": {},
     "output_type": "display_data"
    },
    {
     "data": {
      "text/latex": [
       "$\\displaystyle \\frac{d}{d t} v_{y}{\\left(t \\right)} = \\frac{\\left(\\sin{\\left(\\phi{\\left(t \\right)} \\right)} \\sin{\\left(\\psi{\\left(t \\right)} \\right)} \\sin{\\left(\\theta{\\left(t \\right)} \\right)} + \\sin{\\left(\\phi{\\left(t \\right)} \\right)} \\cos{\\left(\\psi{\\left(t \\right)} \\right)}\\right) T{\\left(t \\right)} \\sin{\\left(T_{\\theta}{\\left(t \\right)} \\right)} \\cos{\\left(T_{\\phi}{\\left(t \\right)} \\right)} + \\left(\\sin{\\left(\\phi{\\left(t \\right)} \\right)} \\sin{\\left(\\theta{\\left(t \\right)} \\right)} \\cos{\\left(\\psi{\\left(t \\right)} \\right)} - \\sin{\\left(\\psi{\\left(t \\right)} \\right)} \\cos{\\left(\\phi{\\left(t \\right)} \\right)}\\right) T{\\left(t \\right)} \\sin{\\left(T_{\\phi}{\\left(t \\right)} \\right)} \\sin{\\left(T_{\\theta}{\\left(t \\right)} \\right)} + T{\\left(t \\right)} \\sin{\\left(\\phi{\\left(t \\right)} \\right)} \\cos{\\left(T_{\\theta}{\\left(t \\right)} \\right)} \\cos{\\left(\\theta{\\left(t \\right)} \\right)}}{m}$"
      ],
      "text/plain": [
       "Eq(Derivative(v_y(t), t), ((sin(phi(t))*sin(psi(t))*sin(theta(t)) + sin(phi(t))*cos(psi(t)))*T(t)*sin(T_theta(t))*cos(T_phi(t)) + (sin(phi(t))*sin(theta(t))*cos(psi(t)) - sin(psi(t))*cos(phi(t)))*T(t)*sin(T_phi(t))*sin(T_theta(t)) + T(t)*sin(phi(t))*cos(T_theta(t))*cos(theta(t)))/m)"
      ]
     },
     "metadata": {},
     "output_type": "display_data"
    },
    {
     "data": {
      "text/latex": [
       "$\\displaystyle \\frac{d}{d t} v_{z}{\\left(t \\right)} = - g + \\frac{T{\\left(t \\right)} \\sin{\\left(T_{\\phi}{\\left(t \\right)} \\right)} \\sin{\\left(T_{\\theta}{\\left(t \\right)} \\right)} \\cos{\\left(\\psi{\\left(t \\right)} \\right)} \\cos{\\left(\\theta{\\left(t \\right)} \\right)} + T{\\left(t \\right)} \\sin{\\left(T_{\\theta}{\\left(t \\right)} \\right)} \\sin{\\left(\\psi{\\left(t \\right)} \\right)} \\cos{\\left(T_{\\phi}{\\left(t \\right)} \\right)} \\cos{\\left(\\theta{\\left(t \\right)} \\right)} - T{\\left(t \\right)} \\sin{\\left(\\theta{\\left(t \\right)} \\right)} \\cos{\\left(T_{\\theta}{\\left(t \\right)} \\right)}}{m}$"
      ],
      "text/plain": [
       "Eq(Derivative(v_z(t), t), -g + (T(t)*sin(T_phi(t))*sin(T_theta(t))*cos(psi(t))*cos(theta(t)) + T(t)*sin(T_theta(t))*sin(psi(t))*cos(T_phi(t))*cos(theta(t)) - T(t)*sin(theta(t))*cos(T_theta(t)))/m)"
      ]
     },
     "metadata": {},
     "output_type": "display_data"
    }
   ],
   "source": [
    "## Variables\n",
    "t = symbols(\"t\")                                                # Tiempo\n",
    "g = symbols(\"g\")                                                # Constante gravitacional\n",
    "m = symbols(\"m\")                                                # Masa del cohete\n",
    "T = symbols(\"T\", cls=Function)                                  # Empuje de propulsor\n",
    "T_a1, T_a2 = symbols(\"T_theta, T_phi\", cls=Function)            # Orientación de propulsor\n",
    "a1, a2, a3 = symbols(\"phi, theta, psi\", cls=Function)           # Orientación del cohete\n",
    "vx, vy, vz = symbols(\"v_x, v_y, v_z\", cls=Function)             # Velocidad\n",
    "\n",
    "## Ecuaciones del movimiento en traslación\n",
    "# Fuerzas Body frame\n",
    "F_B = Matrix([\n",
    "    T(t)*cos(T_a1(t)),\n",
    "    T(t)*sin(T_a1(t))*cos(T_a2(t)),\n",
    "    T(t)*sin(T_a1(t))*sin(T_a2(t))\n",
    "])\n",
    "\n",
    "# Matriz transformación de Body frame a Inertial frame\n",
    "Q_BI = Matrix([\n",
    "    [cos(a1(t))*cos(a2(t)), cos(a1(t))*sin(a2(t))*sin(a3(t))-sin(a1(t))*sin(a3(t)), cos(a1(t))*sin(a2(t))*cos(a3(t))+sin(a1(t))*sin(a3(t))],\n",
    "    [sin(a1(t))*cos(a2(t)), sin(a1(t))*sin(a2(t))*sin(a3(t))+sin(a1(t))*cos(a3(t)), sin(a1(t))*sin(a2(t))*cos(a3(t))-cos(a1(t))*sin(a3(t))],\n",
    "    [-sin(a2(t)), cos(a2(t))*sin(a3(t)), cos(a2(t))*cos(a3(t))]\n",
    "])\n",
    "\n",
    "# Segunda ley de newton\n",
    "G = Matrix([0, 0, -g])\n",
    "V = Matrix([vx(t), vy(t), vz(t)])\n",
    "eqs_1 = mateq2list(diff(V, t), G + Q_BI*F_B/m)\n",
    "for eq in eqs_1: display(eq)"
   ]
  },
  {
   "cell_type": "code",
   "execution_count": 3,
   "metadata": {},
   "outputs": [
    {
     "data": {
      "text/latex": [
       "$\\displaystyle \\frac{d}{d t} \\omega_{x}{\\left(t \\right)} = \\frac{I_{y} \\omega_{y}{\\left(t \\right)} \\omega_{z}{\\left(t \\right)} - I_{z} \\omega_{y}{\\left(t \\right)} \\omega_{z}{\\left(t \\right)}}{I_{x}}$"
      ],
      "text/plain": [
       "Eq(Derivative(omega_x(t), t), (I_y*omega_y(t)*omega_z(t) - I_z*omega_y(t)*omega_z(t))/I_x)"
      ]
     },
     "metadata": {},
     "output_type": "display_data"
    },
    {
     "data": {
      "text/latex": [
       "$\\displaystyle \\frac{d}{d t} \\omega_{y}{\\left(t \\right)} = \\frac{- I_{x} \\omega_{x}{\\left(t \\right)} \\omega_{z}{\\left(t \\right)} + I_{z} \\omega_{x}{\\left(t \\right)} \\omega_{z}{\\left(t \\right)} + \\frac{l T{\\left(t \\right)} \\sin{\\left(T_{\\phi}{\\left(t \\right)} \\right)} \\sin{\\left(T_{\\theta}{\\left(t \\right)} \\right)}}{2}}{I_{y}}$"
      ],
      "text/plain": [
       "Eq(Derivative(omega_y(t), t), (-I_x*omega_x(t)*omega_z(t) + I_z*omega_x(t)*omega_z(t) + l*T(t)*sin(T_phi(t))*sin(T_theta(t))/2)/I_y)"
      ]
     },
     "metadata": {},
     "output_type": "display_data"
    },
    {
     "data": {
      "text/latex": [
       "$\\displaystyle \\frac{d}{d t} \\omega_{z}{\\left(t \\right)} = \\frac{I_{x} \\omega_{x}{\\left(t \\right)} \\omega_{y}{\\left(t \\right)} - I_{y} \\omega_{x}{\\left(t \\right)} \\omega_{y}{\\left(t \\right)} - \\frac{l T{\\left(t \\right)} \\sin{\\left(T_{\\theta}{\\left(t \\right)} \\right)} \\cos{\\left(T_{\\phi}{\\left(t \\right)} \\right)}}{2}}{I_{z}}$"
      ],
      "text/plain": [
       "Eq(Derivative(omega_z(t), t), (I_x*omega_x(t)*omega_y(t) - I_y*omega_x(t)*omega_y(t) - l*T(t)*sin(T_theta(t))*cos(T_phi(t))/2)/I_z)"
      ]
     },
     "metadata": {},
     "output_type": "display_data"
    },
    {
     "data": {
      "text/latex": [
       "$\\displaystyle \\frac{d}{d t} \\phi{\\left(t \\right)} = \\omega_{x}{\\left(t \\right)} + \\omega_{y}{\\left(t \\right)} \\sin{\\left(\\phi{\\left(t \\right)} \\right)} \\tan{\\left(\\theta{\\left(t \\right)} \\right)} + \\omega_{z}{\\left(t \\right)} \\cos{\\left(\\phi{\\left(t \\right)} \\right)} \\tan{\\left(\\theta{\\left(t \\right)} \\right)}$"
      ],
      "text/plain": [
       "Eq(Derivative(phi(t), t), omega_x(t) + omega_y(t)*sin(phi(t))*tan(theta(t)) + omega_z(t)*cos(phi(t))*tan(theta(t)))"
      ]
     },
     "metadata": {},
     "output_type": "display_data"
    },
    {
     "data": {
      "text/latex": [
       "$\\displaystyle \\frac{d}{d t} \\theta{\\left(t \\right)} = \\omega_{y}{\\left(t \\right)} \\cos{\\left(\\phi{\\left(t \\right)} \\right)} - \\omega_{z}{\\left(t \\right)} \\sin{\\left(\\phi{\\left(t \\right)} \\right)}$"
      ],
      "text/plain": [
       "Eq(Derivative(theta(t), t), omega_y(t)*cos(phi(t)) - omega_z(t)*sin(phi(t)))"
      ]
     },
     "metadata": {},
     "output_type": "display_data"
    },
    {
     "data": {
      "text/latex": [
       "$\\displaystyle \\frac{d}{d t} \\psi{\\left(t \\right)} = \\frac{\\omega_{y}{\\left(t \\right)} \\sin{\\left(\\phi{\\left(t \\right)} \\right)}}{\\cos{\\left(\\theta{\\left(t \\right)} \\right)}} + \\frac{\\omega_{z}{\\left(t \\right)} \\cos{\\left(\\phi{\\left(t \\right)} \\right)}}{\\cos{\\left(\\theta{\\left(t \\right)} \\right)}}$"
      ],
      "text/plain": [
       "Eq(Derivative(psi(t), t), omega_y(t)*sin(phi(t))/cos(theta(t)) + omega_z(t)*cos(phi(t))/cos(theta(t)))"
      ]
     },
     "metadata": {},
     "output_type": "display_data"
    }
   ],
   "source": [
    "## Variables\n",
    "l = symbols(\"l\")                                                # Largo del cohete\n",
    "Ix, Iy, Iz = symbols(\"I_x, I_y, I_z\")                           # Momentos de inercia principales\n",
    "wx, wy, wz = symbols(\"omega_x, omega_y, omega_z\", cls=Function) # Velocidad angular Body frame\n",
    "\n",
    "## Ecuaciones del movimiento en rotación\n",
    "# Momentos Body frame\n",
    "T_R = Matrix([-l/2, 0, 0])  # Posición de propulsor respecto a centro de masa\n",
    "M_B = T_R.cross(F_B)\n",
    "\n",
    "# Ecuaciónes de euler para rotación Body frame\n",
    "I = diag(Ix, Iy, Iz)\n",
    "w = Matrix([wx(t), wy(t), wz(t)])\n",
    "eqs_2 = mateq2list(diff(w, t), I**-1*(M_B-w.cross(I*w)))\n",
    "for eq in eqs_2: display(eq)\n",
    "\n",
    "# Convertir velocidad angular Body frame a Inertial frame\n",
    "W = Matrix([a1(t), a2(t), a3(t)]).diff(t)\n",
    "Qw = Matrix([\n",
    "    [1, sin(a1(t))*tan(a2(t)), cos(a1(t))*tan(a2(t))],\n",
    "    [0, cos(a1(t)), -sin(a1(t))],\n",
    "    [0, sin(a1(t))/cos(a2(t)), cos(a1(t))/cos(a2(t))]\n",
    "])\n",
    "eqs_3 = mateq2list(W, Qw*w)\n",
    "for eq in eqs_3: display(eq)"
   ]
  },
  {
   "cell_type": "code",
   "execution_count": 4,
   "metadata": {},
   "outputs": [
    {
     "data": {
      "text/latex": [
       "$\\displaystyle \\frac{d}{d t} x{\\left(t \\right)} = v_{x}{\\left(t \\right)}$"
      ],
      "text/plain": [
       "Eq(Derivative(x(t), t), v_x(t))"
      ]
     },
     "metadata": {},
     "output_type": "display_data"
    },
    {
     "data": {
      "text/latex": [
       "$\\displaystyle \\frac{d}{d t} y{\\left(t \\right)} = v_{y}{\\left(t \\right)}$"
      ],
      "text/plain": [
       "Eq(Derivative(y(t), t), v_y(t))"
      ]
     },
     "metadata": {},
     "output_type": "display_data"
    },
    {
     "data": {
      "text/latex": [
       "$\\displaystyle \\frac{d}{d t} z{\\left(t \\right)} = v_{z}{\\left(t \\right)}$"
      ],
      "text/plain": [
       "Eq(Derivative(z(t), t), v_z(t))"
      ]
     },
     "metadata": {},
     "output_type": "display_data"
    },
    {
     "data": {
      "text/latex": [
       "$\\displaystyle \\frac{d}{d t} v_{x}{\\left(t \\right)} = \\frac{\\left(- \\sin{\\left(\\phi{\\left(t \\right)} \\right)} \\sin{\\left(\\psi{\\left(t \\right)} \\right)} + \\sin{\\left(\\psi{\\left(t \\right)} \\right)} \\sin{\\left(\\theta{\\left(t \\right)} \\right)} \\cos{\\left(\\phi{\\left(t \\right)} \\right)}\\right) T{\\left(t \\right)} \\sin{\\left(T_{\\theta}{\\left(t \\right)} \\right)} \\cos{\\left(T_{\\phi}{\\left(t \\right)} \\right)} + \\left(\\sin{\\left(\\phi{\\left(t \\right)} \\right)} \\sin{\\left(\\psi{\\left(t \\right)} \\right)} + \\sin{\\left(\\theta{\\left(t \\right)} \\right)} \\cos{\\left(\\phi{\\left(t \\right)} \\right)} \\cos{\\left(\\psi{\\left(t \\right)} \\right)}\\right) T{\\left(t \\right)} \\sin{\\left(T_{\\phi}{\\left(t \\right)} \\right)} \\sin{\\left(T_{\\theta}{\\left(t \\right)} \\right)} + T{\\left(t \\right)} \\cos{\\left(T_{\\theta}{\\left(t \\right)} \\right)} \\cos{\\left(\\phi{\\left(t \\right)} \\right)} \\cos{\\left(\\theta{\\left(t \\right)} \\right)}}{m}$"
      ],
      "text/plain": [
       "Eq(Derivative(v_x(t), t), ((-sin(phi(t))*sin(psi(t)) + sin(psi(t))*sin(theta(t))*cos(phi(t)))*T(t)*sin(T_theta(t))*cos(T_phi(t)) + (sin(phi(t))*sin(psi(t)) + sin(theta(t))*cos(phi(t))*cos(psi(t)))*T(t)*sin(T_phi(t))*sin(T_theta(t)) + T(t)*cos(T_theta(t))*cos(phi(t))*cos(theta(t)))/m)"
      ]
     },
     "metadata": {},
     "output_type": "display_data"
    },
    {
     "data": {
      "text/latex": [
       "$\\displaystyle \\frac{d}{d t} v_{y}{\\left(t \\right)} = \\frac{\\left(\\sin{\\left(\\phi{\\left(t \\right)} \\right)} \\sin{\\left(\\psi{\\left(t \\right)} \\right)} \\sin{\\left(\\theta{\\left(t \\right)} \\right)} + \\sin{\\left(\\phi{\\left(t \\right)} \\right)} \\cos{\\left(\\psi{\\left(t \\right)} \\right)}\\right) T{\\left(t \\right)} \\sin{\\left(T_{\\theta}{\\left(t \\right)} \\right)} \\cos{\\left(T_{\\phi}{\\left(t \\right)} \\right)} + \\left(\\sin{\\left(\\phi{\\left(t \\right)} \\right)} \\sin{\\left(\\theta{\\left(t \\right)} \\right)} \\cos{\\left(\\psi{\\left(t \\right)} \\right)} - \\sin{\\left(\\psi{\\left(t \\right)} \\right)} \\cos{\\left(\\phi{\\left(t \\right)} \\right)}\\right) T{\\left(t \\right)} \\sin{\\left(T_{\\phi}{\\left(t \\right)} \\right)} \\sin{\\left(T_{\\theta}{\\left(t \\right)} \\right)} + T{\\left(t \\right)} \\sin{\\left(\\phi{\\left(t \\right)} \\right)} \\cos{\\left(T_{\\theta}{\\left(t \\right)} \\right)} \\cos{\\left(\\theta{\\left(t \\right)} \\right)}}{m}$"
      ],
      "text/plain": [
       "Eq(Derivative(v_y(t), t), ((sin(phi(t))*sin(psi(t))*sin(theta(t)) + sin(phi(t))*cos(psi(t)))*T(t)*sin(T_theta(t))*cos(T_phi(t)) + (sin(phi(t))*sin(theta(t))*cos(psi(t)) - sin(psi(t))*cos(phi(t)))*T(t)*sin(T_phi(t))*sin(T_theta(t)) + T(t)*sin(phi(t))*cos(T_theta(t))*cos(theta(t)))/m)"
      ]
     },
     "metadata": {},
     "output_type": "display_data"
    },
    {
     "data": {
      "text/latex": [
       "$\\displaystyle \\frac{d}{d t} v_{z}{\\left(t \\right)} = - g + \\frac{T{\\left(t \\right)} \\sin{\\left(T_{\\phi}{\\left(t \\right)} \\right)} \\sin{\\left(T_{\\theta}{\\left(t \\right)} \\right)} \\cos{\\left(\\psi{\\left(t \\right)} \\right)} \\cos{\\left(\\theta{\\left(t \\right)} \\right)} + T{\\left(t \\right)} \\sin{\\left(T_{\\theta}{\\left(t \\right)} \\right)} \\sin{\\left(\\psi{\\left(t \\right)} \\right)} \\cos{\\left(T_{\\phi}{\\left(t \\right)} \\right)} \\cos{\\left(\\theta{\\left(t \\right)} \\right)} - T{\\left(t \\right)} \\sin{\\left(\\theta{\\left(t \\right)} \\right)} \\cos{\\left(T_{\\theta}{\\left(t \\right)} \\right)}}{m}$"
      ],
      "text/plain": [
       "Eq(Derivative(v_z(t), t), -g + (T(t)*sin(T_phi(t))*sin(T_theta(t))*cos(psi(t))*cos(theta(t)) + T(t)*sin(T_theta(t))*sin(psi(t))*cos(T_phi(t))*cos(theta(t)) - T(t)*sin(theta(t))*cos(T_theta(t)))/m)"
      ]
     },
     "metadata": {},
     "output_type": "display_data"
    },
    {
     "data": {
      "text/latex": [
       "$\\displaystyle \\frac{d}{d t} \\omega_{x}{\\left(t \\right)} = \\frac{I_{y} \\omega_{y}{\\left(t \\right)} \\omega_{z}{\\left(t \\right)} - I_{z} \\omega_{y}{\\left(t \\right)} \\omega_{z}{\\left(t \\right)}}{I_{x}}$"
      ],
      "text/plain": [
       "Eq(Derivative(omega_x(t), t), (I_y*omega_y(t)*omega_z(t) - I_z*omega_y(t)*omega_z(t))/I_x)"
      ]
     },
     "metadata": {},
     "output_type": "display_data"
    },
    {
     "data": {
      "text/latex": [
       "$\\displaystyle \\frac{d}{d t} \\omega_{y}{\\left(t \\right)} = \\frac{- I_{x} \\omega_{x}{\\left(t \\right)} \\omega_{z}{\\left(t \\right)} + I_{z} \\omega_{x}{\\left(t \\right)} \\omega_{z}{\\left(t \\right)} + \\frac{l T{\\left(t \\right)} \\sin{\\left(T_{\\phi}{\\left(t \\right)} \\right)} \\sin{\\left(T_{\\theta}{\\left(t \\right)} \\right)}}{2}}{I_{y}}$"
      ],
      "text/plain": [
       "Eq(Derivative(omega_y(t), t), (-I_x*omega_x(t)*omega_z(t) + I_z*omega_x(t)*omega_z(t) + l*T(t)*sin(T_phi(t))*sin(T_theta(t))/2)/I_y)"
      ]
     },
     "metadata": {},
     "output_type": "display_data"
    },
    {
     "data": {
      "text/latex": [
       "$\\displaystyle \\frac{d}{d t} \\omega_{z}{\\left(t \\right)} = \\frac{I_{x} \\omega_{x}{\\left(t \\right)} \\omega_{y}{\\left(t \\right)} - I_{y} \\omega_{x}{\\left(t \\right)} \\omega_{y}{\\left(t \\right)} - \\frac{l T{\\left(t \\right)} \\sin{\\left(T_{\\theta}{\\left(t \\right)} \\right)} \\cos{\\left(T_{\\phi}{\\left(t \\right)} \\right)}}{2}}{I_{z}}$"
      ],
      "text/plain": [
       "Eq(Derivative(omega_z(t), t), (I_x*omega_x(t)*omega_y(t) - I_y*omega_x(t)*omega_y(t) - l*T(t)*sin(T_theta(t))*cos(T_phi(t))/2)/I_z)"
      ]
     },
     "metadata": {},
     "output_type": "display_data"
    },
    {
     "data": {
      "text/latex": [
       "$\\displaystyle \\frac{d}{d t} \\phi{\\left(t \\right)} = \\omega_{x}{\\left(t \\right)} + \\omega_{y}{\\left(t \\right)} \\sin{\\left(\\phi{\\left(t \\right)} \\right)} \\tan{\\left(\\theta{\\left(t \\right)} \\right)} + \\omega_{z}{\\left(t \\right)} \\cos{\\left(\\phi{\\left(t \\right)} \\right)} \\tan{\\left(\\theta{\\left(t \\right)} \\right)}$"
      ],
      "text/plain": [
       "Eq(Derivative(phi(t), t), omega_x(t) + omega_y(t)*sin(phi(t))*tan(theta(t)) + omega_z(t)*cos(phi(t))*tan(theta(t)))"
      ]
     },
     "metadata": {},
     "output_type": "display_data"
    },
    {
     "data": {
      "text/latex": [
       "$\\displaystyle \\frac{d}{d t} \\theta{\\left(t \\right)} = \\omega_{y}{\\left(t \\right)} \\cos{\\left(\\phi{\\left(t \\right)} \\right)} - \\omega_{z}{\\left(t \\right)} \\sin{\\left(\\phi{\\left(t \\right)} \\right)}$"
      ],
      "text/plain": [
       "Eq(Derivative(theta(t), t), omega_y(t)*cos(phi(t)) - omega_z(t)*sin(phi(t)))"
      ]
     },
     "metadata": {},
     "output_type": "display_data"
    },
    {
     "data": {
      "text/latex": [
       "$\\displaystyle \\frac{d}{d t} \\psi{\\left(t \\right)} = \\frac{\\omega_{y}{\\left(t \\right)} \\sin{\\left(\\phi{\\left(t \\right)} \\right)}}{\\cos{\\left(\\theta{\\left(t \\right)} \\right)}} + \\frac{\\omega_{z}{\\left(t \\right)} \\cos{\\left(\\phi{\\left(t \\right)} \\right)}}{\\cos{\\left(\\theta{\\left(t \\right)} \\right)}}$"
      ],
      "text/plain": [
       "Eq(Derivative(psi(t), t), omega_y(t)*sin(phi(t))/cos(theta(t)) + omega_z(t)*cos(phi(t))/cos(theta(t)))"
      ]
     },
     "metadata": {},
     "output_type": "display_data"
    }
   ],
   "source": [
    "## Variables\n",
    "x, y, z = symbols(\"x, y, z\", cls=Function)  # Posición\n",
    "\n",
    "## Sistema de ecuaciones completo\n",
    "R = Matrix([x(t), y(t), z(t)])\n",
    "eqs_4 = mateq2list(diff(R, t), V)\n",
    "eqs = eqs_4 + eqs_1 + eqs_2 + eqs_3\n",
    "eqs_rhs = []\n",
    "for eq in eqs:\n",
    "    display(eq)\n",
    "    eqs_rhs.append(eq.rhs)"
   ]
  },
  {
   "cell_type": "code",
   "execution_count": 5,
   "metadata": {},
   "outputs": [],
   "source": [
    "from numpy import *\n",
    "\n",
    "## Sistema de ecuaciones evaluable numéricamente\n",
    "sys = lambdify(([x(t), y(t), z(t),\n",
    "                vx(t), vy(t), vz(t),\n",
    "                wx(t), wy(t), wz(t),\n",
    "                a1(t), a2(t), a3(t)],       # Vector estado\n",
    "                [T(t), T_a1(t), T_a2(t)],   # Vector propulsor\n",
    "                [m, g, l, Ix, Iy, Iz]),     # Vector parametros\n",
    "                eqs_rhs)"
   ]
  },
  {
   "cell_type": "code",
   "execution_count": 48,
   "metadata": {},
   "outputs": [
    {
     "data": {
      "application/vnd.jupyter.widget-view+json": {
       "model_id": "0f90a256039b49ce86bf76228ce3b43f",
       "version_major": 2,
       "version_minor": 0
      },
      "text/plain": [
       "Output()"
      ]
     },
     "metadata": {},
     "output_type": "display_data"
    }
   ],
   "source": [
    "# Vector estado\n",
    "#              x  y  z vx vy vz wx wy wz ya pi ro\n",
    "ss = np.array([0, 0, 0, 0, 0, 0, 0, 1, 1, 0, 0, 0])\n",
    "\n",
    "# Vector control de propulsor\n",
    "#              T a1 a2\n",
    "tt = np.array([1, 0, 0])\n",
    "\n",
    "# Vector parametros\n",
    "#                m  g  l   Ix   Iy   Iz\n",
    "pam = np.array([10, 0, 1, 0.3, 0.3, 0.3])\n",
    "\n",
    "## Simulación con metodo de Euler (flashbacks de sistemas de control)\n",
    "frog = k3d.stl(\n",
    "    open(\"Missile Toad.stl\", \"rb\").read(),\n",
    "    color=0x00ff00,\n",
    "    transform=transform(\n",
    "        scaling=[0.01,0.01,0.01]\n",
    "    )\n",
    ")\n",
    "\n",
    "vec_front = k3d.vectors([0, 0, 0], [0, 0, 1], color=0x00ff00)\n",
    "\n",
    "plot = k3d.plot()\n",
    "plot += frog\n",
    "plot += vec_front\n",
    "plot.display()\n",
    "\n",
    "def update_plot():\n",
    "    frog.transform.translation = ss[0:3]\n",
    "    vec_front.origins = ss[0:3]\n",
    "    pitch = ss[10]\n",
    "    yaw = ss[9]\n",
    "    x = cos(yaw)*cos(pitch)\n",
    "    y = sin(yaw)*cos(pitch)\n",
    "    z = sin(-pitch)\n",
    "\n",
    "    vec_front.vectors = [x, y, z]\n",
    "    vec_front.send_state()\n",
    "\n",
    "    a = np.arccos(np.dot([x, y, z], [0, 0, 1]) / np.linalg.norm([x, y, z]))\n",
    "    frog.transform.rotation = np.concatenate(([a], np.cross([0, 0, 1], [x, y, z])))\n",
    "\n",
    "h = 1/30\n",
    "lt = time.time()\n",
    "while True:\n",
    "    if keyboard.is_pressed(\"esc\"): break\n",
    "    ct = time.time()\n",
    "    if ct > lt + h:\n",
    "        ss = ss + [Y*h for Y in sys(ss, tt, pam)]\n",
    "        update_plot()\n",
    "        time.sleep(h)\n"
   ]
  },
  {
   "cell_type": "code",
   "execution_count": 10,
   "metadata": {},
   "outputs": [
    {
     "data": {
      "text/plain": [
       "array([ 0., -1.,  0.], dtype=float32)"
      ]
     },
     "execution_count": 10,
     "metadata": {},
     "output_type": "execute_result"
    }
   ],
   "source": [
    "np.concatenate"
   ]
  }
 ],
 "metadata": {
  "kernelspec": {
   "display_name": "base",
   "language": "python",
   "name": "python3"
  },
  "language_info": {
   "codemirror_mode": {
    "name": "ipython",
    "version": 3
   },
   "file_extension": ".py",
   "mimetype": "text/x-python",
   "name": "python",
   "nbconvert_exporter": "python",
   "pygments_lexer": "ipython3",
   "version": "3.9.16"
  },
  "orig_nbformat": 4
 },
 "nbformat": 4,
 "nbformat_minor": 2
}
